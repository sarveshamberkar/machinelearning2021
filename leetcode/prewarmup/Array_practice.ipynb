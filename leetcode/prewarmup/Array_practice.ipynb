{
 "cells": [
  {
   "cell_type": "markdown",
   "metadata": {},
   "source": [
    "## Write a program to reverse an array or string"
   ]
  },
  {
   "cell_type": "code",
   "execution_count": 24,
   "metadata": {},
   "outputs": [
    {
     "name": "stdout",
     "output_type": "stream",
     "text": [
      "None\n"
     ]
    }
   ],
   "source": [
    "def swap(a, b):\n",
    "    temp = a\n",
    "    a = b\n",
    "    b = temp\n",
    "    return a,b \n",
    "def reverse_array(arr:list):\n",
    "    if not type(arr) is list:\n",
    "        raise TypeError('give input as list')\n",
    "    n =0\n",
    "    length = len(arr)-1\n",
    "    while n<=len(arr)//2:\n",
    "        arr[n],arr[length] = swap(arr[n],arr[length])\n",
    "        n+=1\n",
    "        length -=1\n",
    "    return arr\n",
    "\n",
    "def reverse_array_recursion(arr,start=0, end=10):\n",
    "    if start>end:\n",
    "        return arr\n",
    "    else:\n",
    "        arr[start],arr[end]=swap(arr[start],arr[end])\n",
    "        reverse_array_recursion(arr,start+1,end-1)\n",
    "\n",
    "arr =[i for i in range(11)] \n",
    "a = reverse_array_recursion(arr,end=len(arr)-1)\n",
    "print(a)"
   ]
  },
  {
   "cell_type": "markdown",
   "metadata": {},
   "source": [
    "## Maximum and minimum of an array using minimum number of comparisons"
   ]
  },
  {
   "cell_type": "code",
   "execution_count": 8,
   "metadata": {},
   "outputs": [
    {
     "name": "stdout",
     "output_type": "stream",
     "text": [
      "{'min': 0, 'max': 31}\n"
     ]
    }
   ],
   "source": [
    "def min_max(arr):\n",
    "    if len(arr)==0:\n",
    "        raise TypeError('lenght of array is zero')\n",
    "    if len(arr)==1:\n",
    "        return{'min':arr[0],'max':arr[0]}\n",
    "    n=0\n",
    "    length = len(arr)-1\n",
    "    minimum = 999\n",
    "    maximum = -999\n",
    "    while n<=len(arr)//2:\n",
    "        if arr[n]<=arr[length]:\n",
    "            temp_min = arr[n]\n",
    "            temp_max = arr[length]\n",
    "        else:\n",
    "            temp_min = arr[length]\n",
    "            temp_max = arr[n]\n",
    "        if temp_min<minimum:\n",
    "            minimum = temp_min\n",
    "        if temp_max>maximum:\n",
    "            maximum = temp_max\n",
    "        n +=1\n",
    "        length -= 1\n",
    "    return{'min':minimum,'max':maximum}\n",
    "            \n",
    "\n",
    "\n",
    "arr =[i for i in range(11)] \n",
    "arr = [5,1,2,7,9,5,6,31,0]\n",
    "a = min_max(arr)\n",
    "print(a)"
   ]
  },
  {
   "cell_type": "markdown",
   "metadata": {},
   "source": [
    "## Kth smallest element "
   ]
  },
  {
   "cell_type": "code",
   "execution_count": null,
   "metadata": {},
   "outputs": [],
   "source": [
    "def min_max(arr, k):\n",
    "    if len(arr)==0:\n",
    "        raise TypeError('lenght of array is zero')\n",
    "    if len(arr)==1:\n",
    "        return{'min':arr[0],'max':arr[0]}\n",
    "    n=0\n",
    "    length = len(arr)-1\n",
    "    minimum = 999\n",
    "    maximum = -999\n",
    "    while n<=len(arr)//2:\n",
    "        if arr[n]<=arr[length]:\n",
    "            temp_min = arr[n]\n",
    "            temp_max = arr[length]\n",
    "        else:\n",
    "            temp_min = arr[length]\n",
    "            temp_max = arr[n]\n",
    "        if temp_min<minimum:\n",
    "            minimum = temp_min\n",
    "        if temp_max>maximum:\n",
    "            maximum = temp_max\n",
    "        n +=1\n",
    "        length -= 1\n",
    "    return{'min':minimum,'max':maximum}\n",
    "            \n",
    "arr =[i for i in range(11)] \n",
    "arr = [5,1,2,7,9,5,6,31,0]\n",
    "a = min_max(arr,k=2)\n",
    "print(a)"
   ]
  }
 ],
 "metadata": {
  "kernelspec": {
   "display_name": "gpu",
   "language": "python",
   "name": "gpu"
  },
  "language_info": {
   "codemirror_mode": {
    "name": "ipython",
    "version": 3
   },
   "file_extension": ".py",
   "mimetype": "text/x-python",
   "name": "python",
   "nbconvert_exporter": "python",
   "pygments_lexer": "ipython3",
   "version": "3.7.9"
  },
  "varInspector": {
   "cols": {
    "lenName": 16,
    "lenType": 16,
    "lenVar": 40
   },
   "kernels_config": {
    "python": {
     "delete_cmd_postfix": "",
     "delete_cmd_prefix": "del ",
     "library": "var_list.py",
     "varRefreshCmd": "print(var_dic_list())"
    },
    "r": {
     "delete_cmd_postfix": ") ",
     "delete_cmd_prefix": "rm(",
     "library": "var_list.r",
     "varRefreshCmd": "cat(var_dic_list()) "
    }
   },
   "types_to_exclude": [
    "module",
    "function",
    "builtin_function_or_method",
    "instance",
    "_Feature"
   ],
   "window_display": false
  }
 },
 "nbformat": 4,
 "nbformat_minor": 4
}
