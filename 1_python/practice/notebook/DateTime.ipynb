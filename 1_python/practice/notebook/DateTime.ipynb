{
 "cells": [
  {
   "cell_type": "code",
   "execution_count": 6,
   "metadata": {},
   "outputs": [
    {
     "name": "stdout",
     "output_type": "stream",
     "text": [
      "2021-04-12\n"
     ]
    }
   ],
   "source": [
    "import datetime\n",
    "datetime.date(2021,4,12)"
   ]
  },
  {
   "cell_type": "code",
   "execution_count": 8,
   "metadata": {},
   "outputs": [
    {
     "name": "stdout",
     "output_type": "stream",
     "text": [
      "6\n",
      "7\n"
     ]
    }
   ],
   "source": [
    "tday = datetime.date.today()\n",
    "print(tday.weekday())# monday = 0 -sunday = 6\n",
    "print(tday.isoweekday())# monday = 1 - sunday = 7"
   ]
  },
  {
   "cell_type": "code",
   "execution_count": 10,
   "metadata": {},
   "outputs": [
    {
     "data": {
      "text/plain": [
       "datetime.date(2021, 5, 16)"
      ]
     },
     "execution_count": 10,
     "metadata": {},
     "output_type": "execute_result"
    }
   ],
   "source": [
    "ndays = datetime.timedelta(days = 7)\n",
    "tday+ndays"
   ]
  },
  {
   "cell_type": "code",
   "execution_count": null,
   "metadata": {},
   "outputs": [],
   "source": [
    "import datetime\n",
    "import pytz\n",
    "\n",
    "# Naive\n",
    "# d = datetime.date(2001, 9, 11)\n",
    "\n",
    "tday = datetime.date.today()\n",
    "\n",
    "\n",
    "# weekday() - Monday is 0 and Sunday is 6\n",
    "# print(tday)\n",
    "\n",
    "# isoweekday() - Monday is 1 and Sunday is 7\n",
    "# print(tday)\n",
    "\n",
    "\n",
    "# datetime.timedelta(days=0, seconds=0, microseconds=0, milliseconds=0, minutes=0, hours=0, weeks=0)\n",
    "\n",
    "tdelta = datetime.timedelta(hours=12)\n",
    "\n",
    "# print(tday + tdelta)\n",
    "\n",
    "# date2 = date1 + timedelta\n",
    "# timedelta = date1 + date2\n",
    "\n",
    "bday = datetime.date(2016, 9, 24)\n",
    "\n",
    "till_bday = bday - tday\n",
    "\n",
    "# print(till_bday.days)\n",
    "\n",
    "t = datetime.time(9, 30, 45, 100000)\n",
    "\n",
    "# dt = datetime.datetime.today()\n",
    "# dtnow = datetime.datetime.now()\n",
    "# print(dir(datetime.datetime))\n",
    "# print(dt)\n",
    "# print(dtnow)\n",
    "\n",
    "dt = datetime.datetime(2016, 7, 24, 12, 30, 45, tzinfo=pytz.UTC)\n",
    "# print(dir(dt))\n",
    "\n",
    "dt_utcnow = datetime.datetime.now(tz=pytz.UTC)\n",
    "# print(dt_utcnow)\n",
    "\n",
    "dt_utcnow2 = datetime.datetime.utcnow().replace(tzinfo=pytz.UTC)\n",
    "# print(dt_utcnow2)\n",
    "\n",
    "# dt_mtn = dt_utcnow.astimezone(pytz.timezone('US/Mountain'))\n",
    "# print(dt_mtn)\n",
    "\n",
    "dt_mtn = datetime.datetime.now()\n",
    "\n",
    "mtn_tz = pytz.timezone('US/Mountain')\n",
    "dt_mtn = mtn_tz.localize(dt_mtn)\n",
    "\n",
    "# print(dt_mtn)\n",
    "\n",
    "dt_east = dt_mtn.astimezone(pytz.timezone('US/Eastern'))\n",
    "# print(dt_east)\n",
    "\n",
    "# print(dt_mtn.strftime('%B %d, %Y'))\n",
    "\n",
    "dt_str = 'July 24, 2016'\n",
    "dt = datetime.datetime.strptime(dt_str, '%B %d, %Y')\n",
    "# print(dt)\n",
    "# strftime - Datetime to String\n",
    "# strptime - String to Datetime"
   ]
  }
 ],
 "metadata": {
  "kernelspec": {
   "display_name": "gpu",
   "language": "python",
   "name": "gpu"
  },
  "language_info": {
   "codemirror_mode": {
    "name": "ipython",
    "version": 3
   },
   "file_extension": ".py",
   "mimetype": "text/x-python",
   "name": "python",
   "nbconvert_exporter": "python",
   "pygments_lexer": "ipython3",
   "version": "3.7.9"
  },
  "varInspector": {
   "cols": {
    "lenName": 16,
    "lenType": 16,
    "lenVar": 40
   },
   "kernels_config": {
    "python": {
     "delete_cmd_postfix": "",
     "delete_cmd_prefix": "del ",
     "library": "var_list.py",
     "varRefreshCmd": "print(var_dic_list())"
    },
    "r": {
     "delete_cmd_postfix": ") ",
     "delete_cmd_prefix": "rm(",
     "library": "var_list.r",
     "varRefreshCmd": "cat(var_dic_list()) "
    }
   },
   "types_to_exclude": [
    "module",
    "function",
    "builtin_function_or_method",
    "instance",
    "_Feature"
   ],
   "window_display": false
  }
 },
 "nbformat": 4,
 "nbformat_minor": 4
}
