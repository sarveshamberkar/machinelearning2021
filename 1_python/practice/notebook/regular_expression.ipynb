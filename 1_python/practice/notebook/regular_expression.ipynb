{
 "cells": [
  {
   "cell_type": "code",
   "execution_count": 3,
   "metadata": {},
   "outputs": [
    {
     "name": "stdout",
     "output_type": "stream",
     "text": [
      "\tI am \n",
      " Iron Man\n",
      "none formated string below\n",
      "\\tI am \\n Iron Man\n"
     ]
    }
   ],
   "source": [
    "import re\n",
    "# Raw string in python just add r before qoutes\n",
    "#example\n",
    "print('\\tI am \\n Iron Man')\n",
    "print('none formated string below')\n",
    "print(r'\\tI am \\n Iron Man')"
   ]
  },
  {
   "cell_type": "code",
   "execution_count": 37,
   "metadata": {},
   "outputs": [],
   "source": [
    "text_to_search = '''\n",
    "abcdefghijklmnopqurtuvwxyz\n",
    "ABCDEFGHIJKLMNOPQRSTUVWXYZ\n",
    "1234567890\n",
    "Ha HaHa\n",
    "MetaCharacters (Need to be escaped):\n",
    ". ^ $ * + ? { } [ ] \\ | ( )\n",
    "coreyms.com\n",
    "321--555-4321\n",
    "123.555.1234\n",
    "123*555*1234\n",
    "800-555-1234\n",
    "900-555-1234\n",
    "Mr. Schafer\n",
    "Mr Smith\n",
    "Ms Davis\n",
    "Mrs. Robinson\n",
    "Mr. T\n",
    "'''"
   ]
  },
  {
   "cell_type": "markdown",
   "metadata": {},
   "source": [
    "```\n",
    ".       - Any Character Except New Line\n",
    "\\d      - Digit (0-9)\n",
    "\\D      - Not a Digit (0-9)\n",
    "\\w      - Word Character (a-z, A-Z, 0-9, _)\n",
    "\\W      - Not a Word Character\n",
    "\\s      - Whitespace (space, tab, newline)\n",
    "\\S      - Not Whitespace (space, tab, newline)\n",
    "\n",
    "\\b      - Word Boundary which mean word searching a word as whole and not as sequence\n",
    "\\B      - Not a Word Boundary which mean word searching  as a sequence not as whole word\n",
    "^       - Beginning of a String\n",
    "$       - End of a String\n",
    "\n",
    "[]      - Matches Characters in brackets\n",
    "[^ ]    - Matches Characters NOT in brackets\n",
    "|       - Either Or\n",
    "( )     - Group\n",
    "\n",
    "Quantifiers:\n",
    "*       - 0 or More\n",
    "+       - 1 or More\n",
    "?       - 0 or One\n",
    "{3}     - Exact Number\n",
    "{3,4}   - Range of Numbers (Minimum, Maximum)\n",
    "\n",
    "\n",
    "#### Sample Regexs ####\n",
    "\n",
    "[a-zA-Z0-9_.+-]+@[a-zA-Z0-9-]+\\.[a-zA-Z0-9-.]+\n",
    "```"
   ]
  },
  {
   "cell_type": "code",
   "execution_count": 16,
   "metadata": {
    "scrolled": true
   },
   "outputs": [
    {
     "name": "stdout",
     "output_type": "stream",
     "text": [
      "<re.Match object; span=(56, 57), match='2'>\n",
      "<re.Match object; span=(152, 153), match='2'>\n",
      "<re.Match object; span=(161, 162), match='2'>\n",
      "<re.Match object; span=(165, 166), match='2'>\n",
      "<re.Match object; span=(173, 174), match='2'>\n",
      "<re.Match object; span=(178, 179), match='2'>\n",
      "<re.Match object; span=(186, 187), match='2'>\n",
      "<re.Match object; span=(199, 200), match='2'>\n",
      "<re.Match object; span=(212, 213), match='2'>\n"
     ]
    }
   ],
   "source": [
    "# re.compile will perform find pattern and store formate in a variable which can be reused to find the pattern\n",
    "sentence ='start sentence and then bring it to an end'\n",
    "pattern = re.compile(r'2')\n",
    "matched = pattern.finditer(text_to_search)\n",
    "for match in matched:\n",
    "    print(match)"
   ]
  },
  {
   "cell_type": "code",
   "execution_count": 60,
   "metadata": {},
   "outputs": [
    {
     "name": "stdout",
     "output_type": "stream",
     "text": [
      "enter a number6\n",
      "<re.Match object; span=(217, 228), match='Mr. Schafer'>\n",
      "Mr. Schafer\n",
      "<re.Match object; span=(229, 237), match='Mr Smith'>\n",
      "Mr Smith\n",
      "<re.Match object; span=(238, 246), match='Ms Davis'>\n",
      "Ms Davis\n",
      "<re.Match object; span=(247, 260), match='Mrs. Robinson'>\n",
      "Mrs. Robinson\n",
      "<re.Match object; span=(261, 266), match='Mr. T'>\n",
      "Mr. T\n"
     ]
    }
   ],
   "source": [
    "# matching phone numbers\n",
    "a = int(input('enter a number'))\n",
    "# One to match any character in between\n",
    "# two for only '.' in between phone number\n",
    "# three for dash in between\n",
    "# introduced [] for or statment eg:[89] means 8 or 9\n",
    "if (a ==1):\n",
    "    pattern = re.compile(r'\\d\\d\\d.\\d\\d\\d.\\d\\d\\d')\n",
    "    matched = pattern.finditer(text_to_search)\n",
    "    for match in matched:\n",
    "        print(match)\n",
    "        print(text_to_search[match.span()[0]:match.span()[1]])\n",
    "\n",
    "if (a ==2):\n",
    "    pattern = re.compile(r'\\d\\d\\d\\.\\d\\d\\d\\.\\d\\d\\d')\n",
    "    matched = pattern.finditer(text_to_search)\n",
    "    for match in matched:\n",
    "        print(match)\n",
    "        print(text_to_search[match.span()[0]:match.span()[1]])\n",
    "\n",
    "if (a ==3):\n",
    "    pattern = re.compile(r'\\d\\d\\d-\\d\\d\\d-\\d\\d\\d')\n",
    "    matched = pattern.finditer(text_to_search)\n",
    "    for match in matched:\n",
    "        print(match)\n",
    "        print(text_to_search[match.span()[0]:match.span()[1]])\n",
    "        \n",
    "        \n",
    "if (a ==4):\n",
    "    pattern = re.compile(r'\\d\\d\\d[-.]\\d\\d\\d[-.]\\d\\d\\d')\n",
    "    matched = pattern.finditer(text_to_search)\n",
    "    for match in matched:\n",
    "        print(match)\n",
    "        print(text_to_search[match.span()[0]:match.span()[1]])\n",
    "if (a ==5):\n",
    "    pattern = re.compile(r'\\d{3}.\\d{3}.\\d{4}')\n",
    "    matched = pattern.finditer(text_to_search)\n",
    "    for match in matched:\n",
    "        print(match)\n",
    "        print(text_to_search[match.span()[0]:match.span()[1]])\n",
    "if (a ==6):\n",
    "    \"\"\" searching names\"\"\"\n",
    "    pattern = re.compile(r'Mr?[r?s?]\\.? ?\\w*')\n",
    "    matched = pattern.finditer(text_to_search)\n",
    "    for match in matched:\n",
    "        print(match)\n",
    "        print(text_to_search[match.span()[0]:match.span()[1]])\n",
    "if (a ==7):\n",
    "    \"\"\" Grouping in regular expression\"\"\"\n",
    "    pattern = re.compile(r'Mr?[r?s?]\\.? ?\\w*')\n",
    "    matched = pattern.finditer(text_to_search)\n",
    "    for match in matched:\n",
    "        print(match)\n",
    "        print(text_to_search[match.span()[0]:match.span()[1]])\n"
   ]
  },
  {
   "cell_type": "code",
   "execution_count": 32,
   "metadata": {},
   "outputs": [
    {
     "name": "stdout",
     "output_type": "stream",
     "text": [
      "['Dave Martin\\n', '615-555-7164\\n', '173 Main St., Springfield RI 55924\\n', 'davemartin@bogusemail.com\\n', '\\n', 'Charles Harris\\n', '800-555-5669\\n', '969 High St., Atlantis VA 34075\\n', 'charlesharris@bogusemail.com\\n', '\\n', 'Eric Williams\\n', '560-555-5153\\n', '806 1st St., Faketown AK 86847\\n', 'laurawilliams@bogusemail.com\\n', '\\n', 'Corey Jefferson\\n', '900-555-9340\\n', '826 Elm St., Epicburg NE 10671\\n', 'coreyjefferson@bogusemail.com\\n', '\\n', 'Jennifer Martin-White\\n', '714-555-7405\\n', '212 Cedar St., Sunnydale CT 74983\\n', 'jenniferwhite@bogusemail.com\\n', '\\n', 'Erick Davis\\n', '800-555-6771\\n', '519 Washington St., Olympus TN 32425\\n', 'tomdavis@bogusemail.com\\n', '\\n', 'Neil Patterson\\n', '783-555-4799\\n', '625 Oak St., Dawnstar IL 61914\\n', 'neilpatterson@bogusemail.com']\n"
     ]
    }
   ],
   "source": [
    "try:\n",
    "    with open(file='for_regular_expression.txt',mode='r+',encoding='utf-8') as f:\n",
    "        print(f.readlines())\n",
    "except Exception as e:\n",
    "    print(e)"
   ]
  },
  {
   "cell_type": "code",
   "execution_count": 64,
   "metadata": {},
   "outputs": [
    {
     "data": {
      "text/plain": [
       "'Assignment_1()'"
      ]
     },
     "execution_count": 64,
     "metadata": {},
     "output_type": "execute_result"
    }
   ],
   "source": [
    "r'Assignment_1()'.format('sarvesh'.strip())"
   ]
  },
  {
   "cell_type": "code",
   "execution_count": 65,
   "metadata": {},
   "outputs": [],
   "source": [
    "a ='Haruto Watanabe,Haruto Watanabe,RoboCop Watanabe,sarvesh amberkar'.split(',')"
   ]
  },
  {
   "cell_type": "markdown",
   "metadata": {},
   "source": [
    "&#39;Haruto Watanabe&#39;\n",
    "&#39;Alice Watanabe&#39;\n",
    "&#39;RoboCop Watanabe&#39;\n",
    "but not the following:\n",
    "&#39;haruto Watanabe&#39; (where the first name is not capitalized)\n",
    "&#39;Mr. Watanabe&#39; (where the preceding word has a nonletter character)\n",
    "&#39;Watanabe&#39; (which has no first name)\n",
    "&#39;Haruto watanabe&#39; (where Watanabe is not capitalized)"
   ]
  },
  {
   "cell_type": "code",
   "execution_count": 76,
   "metadata": {},
   "outputs": [
    {
     "name": "stdout",
     "output_type": "stream",
     "text": [
      "<re.Match object; span=(0, 15), match='Haruto Watanabe'>\n",
      "Haruto Watanabe\n",
      "<re.Match object; span=(0, 15), match='Haruto Watanabe'>\n",
      "Haruto Watanabe\n",
      "<re.Match object; span=(0, 16), match='RoboCop Watanabe'>\n",
      "RoboCop Watanabe\n"
     ]
    }
   ],
   "source": [
    "p =re.compile(r'\\w* (Watanabe)$')\n",
    "for i in a:\n",
    "    matches = p.finditer(i)\n",
    "    for match in matches:\n",
    "        print(match)\n",
    "        print(i[match.span()[0]:match.span()[1]])"
   ]
  },
  {
   "cell_type": "code",
   "execution_count": 82,
   "metadata": {},
   "outputs": [
    {
     "name": "stdout",
     "output_type": "stream",
     "text": [
      "<re.Match object; span=(7, 16), match='carefully'>\n",
      "<class 're.Match'>\n",
      "\n",
      "['carefully', 'quickly']\n",
      "<class 'list'>\n",
      "finda\n",
      "<callable_iterator object at 0x0000022ACB2BE248>\n",
      "<class 'callable_iterator'>\n",
      "\n",
      "<re.Match object; span=(7, 16), match='carefully'>\n",
      "<class 're.Match'>\n",
      "\n",
      "<re.Match object; span=(40, 47), match='quickly'>\n",
      "<class 're.Match'>\n",
      "\n"
     ]
    }
   ],
   "source": [
    "import re\n",
    "\n",
    "text = \"He was carefully disguised but captured quickly by police.\"\n",
    "\n",
    "regEX = r\"\\w+ly\"\n",
    "pattern = re.compile(regEX)\n",
    "\n",
    "search = pattern.search(text)\n",
    "print(search)\n",
    "print(type(search))\n",
    "print()\n",
    "\n",
    "findall = pattern.findall(text)\n",
    "print(findall)\n",
    "print(type(findall))\n",
    "print(\"finda\")\n",
    "\n",
    "finditer = pattern.finditer(text)\n",
    "print(finditer)\n",
    "print(type(finditer))\n",
    "print()\n",
    "for anObject in finditer:\n",
    "    print(anObject)\n",
    "    print(type(anObject))\n",
    "    print()"
   ]
  },
  {
   "cell_type": "code",
   "execution_count": 121,
   "metadata": {},
   "outputs": [
    {
     "name": "stdout",
     "output_type": "stream",
     "text": [
      "<re.Match object; span=(0, 7), match='121,321'>\n",
      "<re.Match object; span=(0, 9), match='5,567,357'>\n",
      "<re.Match object; span=(0, 2), match='12'>\n",
      "<re.Match object; span=(0, 3), match='123'>\n"
     ]
    }
   ],
   "source": [
    "a = ['121,321','455,43,123,234','5,567,357','12','123','12,12,12']\n",
    "ma=re.compile('^\\d{1,3}(,\\d{3})*$')\n",
    "for i in a:\n",
    "    i=i.strip()\n",
    "    matches = ma.finditer(i)\n",
    "    for j in matches:\n",
    "        print(j)"
   ]
  },
  {
   "cell_type": "code",
   "execution_count": 129,
   "metadata": {},
   "outputs": [
    {
     "name": "stdout",
     "output_type": "stream",
     "text": [
      "<re.Match object; span=(0, 23), match='123.123.123.132.123.123'>\n"
     ]
    }
   ],
   "source": [
    "a = '123.123.123.132.123.123'\n",
    "ma=re.compile(r'^\\w{3}(.\\w{3})+$')\n",
    "# ma=re.compile(r'\\w')\n",
    "matches = ma.finditer(a)\n",
    "for i in matches:\n",
    "    print(i)"
   ]
  },
  {
   "cell_type": "markdown",
   "metadata": {},
   "source": [
    "### Grouping it returns in  group example"
   ]
  },
  {
   "cell_type": "code",
   "execution_count": 8,
   "metadata": {},
   "outputs": [
    {
     "data": {
      "text/plain": [
       "'415'"
      ]
     },
     "execution_count": 8,
     "metadata": {},
     "output_type": "execute_result"
    }
   ],
   "source": [
    "import re\n",
    "phoneNumRegex = re.compile(r'(\\d\\d\\d)-(\\d\\d\\d-\\d\\d\\d\\d)')\n",
    "mo = phoneNumRegex.search('My number is 415-555-4242.')\n",
    "mo.group(1)\n",
    "# mo.group(2)\n",
    "# mo.group(0)\n",
    "# mo.group()"
   ]
  },
  {
   "cell_type": "markdown",
   "metadata": {},
   "source": [
    "## python regex searches string in greedy format which means it matches longest string\n",
    "## {} and followed by question mark searches string in non greedy format matches shortes string"
   ]
  },
  {
   "cell_type": "code",
   "execution_count": 10,
   "metadata": {},
   "outputs": [
    {
     "name": "stdout",
     "output_type": "stream",
     "text": [
      "HaHaHaHaHa\n",
      "HaHaHa\n"
     ]
    }
   ],
   "source": [
    "greedyHaRegex = re.compile(r'(Ha){3,5}')\n",
    "mo1 = greedyHaRegex.search('HaHaHaHaHa')\n",
    "print(mo1.group())\n",
    "nongreedyHaRegex = re.compile(r'(Ha){3,5}?')\n",
    "mo2 = nongreedyHaRegex.search('HaHaHaHaHa')\n",
    "print(mo2.group())"
   ]
  },
  {
   "cell_type": "code",
   "execution_count": 13,
   "metadata": {},
   "outputs": [
    {
     "name": "stdout",
     "output_type": "stream",
     "text": [
      "Hahahaha\n",
      "Hahaha\n"
     ]
    }
   ],
   "source": [
    "greedyself = re.compile(r'([Hh]a){3,5}')\n",
    "nongreedyself = re.compile(r'([Hh]a){3,5}?')\n",
    "print(greedyself.search('Hahahaha').group())\n",
    "print(nongreedyself.search('Hahahaha').group())"
   ]
  },
  {
   "cell_type": "markdown",
   "metadata": {},
   "source": [
    "#### If there are groups in the regular expression, then findall() will return a list of tuples. Each tuple represents a found match, and its items are the matched strings for each group in the regex\n"
   ]
  },
  {
   "cell_type": "code",
   "execution_count": 14,
   "metadata": {},
   "outputs": [
    {
     "data": {
      "text/plain": [
       "[('415', '555-9999'), ('212', '555-0000')]"
      ]
     },
     "execution_count": 14,
     "metadata": {},
     "output_type": "execute_result"
    }
   ],
   "source": [
    "honeNumRegex = re.compile(r'(\\d\\d\\d)-(\\d\\d\\d)-(\\d\\d\\d\\d)') # has groups\n",
    "phoneNumRegex.findall('Cell: 415-555-9999 Work: 212-555-0000')"
   ]
  },
  {
   "cell_type": "markdown",
   "metadata": {},
   "source": [
    "### (.*) to stand in for that “anything.”<br>\n",
    "### The dot-star uses greedy mode<br>"
   ]
  },
  {
   "cell_type": "code",
   "execution_count": 15,
   "metadata": {},
   "outputs": [
    {
     "data": {
      "text/plain": [
       "'<To serve man> for dinner.>'"
      ]
     },
     "execution_count": 15,
     "metadata": {},
     "output_type": "execute_result"
    }
   ],
   "source": [
    "nongreedyRegex = re.compile(r'<.*?>')\n",
    "mo = nongreedyRegex.search('<To serve man> for dinner.>')\n",
    "mo.group() # <To serve man>'\n",
    "greedyRegex = re.compile(r'<.*>')\n",
    "mo = greedyRegex.search('<To serve man> for dinner.>')\n",
    "mo.group() #'<To serve man> for dinner.>'"
   ]
  },
  {
   "cell_type": "code",
   "execution_count": 26,
   "metadata": {},
   "outputs": [
    {
     "name": "stdout",
     "output_type": "stream",
     "text": [
      "/'\n"
     ]
    }
   ],
   "source": [
    "import pyinputplus as pyip\n",
    "a = pyip.inputStr(limit=3,default='hello')"
   ]
  },
  {
   "cell_type": "markdown",
   "metadata": {},
   "source": [
    "# Substituting Strings with the sub() method"
   ]
  },
  {
   "cell_type": "code",
   "execution_count": 31,
   "metadata": {},
   "outputs": [
    {
     "data": {
      "text/plain": [
       "'CENSORED gave the secret documents to CENSORED.'"
      ]
     },
     "execution_count": 31,
     "metadata": {},
     "output_type": "execute_result"
    }
   ],
   "source": [
    "namesRegex = re.compile(r'Agent \\w+')\n",
    "namesRegex.sub('CENSORED', 'Agent Alice gave the secret documents to Agent Bob.')\n",
    "#'CENSORED gave the secret documents to CENSORED.'"
   ]
  },
  {
   "cell_type": "code",
   "execution_count": null,
   "metadata": {},
   "outputs": [],
   "source": []
  }
 ],
 "metadata": {
  "kernelspec": {
   "display_name": "gpu",
   "language": "python",
   "name": "gpu"
  },
  "language_info": {
   "codemirror_mode": {
    "name": "ipython",
    "version": 3
   },
   "file_extension": ".py",
   "mimetype": "text/x-python",
   "name": "python",
   "nbconvert_exporter": "python",
   "pygments_lexer": "ipython3",
   "version": "3.7.9"
  },
  "varInspector": {
   "cols": {
    "lenName": 16,
    "lenType": 16,
    "lenVar": 40
   },
   "kernels_config": {
    "python": {
     "delete_cmd_postfix": "",
     "delete_cmd_prefix": "del ",
     "library": "var_list.py",
     "varRefreshCmd": "print(var_dic_list())"
    },
    "r": {
     "delete_cmd_postfix": ") ",
     "delete_cmd_prefix": "rm(",
     "library": "var_list.r",
     "varRefreshCmd": "cat(var_dic_list()) "
    }
   },
   "types_to_exclude": [
    "module",
    "function",
    "builtin_function_or_method",
    "instance",
    "_Feature"
   ],
   "window_display": false
  }
 },
 "nbformat": 4,
 "nbformat_minor": 4
}
