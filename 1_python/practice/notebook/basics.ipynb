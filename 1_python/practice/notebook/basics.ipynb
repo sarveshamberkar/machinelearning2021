{
 "cells": [
  {
   "cell_type": "code",
   "execution_count": 2,
   "metadata": {},
   "outputs": [],
   "source": [
    "s = 'sarvesh amberkar'"
   ]
  },
  {
   "cell_type": "code",
   "execution_count": 3,
   "metadata": {},
   "outputs": [
    {
     "data": {
      "text/plain": [
       "'sarvesh1'"
      ]
     },
     "execution_count": 3,
     "metadata": {},
     "output_type": "execute_result"
    }
   ],
   "source": [
    "s + str(1)"
   ]
  },
  {
   "cell_type": "code",
   "execution_count": 4,
   "metadata": {},
   "outputs": [
    {
     "data": {
      "text/plain": [
       "'sarveshsarveshsarveshsarveshsarveshsarveshsarveshsarveshsarveshsarvesh'"
      ]
     },
     "execution_count": 4,
     "metadata": {},
     "output_type": "execute_result"
    }
   ],
   "source": [
    "s * 10"
   ]
  },
  {
   "cell_type": "code",
   "execution_count": 5,
   "metadata": {},
   "outputs": [],
   "source": [
    "a = [1,2,3,4,'sarvesh',[5,6,7]]"
   ]
  },
  {
   "cell_type": "markdown",
   "metadata": {},
   "source": [
    "### a[start:end:step]"
   ]
  },
  {
   "cell_type": "markdown",
   "metadata": {},
   "source": [
    "**********************************************************************************\n",
    "split(): It split on every occurance of 'r' or the mentioned character in function\n",
    "**********************************************************************************"
   ]
  },
  {
   "cell_type": "code",
   "execution_count": 3,
   "metadata": {},
   "outputs": [
    {
     "data": {
      "text/plain": [
       "['sa', 'vesh ambe', 'ka', '']"
      ]
     },
     "execution_count": 3,
     "metadata": {},
     "output_type": "execute_result"
    }
   ],
   "source": [
    "s.split('r')"
   ]
  },
  {
   "cell_type": "markdown",
   "metadata": {},
   "source": [
    "*******************************************************************************\n",
    "partition(): it will split on the basis of first occurance of mention character\n",
    "note \n",
    "1)it does not have any default argument like split()#space\n",
    "2)it returns a tuple\n",
    "\n",
    "*******************************************************************************"
   ]
  },
  {
   "cell_type": "code",
   "execution_count": 5,
   "metadata": {},
   "outputs": [
    {
     "name": "stdout",
     "output_type": "stream",
     "text": [
      "('s', 'a', 'rvesh amberkar') <class 'tuple'>\n"
     ]
    }
   ],
   "source": [
    "print(s.partition('a'),type(s.partition('a')))"
   ]
  },
  {
   "cell_type": "markdown",
   "metadata": {},
   "source": [
    "***************************************************\n",
    "Find the first occurance of the character or string\n",
    "***************************************************"
   ]
  },
  {
   "cell_type": "code",
   "execution_count": 10,
   "metadata": {},
   "outputs": [
    {
     "name": "stdout",
     "output_type": "stream",
     "text": [
      "3 v\n"
     ]
    }
   ],
   "source": [
    "print(s.find('ve'),s[s.find('ve')])"
   ]
  },
  {
   "cell_type": "markdown",
   "metadata": {},
   "source": [
    "Center(): fills string centred in between with mentioned"
   ]
  },
  {
   "cell_type": "code",
   "execution_count": 14,
   "metadata": {},
   "outputs": [
    {
     "data": {
      "text/plain": [
       "'#######################lion#######################'"
      ]
     },
     "execution_count": 14,
     "metadata": {},
     "output_type": "execute_result"
    }
   ],
   "source": [
    "f = \"lion\"\n",
    "f.center(50,'#')"
   ]
  },
  {
   "cell_type": "markdown",
   "metadata": {},
   "source": [
    "******************************************************\n",
    "expandtab() : add tab it '\\t' is there in the string\n",
    "******************************************************"
   ]
  },
  {
   "cell_type": "code",
   "execution_count": 15,
   "metadata": {},
   "outputs": [
    {
     "data": {
      "text/plain": [
       "'I       am      a       lion'"
      ]
     },
     "execution_count": 15,
     "metadata": {},
     "output_type": "execute_result"
    }
   ],
   "source": [
    "f = 'I\\tam\\ta\\tlion'\n",
    "f.expandtabs()"
   ]
  },
  {
   "cell_type": "markdown",
   "metadata": {},
   "source": [
    "format(): helps you to add variable or string in a string"
   ]
  },
  {
   "cell_type": "code",
   "execution_count": 19,
   "metadata": {},
   "outputs": [
    {
     "name": "stdout",
     "output_type": "stream",
     "text": [
      "enter your first name sarvesh\n",
      "enter your last name amberkar\n"
     ]
    },
    {
     "data": {
      "text/plain": [
       "'hello, how are you sarvesh amberkar'"
      ]
     },
     "execution_count": 19,
     "metadata": {},
     "output_type": "execute_result"
    }
   ],
   "source": [
    "a = input('enter your first name ')\n",
    "b = input('enter your last name ')\n",
    "\"hello, how are you {} {}\".format(a,b) "
   ]
  },
  {
   "cell_type": "markdown",
   "metadata": {},
   "source": [
    "isfuction : there are many function which can check string according to function"
   ]
  },
  {
   "cell_type": "code",
   "execution_count": 27,
   "metadata": {},
   "outputs": [
    {
     "name": "stdout",
     "output_type": "stream",
     "text": [
      "True False\n"
     ]
    }
   ],
   "source": [
    "s= 'Sarvesh';r = 'sarvesh'\n",
    "print(s.istitle(),r.istitle())"
   ]
  },
  {
   "cell_type": "code",
   "execution_count": 29,
   "metadata": {},
   "outputs": [
    {
     "name": "stdout",
     "output_type": "stream",
     "text": [
      "[1, 2, 'a', 3, 4, 'nottheend', 5] None\n"
     ]
    }
   ],
   "source": [
    "a = [1,2,3,4]\n",
    "a.append(5) # insert data in last postion\n",
    "a.insert(2,'a')  # insert data before the index in this you cannot insert data in last index even if you give -1 then element will be \n",
    "            #inserted in second last index\n",
    "a.insert(-1,'nottheend')\n",
    "a\n"
   ]
  },
  {
   "cell_type": "code",
   "execution_count": 35,
   "metadata": {},
   "outputs": [
    {
     "data": {
      "text/plain": [
       "[5, 4, 3, 'a', 2]"
      ]
     },
     "execution_count": 35,
     "metadata": {},
     "output_type": "execute_result"
    }
   ],
   "source": [
    "a = [1,2,3,4]\n",
    "a.append(5) # insert data in last postion\n",
    "a.insert(2,'a')  # insert data before the index in this you cannot insert data in last index even if you give -1 then element will be \n",
    "                #inserted in second last index\n",
    "a[-1:0:-1]      # only shows you reverse string but does not change "
   ]
  },
  {
   "cell_type": "code",
   "execution_count": 40,
   "metadata": {},
   "outputs": [],
   "source": [
    "b = [[1,2,3,4],[5,5,6,7,8,9],[10,11,12,13]]\n",
    "a = [i[::-1] for i in b] # reversing inner list without reversing actual position of the list"
   ]
  },
  {
   "cell_type": "code",
   "execution_count": 46,
   "metadata": {},
   "outputs": [
    {
     "data": {
      "text/plain": [
       "3"
      ]
     },
     "execution_count": 46,
     "metadata": {},
     "output_type": "execute_result"
    }
   ],
   "source": [
    "a = [1,2,3,4]\n",
    "m = [2,3,4,5,6] \n",
    "m.extend(m)\n",
    "m.index(5)"
   ]
  },
  {
   "cell_type": "code",
   "execution_count": 56,
   "metadata": {},
   "outputs": [
    {
     "data": {
      "text/plain": [
       "[2, 2, 2]"
      ]
     },
     "execution_count": 56,
     "metadata": {},
     "output_type": "execute_result"
    }
   ],
   "source": [
    "[j*2 if j==1 else j for j in [i[0] for i in [[1,2,3,4,5],[1,2,4,5,6,3],[1,89,64,64,1]]]]"
   ]
  },
  {
   "cell_type": "code",
   "execution_count": 57,
   "metadata": {},
   "outputs": [
    {
     "data": {
      "text/plain": [
       "'szrvesh'"
      ]
     },
     "execution_count": 57,
     "metadata": {},
     "output_type": "execute_result"
    }
   ],
   "source": [
    "s= 'sarvesh'\n",
    "s.replace('a','z')"
   ]
  },
  {
   "cell_type": "markdown",
   "metadata": {},
   "source": [
    "*****************************************************\n",
    "\n",
    "1)this mean set does not give sorted array in return, it rearrange in some alpha numeric manner \\n\n",
    "2)cannot be addresed using indexing \n",
    "************************"
   ]
  },
  {
   "cell_type": "code",
   "execution_count": 60,
   "metadata": {},
   "outputs": [
    {
     "ename": "TypeError",
     "evalue": "'set' object is not subscriptable",
     "output_type": "error",
     "traceback": [
      "\u001b[1;31m---------------------------------------------------------------------------\u001b[0m",
      "\u001b[1;31mTypeError\u001b[0m                                 Traceback (most recent call last)",
      "\u001b[1;32m<ipython-input-60-2aa64c300737>\u001b[0m in \u001b[0;36m<module>\u001b[1;34m\u001b[0m\n\u001b[0;32m      1\u001b[0m \u001b[0ms\u001b[0m\u001b[1;33m=\u001b[0m\u001b[1;33m{\u001b[0m\u001b[1;36m4\u001b[0m\u001b[1;33m,\u001b[0m\u001b[1;36m5\u001b[0m\u001b[1;33m,\u001b[0m\u001b[1;36m6\u001b[0m\u001b[1;33m,\u001b[0m\u001b[1;36m65646\u001b[0m\u001b[1;33m,\u001b[0m\u001b[1;36m7\u001b[0m\u001b[1;33m,\u001b[0m\u001b[1;36m915616\u001b[0m\u001b[1;33m,\u001b[0m\u001b[1;36m1\u001b[0m\u001b[1;33m,\u001b[0m\u001b[1;36m51321564\u001b[0m\u001b[1;33m,\u001b[0m\u001b[1;34m'sarvesh'\u001b[0m\u001b[1;33m,\u001b[0m\u001b[1;34m'##'\u001b[0m\u001b[1;33m}\u001b[0m\u001b[1;33m\u001b[0m\u001b[1;33m\u001b[0m\u001b[0m\n\u001b[1;32m----> 2\u001b[1;33m \u001b[0ms\u001b[0m\u001b[1;33m[\u001b[0m\u001b[1;36m0\u001b[0m\u001b[1;33m]\u001b[0m\u001b[1;33m\u001b[0m\u001b[1;33m\u001b[0m\u001b[0m\n\u001b[0m",
      "\u001b[1;31mTypeError\u001b[0m: 'set' object is not subscriptable"
     ]
    }
   ],
   "source": [
    "s={4,5,6,65646,7,915616,1,51321564,'sarvesh','##'} \n",
    "s"
   ]
  },
  {
   "cell_type": "markdown",
   "metadata": {},
   "source": [
    "# Functions"
   ]
  },
  {
   "cell_type": "code",
   "execution_count": 65,
   "metadata": {},
   "outputs": [
    {
     "data": {
      "text/plain": [
       "[4, 5, 6, 9, 20]"
      ]
     },
     "execution_count": 65,
     "metadata": {},
     "output_type": "execute_result"
    }
   ],
   "source": [
    "def test(a,b,*arg,**kwargs):\n",
    "    x = list(arg)\n",
    "    y = list(kwargs.values())\n",
    "    return x+y\n",
    "test('a','b',4,5,6,s=9,t = 20)"
   ]
  },
  {
   "cell_type": "markdown",
   "metadata": {},
   "source": [
    "# Interators and iterable "
   ]
  },
  {
   "cell_type": "markdown",
   "metadata": {},
   "source": [
    "string, list ,tuple are iterable object for loops convert iterable to iterator . You can manually do it using iter() and for next element is use next(ITERATOR)"
   ]
  },
  {
   "cell_type": "code",
   "execution_count": 62,
   "metadata": {},
   "outputs": [
    {
     "name": "stdout",
     "output_type": "stream",
     "text": [
      "<class 'list'>\n",
      "<list_iterator object at 0x00000219EF8634C8>\n"
     ]
    },
    {
     "data": {
      "text/plain": [
       "1"
      ]
     },
     "execution_count": 62,
     "metadata": {},
     "output_type": "execute_result"
    }
   ],
   "source": [
    "lst = [1,2,4,8]\n",
    "print(type(lst))\n",
    "lst_iter = iter(lst)\n",
    "print(lst_iter)\n",
    "next(lst_iter)"
   ]
  },
  {
   "cell_type": "markdown",
   "metadata": {},
   "source": [
    "# Generator\n",
    "**********\n",
    "The difference is that while a return statement terminates a function entirely, yield statement pauses the function saving all its states and later continues from there on successive calls.\n",
    "\n",
    "returns value each time remembering previous value\n",
    "\n",
    "***"
   ]
  },
  {
   "cell_type": "code",
   "execution_count": 64,
   "metadata": {},
   "outputs": [
    {
     "name": "stdout",
     "output_type": "stream",
     "text": [
      "<class 'generator'> [0, 1, 8, 27, 64, 125, 216, 343, 512, 729]\n",
      "0\n",
      "1\n",
      "8\n",
      "27\n",
      "64\n",
      "125\n",
      "216\n",
      "343\n",
      "512\n",
      "729\n"
     ]
    }
   ],
   "source": [
    "def generate_cube(n):\n",
    "    for i in range(n):\n",
    "        yield i**3 # It returns generator object\n",
    "print(type(generate_cube(10)),list(generate_cube(10)))\n",
    "for i in generate_cube(10):\n",
    "    print(i)"
   ]
  },
  {
   "cell_type": "code",
   "execution_count": 102,
   "metadata": {},
   "outputs": [],
   "source": [
    "l1 = [[1,2,3],[4,5,6],['sarvesh',8,9],[1,4,'amberkar'],'demo',12.5]\n",
    "indexs = []\n",
    "for i in l1:\n",
    "    if type(i) is list:\n",
    "        lenght = len(i)\n",
    "        c = 0\n",
    "\n",
    "        while lenght>0:\n",
    "            if type(i[c]) is str:\n",
    "                indexs.append((l1.index(i),c))\n",
    "#                 i.remove(i[c])\n",
    "            c+=1\n",
    "            lenght -=1\n",
    "#             lenght = max(0,lenght)\n",
    "                \n",
    "for i in indexs:\n",
    "    \n",
    "    l1[i[0]].remove(l1[i[0]][i[1]])"
   ]
  },
  {
   "cell_type": "markdown",
   "metadata": {},
   "source": [
    "# complex LIST comprehension"
   ]
  },
  {
   "cell_type": "code",
   "execution_count": 106,
   "metadata": {},
   "outputs": [
    {
     "name": "stdout",
     "output_type": "stream",
     "text": [
      "['yes', 'test', 'yes', 'no', 'yes', 'test', 'yes', 'test', 'yes', 'no', 'yes', 'test', 'yes', 'test', 'yes', 'no', 'yes', 'test', 'yes', 'test', 'yes', 'no', 'yes', 'test', 'yes', 'test', 'yes', 'no', 'yes', 'test', 'yes', 'test', 'yes', 'no', 'yes', 'test', 'yes', 'test', 'yes', 'no', 'yes', 'test', 'yes', 'test', 'yes', 'no', 'yes', 'test', 'yes', 'test', 'yes', 'no', 'yes', 'test', 'yes', 'test', 'yes', 'no', 'yes', 'test', 'yes', 'test', 'yes', 'no', 'yes', 'test', 'yes', 'test', 'yes', 'no', 'yes', 'test', 'yes', 'test', 'yes', 'no', 'yes', 'test', 'yes', 'test', 'yes', 'no', 'yes', 'test', 'yes', 'test', 'yes', 'no', 'yes', 'test', 'yes', 'test', 'yes', 'no', 'yes', 'test', 'yes', 'test', 'yes', 'no'] [0, 6]\n"
     ]
    }
   ],
   "source": [
    "b = [i for i in range(10) if i%2==0 if i%3==0] # cannot put else here\n",
    "a = ['yes' if i%2==0 else 'no' if i%3==0 else 'test' for i in range(100)]\n",
    "print(a,b)"
   ]
  },
  {
   "cell_type": "code",
   "execution_count": 107,
   "metadata": {},
   "outputs": [],
   "source": [
    "a = 'Data science is an interdisciplinary field focused on extracting knowledge from data sets, which are typically large (see big data), and applying the knowledge and actionable insights from data to solve problems in a wide range of application domains.[6] The field encompasses preparing data for analysis, formulating data science problems, analyzing data, developing data-driven solutions, and presenting findings to inform high-level decisions in a broad range of application domains. As such, it incorporates skills from computer science, statistics, information science, mathematics, information visualization, data integration, graphic design, complex systems, communication and business.[7][8] Statistician Nathan Yau, drawing on Ben Fry, also links data science to human-computer interaction: users should be able to intuitively control and explore data.[9][10] In 2015, the American Statistical Association identified database management, statistics and machine learning, and distributed and parallel systems as the three emerging foundational professional communities.[11]'"
   ]
  },
  {
   "cell_type": "code",
   "execution_count": 109,
   "metadata": {},
   "outputs": [
    {
     "data": {
      "text/plain": [
       "{'Data': 'sarvesh',\n",
       " 'science': 'sarvesh',\n",
       " 'is': 'sarvesh',\n",
       " 'an': 'sarvesh',\n",
       " 'interdisciplinary': 'sarvesh',\n",
       " 'field': 'sarvesh',\n",
       " 'focused': 'sarvesh',\n",
       " 'on': 'sarvesh',\n",
       " 'extracting': 'sarvesh',\n",
       " 'knowledge': 'sarvesh',\n",
       " 'from': 'sarvesh',\n",
       " 'data': 'sarvesh',\n",
       " 'sets,': 'sarvesh',\n",
       " 'which': 'sarvesh',\n",
       " 'are': 'sarvesh',\n",
       " 'typically': 'sarvesh',\n",
       " 'large': 'sarvesh',\n",
       " '(see': 'sarvesh',\n",
       " 'big': 'sarvesh',\n",
       " 'data),': 'sarvesh',\n",
       " 'and': 'sarvesh',\n",
       " 'applying': 'sarvesh',\n",
       " 'the': 'sarvesh',\n",
       " 'actionable': 'sarvesh',\n",
       " 'insights': 'sarvesh',\n",
       " 'to': 'sarvesh',\n",
       " 'solve': 'sarvesh',\n",
       " 'problems': 'sarvesh',\n",
       " 'in': 'sarvesh',\n",
       " 'a': 'sarvesh',\n",
       " 'wide': 'sarvesh',\n",
       " 'range': 'sarvesh',\n",
       " 'of': 'sarvesh',\n",
       " 'application': 'sarvesh',\n",
       " 'domains.[6]': 'sarvesh',\n",
       " 'The': 'sarvesh',\n",
       " 'encompasses': 'sarvesh',\n",
       " 'preparing': 'sarvesh',\n",
       " 'for': 'sarvesh',\n",
       " 'analysis,': 'sarvesh',\n",
       " 'formulating': 'sarvesh',\n",
       " 'problems,': 'sarvesh',\n",
       " 'analyzing': 'sarvesh',\n",
       " 'data,': 'sarvesh',\n",
       " 'developing': 'sarvesh',\n",
       " 'data-driven': 'sarvesh',\n",
       " 'solutions,': 'sarvesh',\n",
       " 'presenting': 'sarvesh',\n",
       " 'findings': 'sarvesh',\n",
       " 'inform': 'sarvesh',\n",
       " 'high-level': 'sarvesh',\n",
       " 'decisions': 'sarvesh',\n",
       " 'broad': 'sarvesh',\n",
       " 'domains.': 'sarvesh',\n",
       " 'As': 'sarvesh',\n",
       " 'such,': 'sarvesh',\n",
       " 'it': 'sarvesh',\n",
       " 'incorporates': 'sarvesh',\n",
       " 'skills': 'sarvesh',\n",
       " 'computer': 'sarvesh',\n",
       " 'science,': 'sarvesh',\n",
       " 'statistics,': 'sarvesh',\n",
       " 'information': 'sarvesh',\n",
       " 'mathematics,': 'sarvesh',\n",
       " 'visualization,': 'sarvesh',\n",
       " 'integration,': 'sarvesh',\n",
       " 'graphic': 'sarvesh',\n",
       " 'design,': 'sarvesh',\n",
       " 'complex': 'sarvesh',\n",
       " 'systems,': 'sarvesh',\n",
       " 'communication': 'sarvesh',\n",
       " 'business.[7][8]': 'sarvesh',\n",
       " 'Statistician': 'sarvesh',\n",
       " 'Nathan': 'sarvesh',\n",
       " 'Yau,': 'sarvesh',\n",
       " 'drawing': 'sarvesh',\n",
       " 'Ben': 'sarvesh',\n",
       " 'Fry,': 'sarvesh',\n",
       " 'also': 'sarvesh',\n",
       " 'links': 'sarvesh',\n",
       " 'human-computer': 'sarvesh',\n",
       " 'interaction:': 'sarvesh',\n",
       " 'users': 'sarvesh',\n",
       " 'should': 'sarvesh',\n",
       " 'be': 'sarvesh',\n",
       " 'able': 'sarvesh',\n",
       " 'intuitively': 'sarvesh',\n",
       " 'control': 'sarvesh',\n",
       " 'explore': 'sarvesh',\n",
       " 'data.[9][10]': 'sarvesh',\n",
       " 'In': 'sarvesh',\n",
       " '2015,': 'sarvesh',\n",
       " 'American': 'sarvesh',\n",
       " 'Statistical': 'sarvesh',\n",
       " 'Association': 'sarvesh',\n",
       " 'identified': 'sarvesh',\n",
       " 'database': 'sarvesh',\n",
       " 'management,': 'sarvesh',\n",
       " 'statistics': 'sarvesh',\n",
       " 'machine': 'sarvesh',\n",
       " 'learning,': 'sarvesh',\n",
       " 'distributed': 'sarvesh',\n",
       " 'parallel': 'sarvesh',\n",
       " 'systems': 'sarvesh',\n",
       " 'as': 'sarvesh',\n",
       " 'three': 'sarvesh',\n",
       " 'emerging': 'sarvesh',\n",
       " 'foundational': 'sarvesh',\n",
       " 'professional': 'sarvesh',\n",
       " 'communities.[11]': 'sarvesh'}"
      ]
     },
     "execution_count": 109,
     "metadata": {},
     "output_type": "execute_result"
    }
   ],
   "source": [
    "diction= {i:'sarvesh' for i in a.split()}\n",
    "diction"
   ]
  },
  {
   "cell_type": "markdown",
   "metadata": {},
   "source": [
    "### fattening a list"
   ]
  },
  {
   "cell_type": "code",
   "execution_count": 123,
   "metadata": {},
   "outputs": [
    {
     "data": {
      "text/plain": [
       "[1, 4, 1, 25, 1]"
      ]
     },
     "execution_count": 123,
     "metadata": {},
     "output_type": "execute_result"
    }
   ],
   "source": [
    "[j for i in [[1,2,4],[1,25,2,1,2]] for j in i if j!=2]\n"
   ]
  },
  {
   "cell_type": "markdown",
   "metadata": {},
   "source": [
    "# lamda function"
   ]
  },
  {
   "cell_type": "markdown",
   "metadata": {},
   "source": [
    "n = lambda arg1,arg2 : return something"
   ]
  },
  {
   "cell_type": "code",
   "execution_count": 1,
   "metadata": {},
   "outputs": [
    {
     "data": {
      "text/plain": [
       "30"
      ]
     },
     "execution_count": 1,
     "metadata": {},
     "output_type": "execute_result"
    }
   ],
   "source": [
    "n = lambda a ,b :a+b\n",
    "n(10,20)"
   ]
  },
  {
   "cell_type": "markdown",
   "metadata": {},
   "source": [
    "# file operation"
   ]
  },
  {
   "cell_type": "code",
   "execution_count": 7,
   "metadata": {},
   "outputs": [],
   "source": [
    "f = open('TestFile.txt',mode='w') # already present"
   ]
  },
  {
   "cell_type": "markdown",
   "metadata": {},
   "source": [
    "f.write('my name is sarvesh') # if open in write mode but you cannot read in write mode<br>\n",
    "f.read() # reads entire file if open in read mode u cannot write<br>\n",
    "f.seek(10) # reads and puts the cursor on 10th line in this case and we perform <b>f.read()</b> it will read from that line onward"
   ]
  },
  {
   "cell_type": "code",
   "execution_count": 9,
   "metadata": {},
   "outputs": [
    {
     "data": {
      "text/plain": [
       "<_io.TextIOWrapper name='test.txt' mode='w' encoding='cp1252'>"
      ]
     },
     "execution_count": 9,
     "metadata": {},
     "output_type": "execute_result"
    }
   ],
   "source": [
    "open('test.txt',mode='w')\n"
   ]
  },
  {
   "cell_type": "code",
   "execution_count": null,
   "metadata": {},
   "outputs": [],
   "source": [
    "# os.chdir for changing current directory"
   ]
  }
 ],
 "metadata": {
  "kernelspec": {
   "display_name": "gpu",
   "language": "python",
   "name": "gpu"
  },
  "language_info": {
   "codemirror_mode": {
    "name": "ipython",
    "version": 3
   },
   "file_extension": ".py",
   "mimetype": "text/x-python",
   "name": "python",
   "nbconvert_exporter": "python",
   "pygments_lexer": "ipython3",
   "version": "3.7.9"
  },
  "varInspector": {
   "cols": {
    "lenName": 16,
    "lenType": 16,
    "lenVar": 40
   },
   "kernels_config": {
    "python": {
     "delete_cmd_postfix": "",
     "delete_cmd_prefix": "del ",
     "library": "var_list.py",
     "varRefreshCmd": "print(var_dic_list())"
    },
    "r": {
     "delete_cmd_postfix": ") ",
     "delete_cmd_prefix": "rm(",
     "library": "var_list.r",
     "varRefreshCmd": "cat(var_dic_list()) "
    }
   },
   "types_to_exclude": [
    "module",
    "function",
    "builtin_function_or_method",
    "instance",
    "_Feature"
   ],
   "window_display": false
  }
 },
 "nbformat": 4,
 "nbformat_minor": 4
}
