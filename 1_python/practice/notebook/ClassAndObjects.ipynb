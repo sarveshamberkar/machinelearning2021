{
 "cells": [
  {
   "cell_type": "code",
   "execution_count": 1,
   "metadata": {},
   "outputs": [],
   "source": [
    "class Element:\n",
    "    def __init__(self, name,symbol,number):\n",
    "        self.name= name\n",
    "        self.symbol = symbol\n",
    "        self.number = number\n",
    "    def __str__(self):\n",
    "        return self.name+' '+str(self.number)+' '+self.symbol"
   ]
  },
  {
   "cell_type": "code",
   "execution_count": 4,
   "metadata": {},
   "outputs": [
    {
     "data": {
      "text/plain": [
       "{'name': 'Hydrogen', 'symbol': 'H', 'number': 1}"
      ]
     },
     "execution_count": 4,
     "metadata": {},
     "output_type": "execute_result"
    }
   ],
   "source": [
    "d= {'name': 'Hydrogen', 'symbol': 'H', 'number': 1}\n",
    "Hydrogen = Element(**d)\n",
    "Hydrogen.__dict__ ## gives instance variable of class"
   ]
  },
  {
   "cell_type": "code",
   "execution_count": 8,
   "metadata": {},
   "outputs": [
    {
     "name": "stdout",
     "output_type": "stream",
     "text": [
      "3\n",
      "1.04\n",
      "1.04\n",
      "1.04\n"
     ]
    }
   ],
   "source": [
    "class Employee:\n",
    "\n",
    "    num_of_emps = 0\n",
    "    raise_amt = 1.04\n",
    "\n",
    "    def __init__(self, first, last, pay):\n",
    "        self.first = first\n",
    "        self.last = last\n",
    "        self.email = first + '.' + last + '@email.com'\n",
    "        self.pay = pay\n",
    "\n",
    "        Employee.num_of_emps +=1\n",
    "\n",
    "    def fullname(self):\n",
    "        return '{} {}'.format(self.first, self.last)\n",
    "\n",
    "    def apply_raise(self):\n",
    "        self.pay = int(self.pay * self.raise_amt)\n",
    "\n",
    "\n",
    "emp_1 = Employee('Corey', 'Schafer', 50000)\n",
    "emp_2 = Employee('Test', 'Employee', 60000)\n",
    "emp_3 = Employee('Test2', 'Employee2', 40000)\n",
    "\n",
    "\n",
    "\n",
    "print(emp_2.num_of_emps)\n",
    "print(Employee.raise_amt)\n",
    "print(emp_1.raise_amt)\n",
    "print(emp_2.raise_amt)"
   ]
  },
  {
   "cell_type": "code",
   "execution_count": 9,
   "metadata": {},
   "outputs": [
    {
     "data": {
      "text/plain": [
       "['sarvesh amberkar', 'Akshay Bade', 'prithvi patil']"
      ]
     },
     "execution_count": 9,
     "metadata": {},
     "output_type": "execute_result"
    }
   ],
   "source": [
    "# practice\n",
    "class NewClass:\n",
    "    empolyee_names = []\n",
    "    def __init__(self,first_name,last_name):\n",
    "        self.first_name = first_name\n",
    "        self.last_name = last_name\n",
    "        \n",
    "        NewClass.empolyee_names.append(first_name+' '+last_name)\n",
    "n1= NewClass('sarvesh', 'amberkar')\n",
    "n2 = NewClass('Akshay','Bade')\n",
    "n3 = NewClass('prithvi','patil')\n",
    "\n",
    "n3.empolyee_names"
   ]
  },
  {
   "cell_type": "markdown",
   "metadata": {},
   "source": [
    "## Decorators Basics\n",
    "<a href = 'https://www.youtube.com/watch?v=FsAPt_9Bf3U'><h1>YouTube Video</h1></a>"
   ]
  },
  {
   "cell_type": "code",
   "execution_count": 11,
   "metadata": {},
   "outputs": [
    {
     "name": "stdout",
     "output_type": "stream",
     "text": [
      "this function ran before display\n",
      "this is display function\n",
      "None\n"
     ]
    }
   ],
   "source": [
    "def decorator_function(original_function):\n",
    "    def wrapper_function(*arg,**kwarg):\n",
    "        print('this function ran before {}'.format(original_function.__name__))\n",
    "        return original_function()\n",
    "    return wrapper_function\n",
    "@decorator_function\n",
    "def display():\n",
    "    print('this is display function')\n",
    "function = display()\n",
    "print(function)"
   ]
  },
  {
   "cell_type": "markdown",
   "metadata": {},
   "source": [
    "## Decorators Using class\n",
    "### decorators are helpful during logging"
   ]
  },
  {
   "cell_type": "code",
   "execution_count": 16,
   "metadata": {},
   "outputs": [
    {
     "name": "stdout",
     "output_type": "stream",
     "text": [
      "This is function ran before display\n",
      "display function is ran now\n"
     ]
    }
   ],
   "source": [
    "class decorator_class:\n",
    "    def __init__(self, function):\n",
    "        self.function = function\n",
    "\n",
    "    def __call__(self, *arg, **kwarg):\n",
    "        print('This is function ran before {}'.format(self.function.__name__))\n",
    "        return self.function(*arg, **kwarg)\n",
    "\n",
    "@decorator_class\n",
    "def display():\n",
    "    print('display function is ran now')\n",
    "    \n",
    "display()"
   ]
  },
  {
   "cell_type": "code",
   "execution_count": null,
   "metadata": {},
   "outputs": [],
   "source": [
    "from functools import wraps\n",
    "\n",
    "\n",
    "def my_logger(orig_func):\n",
    "    import logging\n",
    "    logging.basicConfig(filename='{}.log'.format(orig_func.__name__), level=logging.INFO)\n",
    "\n",
    "    @wraps(orig_func)\n",
    "    def wrapper(*args, **kwargs):\n",
    "        logging.info(\n",
    "            'Ran with args: {}, and kwargs: {}'.format(args, kwargs))\n",
    "        return orig_func(*args, **kwargs)\n",
    "\n",
    "    return wrapper\n",
    "\n",
    "\n",
    "def my_timer(orig_func):\n",
    "    import time\n",
    "\n",
    "    @wraps(orig_func)\n",
    "    def wrapper(*args, **kwargs):\n",
    "        t1 = time.time()\n",
    "        result = orig_func(*args, **kwargs)\n",
    "        t2 = time.time() - t1\n",
    "        print('{} ran in: {} sec'.format(orig_func.__name__, t2))\n",
    "        return result\n",
    "\n",
    "    return wrapper\n",
    "\n",
    "import time\n",
    "\n",
    "\n",
    "@my_logger\n",
    "@my_timer\n",
    "def display_info(name, age):\n",
    "    time.sleep(1)\n",
    "    print('display_info ran with arguments ({}, {})'.format(name, age))\n",
    "\n",
    "display_info('Tom', 22)"
   ]
  },
  {
   "cell_type": "markdown",
   "metadata": {},
   "source": [
    "### Class methods"
   ]
  },
  {
   "cell_type": "code",
   "execution_count": 1,
   "metadata": {},
   "outputs": [
    {
     "name": "stdout",
     "output_type": "stream",
     "text": [
      "sarvesh 50000\n"
     ]
    }
   ],
   "source": [
    "class Employee:\n",
    "    rais_amt = 1.04\n",
    "    num_emplyee = 0\n",
    "\n",
    "    def __init__(self, first_name, l_name, salary):\n",
    "        self.first_name = first_name\n",
    "        self.l_name = l_name\n",
    "        self.salary = salary\n",
    "        Employee.num_emplyee += 1\n",
    "\n",
    "    def salary_increase(self):\n",
    "        return self.salary * self.rais_amt\n",
    "\n",
    "    @classmethod\n",
    "    def increase_rais(cls, rais_amt):\n",
    "        cls.rais_amt = rais_amt\n",
    "    @classmethod\n",
    "    def viasplit(cls,string_to_object):\n",
    "        fname,l_name,sal = string_to_object.split('-')\n",
    "        return cls(fname,l_name,sal)\n",
    "\n",
    "emp_1 = Employee('Corey', 'Schafer', 50000)\n",
    "emp_2 = Employee('Test', 'Employee', 60000)\n",
    "emp_3 = Employee('Test2', 'Employee2', 40000)\n",
    "\n",
    "# a = emp_1.salary_increase()\n",
    "# b = emp_2.salary_increase()\n",
    "# c = emp_3.salary_increase()\n",
    "# print(a,b,c)\n",
    "# Employee.increase_rais(1.05)\n",
    "\n",
    "# a = emp_1.salary_increase()\n",
    "# b = emp_2.salary_increase()\n",
    "# c = emp_3.salary_increase()\n",
    "# print(a,b,c)\n",
    "stringtopass='sarvesh-amberkar-50000'\n",
    "emp_via_classmethod = Employee.viasplit(stringtopass)\n",
    "print(emp_via_classmethod.first_name,emp_via_classmethod.salary)"
   ]
  },
  {
   "cell_type": "markdown",
   "metadata": {},
   "source": [
    "## static method"
   ]
  },
  {
   "cell_type": "code",
   "execution_count": 6,
   "metadata": {},
   "outputs": [
    {
     "data": {
      "text/plain": [
       "110000"
      ]
     },
     "execution_count": 6,
     "metadata": {},
     "output_type": "execute_result"
    }
   ],
   "source": [
    "class Employee:\n",
    "    rais_amt = 1.04\n",
    "    num_emplyee = 0\n",
    "\n",
    "    def __init__(self, first_name, l_name, salary):\n",
    "        self.first_name = first_name\n",
    "        self.l_name = l_name\n",
    "        self.salary = salary\n",
    "        Employee.num_emplyee += 1\n",
    "\n",
    "    def salary_increase(self):\n",
    "        return self.salary * self.rais_amt\n",
    "\n",
    "    @classmethod\n",
    "    def increase_rais(cls, rais_amt):\n",
    "        cls.rais_amt = rais_amt\n",
    "    @classmethod\n",
    "    def viasplit(cls,string_to_object):\n",
    "        fname,l_name,sal = string_to_object.split('-')\n",
    "        return cls(fname,l_name,sal)\n",
    "    \n",
    "    @staticmethod\n",
    "    def ishighpay(sal):\n",
    "        if sal>50000:\n",
    "            return True \n",
    "        return False\n",
    "class developer(Employee):\n",
    "    rais_amt = 1.10\n",
    "    def __init__(self,fname,lname,sal,prg_lang):\n",
    "        super(developer,self).__init__(fname,lname,sal)\n",
    "        self.prg_lang = prg_lang\n",
    "    def __add__(self,other):\n",
    "        return self.salary+other.salary\n",
    "        \n",
    "value = Employee.ishighpay(900000)\n",
    "dev1 = developer('sarvesh','amberkar',50000,'python')\n",
    "dev2 = developer('sarvesh','amberkar',60000,'python')\n",
    "dev1.salary_increase()\n",
    "dev1+dev2"
   ]
  },
  {
   "cell_type": "markdown",
   "metadata": {},
   "source": [
    "# GETTER AND SETTER"
   ]
  },
  {
   "cell_type": "code",
   "execution_count": 15,
   "metadata": {},
   "outputs": [
    {
     "name": "stdout",
     "output_type": "stream",
     "text": [
      "Test2.Employee2@gmail.com\n",
      "['sarvesh', 'amberkar']\n",
      "sarvesh.amberkar@gmail.com\n"
     ]
    }
   ],
   "source": [
    "class Employee:\n",
    "    def __init__(self,f_name,l_name,sal):\n",
    "        self.f_name = f_name\n",
    "        self.l_name = l_name\n",
    "        \n",
    "        self.sal = sal\n",
    "    @property\n",
    "    def email(self):\n",
    "        return self.f_name+'.'+self.l_name+'@gmail.com'\n",
    "    @property\n",
    "    def fullname(self):\n",
    "        return \"{} {}\".format(self.f_name,self.l_name)\n",
    "    @fullname.setter\n",
    "    def fullname(self,name):\n",
    "        self.f_name = name.split(' ')\n",
    "    @email.setter\n",
    "    def email(self,email):\n",
    "        print(email.split('@')[0].split('.'))\n",
    "        self.f_name,self.l_name = email.split('@')[0].split('.')\n",
    "        \n",
    "    \n",
    "emp_3 = Employee('Test2', 'Employee2', 40000)\n",
    "print(emp_3.email)\n",
    "emp_3.email = 'sarvesh.amberkar@gmail.com'\n",
    "print(emp_3.email)"
   ]
  },
  {
   "cell_type": "markdown",
   "metadata": {},
   "source": [
    "## ABSTRACT CLASSES"
   ]
  },
  {
   "cell_type": "code",
   "execution_count": 16,
   "metadata": {},
   "outputs": [
    {
     "name": "stdout",
     "output_type": "stream",
     "text": [
      "20\n",
      "18\n",
      "2\n",
      "None\n",
      "(0.3181818181818182, 2.0, 2)\n"
     ]
    }
   ],
   "source": [
    "from abc import abstractmethod, ABC\n",
    "\n",
    "\n",
    "class Shape(ABC):\n",
    "    no_of_shapes = 0\n",
    "\n",
    "    def __init__(self):\n",
    "        Shape.no_of_shapes += 1\n",
    "\n",
    "    @abstractmethod\n",
    "    def print_area(self):\n",
    "        return 0\n",
    "\n",
    "    @abstractmethod\n",
    "    def print_perimeter(self):\n",
    "        return 0\n",
    "\n",
    "\n",
    "class Rectange(Shape):\n",
    "    def __init__(self, lenght, breath):\n",
    "        super(Rectange, self).__init__()\n",
    "        self.lenght = lenght\n",
    "        self.breath = breath\n",
    "\n",
    "    def print_area(self):\n",
    "        return self.lenght * self.breath\n",
    "\n",
    "    def print_perimeter(self):\n",
    "        return 2 * (self.lenght + self.breath)\n",
    "\n",
    "    def __call__(self):\n",
    "        print(self.print_area())\n",
    "        print(self.print_perimeter())\n",
    "        print(self.no_of_shapes)\n",
    "\n",
    "\n",
    "class Circle(Shape):\n",
    "    def __init__(self, radius):\n",
    "        super(Circle, self).__init__()\n",
    "        self.radius = radius\n",
    "        self.pi = 22 / 7\n",
    "\n",
    "    def print_area(self):\n",
    "        return self.pi * self.radius * self.radius\n",
    "\n",
    "    def print_perimeter(self):\n",
    "        return 2 * (self.pi * self.radius)\n",
    "\n",
    "    def __call__(self):\n",
    "        return self.print_area(),self.print_perimeter(),self.no_of_shapes\n",
    "        \n",
    "\n",
    "\n",
    "rec1 = Rectange(4, 5)\n",
    "cir1 = Circle(7 / 22)\n",
    "\n",
    "\n",
    "print(rec1())\n",
    "print(cir1())\n",
    "# rec1.no_of_shapes"
   ]
  },
  {
   "cell_type": "code",
   "execution_count": 12,
   "metadata": {},
   "outputs": [
    {
     "name": "stdout",
     "output_type": "stream",
     "text": [
      "Instance Created\n"
     ]
    },
    {
     "data": {
      "text/plain": [
       "'Instance is called via special method'"
      ]
     },
     "execution_count": 12,
     "metadata": {},
     "output_type": "execute_result"
    }
   ],
   "source": [
    "class Example(Shape):\n",
    "    def __init__(self):\n",
    "        print(\"Instance Created\")\n",
    "    def new(self):\n",
    "        print('nothing')\n",
    "    def print_area(self):\n",
    "        return 0\n",
    "\n",
    "    def print_perimeter(self):\n",
    "        return 0\n",
    "\n",
    "    # Defining __call__ method\n",
    "    def __call__(self):\n",
    "        return(\"Instance is called via special method\")\n",
    "  \n",
    "# Instance created\n",
    "e = Example()\n",
    "  \n",
    "# __call__ method will be called\n",
    "e()"
   ]
  },
  {
   "cell_type": "code",
   "execution_count": null,
   "metadata": {},
   "outputs": [],
   "source": []
  }
 ],
 "metadata": {
  "kernelspec": {
   "display_name": "gpu",
   "language": "python",
   "name": "gpu"
  },
  "language_info": {
   "codemirror_mode": {
    "name": "ipython",
    "version": 3
   },
   "file_extension": ".py",
   "mimetype": "text/x-python",
   "name": "python",
   "nbconvert_exporter": "python",
   "pygments_lexer": "ipython3",
   "version": "3.7.9"
  },
  "varInspector": {
   "cols": {
    "lenName": 16,
    "lenType": 16,
    "lenVar": 40
   },
   "kernels_config": {
    "python": {
     "delete_cmd_postfix": "",
     "delete_cmd_prefix": "del ",
     "library": "var_list.py",
     "varRefreshCmd": "print(var_dic_list())"
    },
    "r": {
     "delete_cmd_postfix": ") ",
     "delete_cmd_prefix": "rm(",
     "library": "var_list.r",
     "varRefreshCmd": "cat(var_dic_list()) "
    }
   },
   "types_to_exclude": [
    "module",
    "function",
    "builtin_function_or_method",
    "instance",
    "_Feature"
   ],
   "window_display": false
  }
 },
 "nbformat": 4,
 "nbformat_minor": 4
}
