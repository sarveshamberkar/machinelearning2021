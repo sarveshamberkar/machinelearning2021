{
 "cells": [
  {
   "cell_type": "markdown",
   "metadata": {},
   "source": [
    "# Logging \n",
    " <h3>type of logging </h3>\n",
    " 1) debug <br>\n",
    " 2) info <br>\n",
    " 3) warning <br>\n",
    " 4) Error<br>\n",
    " 5) critical<br>\n",
    " 6) Exception"
   ]
  },
  {
   "cell_type": "code",
   "execution_count": null,
   "metadata": {},
   "outputs": [],
   "source": [
    "import logging\n",
    "import logging as lg\n",
    "import os"
   ]
  },
  {
   "cell_type": "code",
   "execution_count": null,
   "metadata": {},
   "outputs": [],
   "source": [
    "\n",
    "os.mkdir(os.path.join(os.getcwd(),'logs'))\n",
    "#pwd() #current working directory"
   ]
  },
  {
   "cell_type": "code",
   "execution_count": null,
   "metadata": {},
   "outputs": [],
   "source": [
    "# %(asctime)s %(message) in format paramater gives you time\n",
    "lg.basicConfig(filename = 'logs/test.log',level = lg.INFO,format = '%(asctime)s %(message)s')\n",
    "lg.info('I am going to start my program')\n",
    "lg.warning('this is my first waring of my program so modifying it')\n",
    "lg.error('this is a msg for error ')"
   ]
  },
  {
   "cell_type": "markdown",
   "metadata": {},
   "source": [
    "### logging using try catch"
   ]
  },
  {
   "cell_type": "code",
   "execution_count": null,
   "metadata": {},
   "outputs": [],
   "source": [
    "def test(a,b):\n",
    "    try:\n",
    "        lg.info('variable are {} and {}'.format(a,b))\n",
    "        div = a/b\n",
    "        return div\n",
    "    except ZeroDivisionError as e:\n",
    "        print('Error has occured please check logs for further information')\n",
    "        lg.error('ZeroDivisionError has occured')\n",
    "        lg.exception(str(e))\n",
    "test(1,0)        \n",
    "\n",
    "lg.shutdown() # this will shutdown logging"
   ]
  },
  {
   "cell_type": "code",
   "execution_count": null,
   "metadata": {},
   "outputs": [],
   "source": [
    "lg.basicConfig(filename='logs/test2.log',format = '%(asctime)s %(levelname)s %(message)s')\n",
    "try:\n",
    "    a = sum(list(map(int,input('Give space separated numerical input').split())))\n",
    "except ValueError:\n",
    "    lg.error('value error occured')\n",
    "    "
   ]
  },
  {
   "cell_type": "code",
   "execution_count": null,
   "metadata": {},
   "outputs": [],
   "source": [
    "lg.basicConfig(filename = 'multiuserlogger.log',level = lg.DEBUG,format = '%(asctime)s')"
   ]
  },
  {
   "cell_type": "markdown",
   "metadata": {},
   "source": [
    "### read a particular line"
   ]
  },
  {
   "cell_type": "code",
   "execution_count": null,
   "metadata": {},
   "outputs": [],
   "source": [
    "def way1():\n",
    "    with open('logs/test.log') as f:\n",
    "        for line,text in enumerate(f):\n",
    "            if line == 2:\n",
    "                print(text)\n",
    "            \n",
    "#or \n",
    "def way2(n):\n",
    "    with open('logs/test.log') as f:\n",
    "        content = f.readlines()\n",
    "        print(content[n])\n",
    "way2(9)"
   ]
  },
  {
   "cell_type": "markdown",
   "metadata": {},
   "source": [
    "#  **** Logging is performed better in python scripts *****"
   ]
  },
  {
   "cell_type": "code",
   "execution_count": null,
   "metadata": {},
   "outputs": [],
   "source": [
    "import logging\n",
    "logging.basicConfig(filename = 'logs/app3.log' , level = logging.DEBUG , format = '%(asctime)s %(name)s %(levelname)s %(message)s',filemode ='r+')\n",
    "console_log = logging.StreamHandler()\n",
    "console_log.setLevel(logging.INFO)\n",
    "os.chmod(os.getcwd(),777)\n",
    "format  = '%(asctime)s %(name)s %(levelname)s %(message)s'\n",
    "console_log.setFormatter(format)\n",
    "logging.info(\"this is my first test code for log\")\n",
    "logging.getLogger().addHandler(console_log)\n",
    "\n",
    "logger1 = logging.getLogger('user1')\n",
    "logger2 = logging.getLogger('user2')\n",
    "logger3= logging.getLogger('user3')\n",
    "logger4= logging.getLogger('user4')\n",
    "logger1.info(\"this is info for logger one \")\n",
    "logger2.debug(\"this is a debug for logger two\")\n",
    "logger2.info(\"this is info for logger two \")"
   ]
  },
  {
   "cell_type": "code",
   "execution_count": null,
   "metadata": {},
   "outputs": [],
   "source": [
    "import pdb\n",
    "def TestFile():\n",
    "    pdb.set_trace()\n",
    "    a = []\n",
    "    for i in range(100):\n",
    "        a.append(i)\n",
    "    return a\n",
    "TestFile()"
   ]
  },
  {
   "cell_type": "code",
   "execution_count": null,
   "metadata": {},
   "outputs": [],
   "source": [
    "import os \n",
    "import os.path as path\n",
    "path.listdir('D:\\\\')"
   ]
  },
  {
   "cell_type": "code",
   "execution_count": null,
   "metadata": {},
   "outputs": [],
   "source": [
    "import psutil\n",
    "from tqdm import tqdm\n",
    "import os\n",
    "partitions = [psutil.disk_partitions()[i].device for i in range(len(psutil.disk_partitions()))]\n",
    "a = []\n",
    "def travel(directory,bar,count=0): \n",
    "    if len(directory)==0:\n",
    "        if len(a)!=0:\n",
    "#             print(a)\n",
    "            pass\n",
    "        return 0\n",
    "    for i in directory:\n",
    "        try:\n",
    "            files_fold = os.listdir(i)\n",
    "            files_fold_path = [os.path.join(i,j) for j in files_fold]\n",
    "            files_fold_paths = [j for j in files_fold_path if os.path.isdir(j)]\n",
    "            count +=len(files_fold)\n",
    "            a.append(len(files_fold))\n",
    "            if len(files_fold_paths)!=0:\n",
    "                for q in files_fold_paths:\n",
    "                    if q.endswith('.txt'):\n",
    "                        a.append(q)\n",
    "                if list(files_fold_paths[0])[0]=='C':\n",
    "                    bar.n =1\n",
    "                    bar.refresh()\n",
    "                if list(files_fold_paths[0])[0]=='D':\n",
    "                    bar.n = 2\n",
    "                    bar.refresh()\n",
    "                if list(files_fold_paths[0])[0]=='E':\n",
    "                    bar.n = 3\n",
    "                    bar.refresh()\n",
    "                if list(files_fold_paths[0])[0]=='F':\n",
    "                    bar.n = 4\n",
    "                    bar.refresh()\n",
    "            travel(files_fold_paths,bar,count)\n",
    "\n",
    "        except PermissionError as p:\n",
    "            pass\n",
    "        finally:\n",
    "            travel([],bar,count)\n",
    "        \n",
    "    return count\n",
    "n = len(partitions)\n",
    "bar = tqdm(total=n,position=0, leave=True)\n",
    "\n",
    "travel(partitions,bar=bar)\n",
    "sum(a)"
   ]
  },
  {
   "cell_type": "markdown",
   "metadata": {},
   "source": [
    "# os module\n",
    "### Replacement for the above code is os.walk , os.walk is an generator\n",
    "os.stat for stats about the file like size ,last edited , and last modified<br>\n",
    "<a href = 'https://www.youtube.com/watch?v=tJxcKyFMTGo&list=PL-osiE80TeTt2d9bfVyTiXJA-UTHn6WwU&index=23'>youtube video for os module very useful</a>"
   ]
  },
  {
   "cell_type": "code",
   "execution_count": null,
   "metadata": {},
   "outputs": [],
   "source": [
    "import psutil\n",
    "from tqdm import tqdm\n",
    "import os\n",
    "t = os.getcwd() ### gets current working directory\n",
    "t\n",
    "partitions = [psutil.disk_partitions()[i].device for i in range(len(psutil.disk_partitions()))]\n",
    "for i in partitions:\n",
    "    os.chdir(i)\n",
    "    for  dirpath ,dirname,filename in os.walk(i):\n",
    "        print(dirpath)\n",
    "        print(dirname)\n",
    "        print(filename)\n",
    "        print()\n",
    "os.chdir(t)\n",
    "print()\n",
    "print(os.getcwd())"
   ]
  },
  {
   "cell_type": "code",
   "execution_count": null,
   "metadata": {},
   "outputs": [],
   "source": [
    "# on smaller scale os.walk \n",
    "# dirpath : path is in string of the current walk\n",
    "# dirname is list of directory in the path\n",
    "# filename is list of files in the path\n",
    "for dirpath,dirname,filename in os.walk('D:\\machine_learning2021\\machinelearning2021'):\n",
    "    print('path:',dirpath)\n",
    "    print('directory name:',dirname)\n",
    "    print('file names:',filename)\n",
    "    print('\\n')\n",
    "    "
   ]
  },
  {
   "cell_type": "code",
   "execution_count": null,
   "metadata": {},
   "outputs": [],
   "source": [
    "from tqdm import tqdm\n",
    "from time import sleep\n",
    "pbar = tqdm(range(100),position=0, leave=True)\n",
    "pbar.update(50)\n",
    "pbar.refresh()\n",
    "sleep(2)\n",
    "pbar.n = 10 #check this\n",
    "pbar.refresh() #check this\n",
    "sleep(2)\n",
    "pbar.update(30)\n"
   ]
  },
  {
   "cell_type": "markdown",
   "metadata": {},
   "source": [
    "# IMPORTING MODULES AND FUNTIONs"
   ]
  },
  {
   "cell_type": "code",
   "execution_count": null,
   "metadata": {},
   "outputs": [],
   "source": [
    "from test123 import mod1,mod2,mod3\n",
    "mod1.f11()"
   ]
  },
  {
   "cell_type": "code",
   "execution_count": null,
   "metadata": {},
   "outputs": [],
   "source": [
    "from test123.test345 import selftest"
   ]
  },
  {
   "cell_type": "code",
   "execution_count": null,
   "metadata": {},
   "outputs": [],
   "source": [
    "selftest.final()"
   ]
  },
  {
   "cell_type": "code",
   "execution_count": null,
   "metadata": {},
   "outputs": [],
   "source": [
    "aplhabets = list('ABCDEFGHIJKLMNOPQRSTUVWXYZ')\n",
    "a = {aplhabets[i]:(0 if (i+1)%2==0 else 1) for i in range(len(aplhabets))}"
   ]
  },
  {
   "cell_type": "code",
   "execution_count": null,
   "metadata": {},
   "outputs": [],
   "source": [
    "def create_an_exception(a):\n",
    "    if a==6:\n",
    "        raise Exception(a)\n",
    "create_an_exception(6)"
   ]
  },
  {
   "cell_type": "code",
   "execution_count": null,
   "metadata": {},
   "outputs": [],
   "source": [
    "from test123 import mod1\n",
    "import logging as lg\n",
    "\n",
    "logger = lg.getLogger('logger1')\n",
    "\n",
    "file = lg.FileHandler('test.log')\n",
    "formater = lg.Formatter('%(asctime)s %(levelname)s %(message)s')\n",
    "\n",
    "stream = lg.StreamHandler()\n",
    "stream.setFormatter(formater)\n",
    "stream.setLevel(lg.INFO)\n",
    "\n",
    "file.setFormatter(formater)\n",
    "file.setLevel(lg.DEBUG)\n",
    "\n",
    "logger.addHandler(stream)\n",
    "logger.addHandler(file)\n",
    "\n",
    "try:\n",
    "    a = mod1.even_num('l')\n",
    "except TypeError:\n",
    "    logger.error('type error')\n",
    "    print('give only interger number and nothing else')\n",
    "except ValueError:\n",
    "    logger.error('value error')\n",
    "    print(' give in correct format')\n",
    "except Exception as e:\n",
    "    logger.error('type error')\n",
    "    logger.exception(e)\n",
    "    print('error is ', e)"
   ]
  },
  {
   "cell_type": "markdown",
   "metadata": {},
   "source": [
    "### DATE AND TIME MODULE\n",
    "<a href = 'https://www.youtube.com/watch?v=eirjjyP2qcQ&list=PL-osiE80TeTt2d9bfVyTiXJA-UTHn6WwU&index=24'>Youtube video for date time </a>"
   ]
  },
  {
   "cell_type": "code",
   "execution_count": 24,
   "metadata": {},
   "outputs": [
    {
     "name": "stdout",
     "output_type": "stream",
     "text": [
      "['__add__', '__class__', '__delattr__', '__dir__', '__doc__', '__eq__', '__format__', '__ge__', '__getattribute__', '__gt__', '__hash__', '__init__', '__init_subclass__', '__le__', '__lt__', '__ne__', '__new__', '__radd__', '__reduce__', '__reduce_ex__', '__repr__', '__rsub__', '__setattr__', '__sizeof__', '__str__', '__sub__', '__subclasshook__', 'astimezone', 'combine', 'ctime', 'date', 'day', 'dst', 'fold', 'fromisoformat', 'fromordinal', 'fromtimestamp', 'hour', 'isocalendar', 'isoformat', 'isoweekday', 'max', 'microsecond', 'min', 'minute', 'month', 'now', 'replace', 'resolution', 'second', 'strftime', 'strptime', 'time', 'timestamp', 'timetuple', 'timetz', 'today', 'toordinal', 'tzinfo', 'tzname', 'utcfromtimestamp', 'utcnow', 'utcoffset', 'utctimetuple', 'weekday', 'year']\n",
      "2021-04-19 01:34:21.815679\n",
      "2021-04-19 01:34:21.815679\n"
     ]
    }
   ],
   "source": [
    "import datetime\n",
    "import pytz\n",
    "\n",
    "# Naive\n",
    "# d = datetime.date(2001, 9, 11)\n",
    "\n",
    "tday = datetime.date.today()\n",
    "\n",
    "\n",
    "# weekday() - Monday is 0 and Sunday is 6\n",
    "# print(tday)\n",
    "\n",
    "# isoweekday() - Monday is 1 and Sunday is 7\n",
    "# print(tday)\n",
    "\n",
    "\n",
    "# datetime.timedelta(days=0, seconds=0, microseconds=0, milliseconds=0, minutes=0, hours=0, weeks=0)\n",
    "\n",
    "tdelta = datetime.timedelta(hours=12)\n",
    "\n",
    "# print(tday + tdelta)\n",
    "\n",
    "# date2 = date1 + timedelta\n",
    "# timedelta = date1 + date2\n",
    "\n",
    "bday = datetime.date(2016, 9, 24)\n",
    "\n",
    "till_bday = bday - tday\n",
    "\n",
    "# print(till_bday.days)\n",
    "\n",
    "t = datetime.time(9, 30, 45, 100000)\n",
    "\n",
    "# dt = datetime.datetime.today()\n",
    "# dtnow = datetime.datetime.now()\n",
    "# print(dir(datetime.datetime))\n",
    "# print(dt)\n",
    "# print(dtnow)\n",
    "\n",
    "dt = datetime.datetime(2016, 7, 24, 12, 30, 45, tzinfo=pytz.UTC)\n",
    "# print(dir(dt))\n",
    "\n",
    "dt_utcnow = datetime.datetime.now(tz=pytz.UTC)\n",
    "# print(dt_utcnow)\n",
    "\n",
    "dt_utcnow2 = datetime.datetime.utcnow().replace(tzinfo=pytz.UTC)\n",
    "# print(dt_utcnow2)\n",
    "\n",
    "# dt_mtn = dt_utcnow.astimezone(pytz.timezone('US/Mountain'))\n",
    "# print(dt_mtn)\n",
    "\n",
    "dt_mtn = datetime.datetime.now()\n",
    "\n",
    "mtn_tz = pytz.timezone('US/Mountain')\n",
    "dt_mtn = mtn_tz.localize(dt_mtn)\n",
    "\n",
    "# print(dt_mtn)\n",
    "\n",
    "dt_east = dt_mtn.astimezone(pytz.timezone('US/Eastern'))\n",
    "# print(dt_east)\n",
    "\n",
    "# print(dt_mtn.strftime('%B %d, %Y'))\n",
    "\n",
    "dt_str = 'July 24, 2016'\n",
    "dt = datetime.datetime.strptime(dt_str, '%B %d, %Y')\n",
    "# print(dt)\n",
    "# strftime - Datetime to String\n",
    "# strptime - String to Datetime"
   ]
  },
  {
   "cell_type": "markdown",
   "metadata": {},
   "source": [
    "### Random module\n",
    "<a href = 'https://www.youtube.com/watch?v=KzqSDvzOFNA&list=PL-osiE80TeTt2d9bfVyTiXJA-UTHn6WwU&index=27'>YouTube video for the Random Module</a>"
   ]
  },
  {
   "cell_type": "code",
   "execution_count": 20,
   "metadata": {},
   "outputs": [
    {
     "data": {
      "text/plain": [
       "datetime.timedelta(seconds=43200)"
      ]
     },
     "execution_count": 20,
     "metadata": {},
     "output_type": "execute_result"
    }
   ],
   "source": [
    "import random"
   ]
  },
  {
   "cell_type": "markdown",
   "metadata": {},
   "source": [
    "### CSV Module\n",
    "<a href = 'https://www.youtube.com/watch?v=q5uM4VKywbA&list=PL-osiE80TeTt2d9bfVyTiXJA-UTHn6WwU&index=29'>YouTube video for the CSV Module</a>"
   ]
  },
  {
   "cell_type": "code",
   "execution_count": 22,
   "metadata": {},
   "outputs": [],
   "source": [
    "import csv\n",
    "\n",
    "# opening and reading CSV file\n",
    "try:\n",
    "    with open('names.csv', 'r') as f:\n",
    "        csv_read = csv.reader(f,delimiter = ',')\n",
    "        for i in csv_read:\n",
    "            # print(i)\n",
    "            continue\n",
    "\n",
    "except Exception as e:\n",
    "    print(e)\n",
    "\n",
    "# opening and writing one csv to another with delimiter/separator as '-'\n",
    "try:\n",
    "    with open('names.csv', 'r') as f:\n",
    "        csv_read = csv.reader(f)\n",
    "        with open('names1.csv', 'w') as CsvToWrite:\n",
    "            csv_write = csv.writer(CsvToWrite, delimiter='\\t')\n",
    "            for i in csv_read:\n",
    "                csv_write.writerow(i)\n",
    "\n",
    "except Exception as e:\n",
    "    print(e)\n",
    "    \n",
    "# opening in form of dictionary and reading CSV file\n",
    "try:\n",
    "    with open('names.csv', 'r') as f:\n",
    "        csv_read = csv.DictReader(f,delimiter = ',')\n",
    "        for i in csv_read:\n",
    "#             print(i)\n",
    "            continue\n",
    "\n",
    "except Exception as e:\n",
    "    print(e)\n",
    "    \n",
    "# opening and writing one csv to another in formate of dictionary with delimiter/separator as '-'\n",
    "try:\n",
    "    with open('names.csv', 'r') as f:\n",
    "        csv_read = csv.DictReader(f)\n",
    "        with open('names1.csv', 'w') as CsvToWrite:\n",
    "            fieldname = ['first_name','last_name', 'email']\n",
    "            csv_write = csv.DictWriter(CsvToWrite,fieldnames=fieldname, delimiter='\\t')\n",
    "            csv_write.writeheader()\n",
    "            for i in csv_read:\n",
    "                csv_write.writerow(i)\n",
    "\n",
    "except Exception as e:\n",
    "    print(e)"
   ]
  },
  {
   "cell_type": "code",
   "execution_count": 8,
   "metadata": {},
   "outputs": [
    {
     "name": "stdout",
     "output_type": "stream",
     "text": [
      "<class 'list'>\n"
     ]
    }
   ],
   "source": [
    "with open('test.txt') as f:\n",
    "    print(type(f.readlines()))\n",
    "    "
   ]
  },
  {
   "cell_type": "code",
   "execution_count": 4,
   "metadata": {},
   "outputs": [
    {
     "name": "stdout",
     "output_type": "stream",
     "text": [
      "['first_name', 'last_name', 'email']\n",
      "['John', 'Doe', 'john-doe@bogusemail.com']\n",
      "['Mary', 'Smith-Robinson', 'maryjacobs@bogusemail.com']\n",
      "['Dave', 'Smith', 'davesmith@bogusemail.com']\n",
      "['Jane', 'Stuart', 'janestuart@bogusemail.com']\n",
      "['Tom', 'Wright', 'tomwright@bogusemail.com']\n",
      "['Steve', 'Robinson', 'steverobinson@bogusemail.com']\n",
      "['Nicole', 'Jacobs', 'nicolejacobs@bogusemail.com']\n",
      "['Jane', 'Wright', 'janewright@bogusemail.com']\n",
      "['Jane', 'Doe', 'janedoe@bogusemail.com']\n",
      "['Kurt', 'Wright', 'kurtwright@bogusemail.com']\n",
      "['Kurt', 'Robinson', 'kurtrobinson@bogusemail.com']\n",
      "['Jane', 'Jenkins', 'janejenkins@bogusemail.com']\n",
      "['Neil', 'Robinson', 'neilrobinson@bogusemail.com']\n",
      "['Tom', 'Patterson', 'tompatterson@bogusemail.com']\n",
      "['Sam', 'Jenkins', 'samjenkins@bogusemail.com']\n",
      "['Steve', 'Stuart', 'stevestuart@bogusemail.com']\n",
      "['Maggie', 'Patterson', 'maggiepatterson@bogusemail.com']\n",
      "['Maggie', 'Stuart', 'maggiestuart@bogusemail.com']\n",
      "['Jane', 'Doe', 'janedoe@bogusemail.com']\n",
      "['Steve', 'Patterson', 'stevepatterson@bogusemail.com']\n",
      "['Dave', 'Smith', 'davesmith@bogusemail.com']\n",
      "['Sam', 'Wilks', 'samwilks@bogusemail.com']\n",
      "['Kurt', 'Jefferson', 'kurtjefferson@bogusemail.com']\n",
      "['Sam', 'Stuart', 'samstuart@bogusemail.com']\n",
      "['Jane', 'Stuart', 'janestuart@bogusemail.com']\n",
      "['Dave', 'Davis', 'davedavis@bogusemail.com']\n",
      "['Sam', 'Patterson', 'sampatterson@bogusemail.com']\n",
      "['Tom', 'Jefferson', 'tomjefferson@bogusemail.com']\n",
      "['Jane', 'Stuart', 'janestuart@bogusemail.com']\n",
      "['Maggie', 'Jefferson', 'maggiejefferson@bogusemail.com']\n",
      "['Mary', 'Wilks', 'marywilks@bogusemail.com']\n",
      "['Neil', 'Patterson', 'neilpatterson@bogusemail.com']\n",
      "['Corey', 'Davis', 'coreydavis@bogusemail.com']\n",
      "['Steve', 'Jacobs', 'stevejacobs@bogusemail.com']\n",
      "['Jane', 'Jenkins', 'janejenkins@bogusemail.com']\n",
      "['John', 'Jacobs', 'johnjacobs@bogusemail.com']\n",
      "['Neil', 'Smith', 'neilsmith@bogusemail.com']\n",
      "['Corey', 'Wilks', 'coreywilks@bogusemail.com']\n",
      "['Corey', 'Smith', 'coreysmith@bogusemail.com']\n",
      "['Mary', 'Patterson', 'marypatterson@bogusemail.com']\n",
      "['Jane', 'Stuart', 'janestuart@bogusemail.com']\n",
      "['Travis', 'Arnold', 'travisarnold@bogusemail.com']\n",
      "['John', 'Robinson', 'johnrobinson@bogusemail.com']\n",
      "['Travis', 'Arnold', 'travisarnold@bogusemail.com']\n"
     ]
    }
   ],
   "source": [
    "import csv\n",
    "try:\n",
    "    with open('names.csv', 'r') as f:\n",
    "        csv_read = csv.reader(f)\n",
    "        \n",
    "        with open('names1.csv', 'w') as CsvToWrite:\n",
    "            csv_write = csv.writer(CsvToWrite, delimiter='\\t')\n",
    "            for i in csv_read:\n",
    "                print(i)\n",
    "                csv_write.writerow(i)\n",
    "\n",
    "except Exception as e:\n",
    "    print(e)"
   ]
  },
  {
   "cell_type": "code",
   "execution_count": null,
   "metadata": {},
   "outputs": [],
   "source": []
  }
 ],
 "metadata": {
  "kernelspec": {
   "display_name": "gpu",
   "language": "python",
   "name": "gpu"
  },
  "language_info": {
   "codemirror_mode": {
    "name": "ipython",
    "version": 3
   },
   "file_extension": ".py",
   "mimetype": "text/x-python",
   "name": "python",
   "nbconvert_exporter": "python",
   "pygments_lexer": "ipython3",
   "version": "3.7.9"
  },
  "varInspector": {
   "cols": {
    "lenName": 16,
    "lenType": 16,
    "lenVar": 40
   },
   "kernels_config": {
    "python": {
     "delete_cmd_postfix": "",
     "delete_cmd_prefix": "del ",
     "library": "var_list.py",
     "varRefreshCmd": "print(var_dic_list())"
    },
    "r": {
     "delete_cmd_postfix": ") ",
     "delete_cmd_prefix": "rm(",
     "library": "var_list.r",
     "varRefreshCmd": "cat(var_dic_list()) "
    }
   },
   "types_to_exclude": [
    "module",
    "function",
    "builtin_function_or_method",
    "instance",
    "_Feature"
   ],
   "window_display": false
  }
 },
 "nbformat": 4,
 "nbformat_minor": 4
}
