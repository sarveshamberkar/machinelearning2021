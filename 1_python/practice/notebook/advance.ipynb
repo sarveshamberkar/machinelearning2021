{
 "cells": [
  {
   "cell_type": "markdown",
   "metadata": {},
   "source": [
    "# Logging \n",
    " <h3>type of logging </h3>\n",
    " 1) debug <br>\n",
    " 2) info <br>\n",
    " 3) warning <br>\n",
    " 4) Error<br>\n",
    " 5) critical<br>\n",
    " 6) Exception"
   ]
  },
  {
   "cell_type": "code",
   "execution_count": null,
   "metadata": {},
   "outputs": [],
   "source": [
    "import logging as lg\n",
    "import os\n",
    "os.mkdir(os.path.join(os.getcwd(),'logs'))\n",
    "#pwd() #current working directory"
   ]
  },
  {
   "cell_type": "code",
   "execution_count": null,
   "metadata": {},
   "outputs": [],
   "source": [
    "# %(asctime)s %(message) in format paramater gives you time\n",
    "lg.basicConfig(filename = 'logs/test.log',level = lg.INFO,format = '%(asctime)s %(message)s')\n",
    "lg.info('I am going to start my program')\n",
    "lg.warning('this is my first waring of my program so modifying it')\n",
    "lg.error('this is a msg for error ')"
   ]
  },
  {
   "cell_type": "markdown",
   "metadata": {},
   "source": [
    "### logging using try catch"
   ]
  },
  {
   "cell_type": "code",
   "execution_count": 4,
   "metadata": {},
   "outputs": [],
   "source": [
    "def test(a,b):\n",
    "    try:\n",
    "        lg.info('variable are {} and {}'.format(a,b))\n",
    "        div = a/b\n",
    "        return div\n",
    "    except ZeroDivisionError as e:\n",
    "        print('Error has occured please check logs for further information')\n",
    "        lg.error('ZeroDivisionError has occured')\n",
    "        lg.exception(str(e))\n",
    "test(1,0)        \n",
    "\n",
    "lg.shutdown() # this will shutdown logging"
   ]
  },
  {
   "cell_type": "code",
   "execution_count": 9,
   "metadata": {},
   "outputs": [
    {
     "name": "stdout",
     "output_type": "stream",
     "text": [
      "Give space separated numerical inputa 1 3\n",
      "invalid literal for int() with base 10: 'a'\n"
     ]
    }
   ],
   "source": [
    "lg.basicConfig(filename='logs/test2.log',format = '%(asctime)s %(levelname)s %(message)s')\n",
    "try:\n",
    "    a = sum(list(map(int,input('Give space separated numerical input').split())))\n",
    "except ValueError:\n",
    "    lg.error('value error occured')\n",
    "    "
   ]
  },
  {
   "cell_type": "code",
   "execution_count": null,
   "metadata": {},
   "outputs": [],
   "source": [
    "lg.basicConfig(filename = 'multiuserlogger.log',level = lg.DEBUG,format = '%(asctime)s')"
   ]
  },
  {
   "cell_type": "markdown",
   "metadata": {},
   "source": [
    "### read a particular line"
   ]
  },
  {
   "cell_type": "code",
   "execution_count": 34,
   "metadata": {},
   "outputs": [
    {
     "name": "stdout",
     "output_type": "stream",
     "text": [
      "ZeroDivisionError: division by zero\n",
      "\n"
     ]
    }
   ],
   "source": [
    "def way1():\n",
    "    with open('logs/test.log') as f:\n",
    "        for line,text in enumerate(f):\n",
    "            if line == 2:\n",
    "                print(text)\n",
    "            \n",
    "#or \n",
    "def way2(n):\n",
    "    with open('logs/test.log') as f:\n",
    "        content = f.readlines()\n",
    "        print(content[n])\n",
    "way2(9)"
   ]
  },
  {
   "cell_type": "markdown",
   "metadata": {},
   "source": [
    "#  **** Logging is performed better in python scripts *****"
   ]
  },
  {
   "cell_type": "code",
   "execution_count": null,
   "metadata": {},
   "outputs": [],
   "source": []
  }
 ],
 "metadata": {
  "kernelspec": {
   "display_name": "gpu",
   "language": "python",
   "name": "gpu"
  },
  "language_info": {
   "codemirror_mode": {
    "name": "ipython",
    "version": 3
   },
   "file_extension": ".py",
   "mimetype": "text/x-python",
   "name": "python",
   "nbconvert_exporter": "python",
   "pygments_lexer": "ipython3",
   "version": "3.7.9"
  },
  "varInspector": {
   "cols": {
    "lenName": 16,
    "lenType": 16,
    "lenVar": 40
   },
   "kernels_config": {
    "python": {
     "delete_cmd_postfix": "",
     "delete_cmd_prefix": "del ",
     "library": "var_list.py",
     "varRefreshCmd": "print(var_dic_list())"
    },
    "r": {
     "delete_cmd_postfix": ") ",
     "delete_cmd_prefix": "rm(",
     "library": "var_list.r",
     "varRefreshCmd": "cat(var_dic_list()) "
    }
   },
   "types_to_exclude": [
    "module",
    "function",
    "builtin_function_or_method",
    "instance",
    "_Feature"
   ],
   "window_display": false
  }
 },
 "nbformat": 4,
 "nbformat_minor": 4
}
