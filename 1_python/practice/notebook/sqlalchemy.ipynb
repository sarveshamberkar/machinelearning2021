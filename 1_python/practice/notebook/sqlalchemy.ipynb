{
 "cells": [
  {
   "cell_type": "markdown",
   "metadata": {},
   "source": [
    "## LINK TO SQLALCHEMY TUTORIAL\n",
    "<a href = \"https://www.tutorialspoint.com/sqlalchemy\"><h3>Tutorialspoint</h3></a>"
   ]
  },
  {
   "cell_type": "code",
   "execution_count": 8,
   "metadata": {},
   "outputs": [
    {
     "ename": "SyntaxError",
     "evalue": "invalid syntax (<ipython-input-8-8f2381098483>, line 5)",
     "output_type": "error",
     "traceback": [
      "\u001b[1;36m  File \u001b[1;32m\"<ipython-input-8-8f2381098483>\"\u001b[1;36m, line \u001b[1;32m5\u001b[0m\n\u001b[1;33m    import sqlalchemy.sql import select\u001b[0m\n\u001b[1;37m                               ^\u001b[0m\n\u001b[1;31mSyntaxError\u001b[0m\u001b[1;31m:\u001b[0m invalid syntax\n"
     ]
    }
   ],
   "source": [
    "import sqlalchemy\n",
    "from sqlalchemy import create_engine\n",
    "from sqlalchemy import MetaData,Table,Column,Integer,String\n",
    "engine = create_engine('sqlite:///college.db',echo =True)\n",
    "from sqlalchemy.sql import select\n"
   ]
  },
  {
   "cell_type": "code",
   "execution_count": 4,
   "metadata": {},
   "outputs": [
    {
     "name": "stdout",
     "output_type": "stream",
     "text": [
      "2021-05-02 15:25:03,553 INFO sqlalchemy.engine.Engine BEGIN (implicit)\n",
      "2021-05-02 15:25:03,554 INFO sqlalchemy.engine.Engine PRAGMA main.table_info(\"students\")\n",
      "2021-05-02 15:25:03,555 INFO sqlalchemy.engine.Engine [raw sql] ()\n",
      "2021-05-02 15:25:03,556 INFO sqlalchemy.engine.Engine COMMIT\n",
      "2021-05-02 15:25:03,558 INFO sqlalchemy.engine.Engine INSERT INTO students (name, lastname) VALUES (?, ?)\n",
      "2021-05-02 15:25:03,558 INFO sqlalchemy.engine.Engine [generated in 0.00093s] ('Sarvesh', 'Amberkar')\n",
      "2021-05-02 15:25:03,561 INFO sqlalchemy.engine.Engine COMMIT\n"
     ]
    }
   ],
   "source": [
    "meta = MetaData()\n",
    "\n",
    "student = Table(\n",
    "    'students',meta,\n",
    "    Column('id',Integer,primary_key=True),\n",
    "    Column('name',String),\n",
    "    Column('lastname',String),)\n",
    "meta.create_all(engine)\n",
    "\n",
    "ins = student.insert().values(name = 'Sarvesh', lastname = 'Amberkar')\n",
    "conn = engine.connect()\n",
    "result = conn.execute(ins)"
   ]
  },
  {
   "cell_type": "code",
   "execution_count": 7,
   "metadata": {
    "scrolled": true
   },
   "outputs": [
    {
     "name": "stdout",
     "output_type": "stream",
     "text": [
      "2021-05-02 15:28:41,696 INFO sqlalchemy.engine.Engine INSERT INTO students (name, lastname) VALUES (?, ?)\n",
      "2021-05-02 15:28:41,696 INFO sqlalchemy.engine.Engine [generated in 0.00063s] (('Rajiv', 'Khanna'), ('Komal', 'Bhandari'), ('Abdul', 'Sattar'), ('Priya', 'Rajhans'))\n",
      "2021-05-02 15:28:41,699 INFO sqlalchemy.engine.Engine COMMIT\n"
     ]
    },
    {
     "data": {
      "text/plain": [
       "<sqlalchemy.engine.cursor.LegacyCursorResult at 0x26bc4864e88>"
      ]
     },
     "execution_count": 7,
     "metadata": {},
     "output_type": "execute_result"
    }
   ],
   "source": [
    "conn.execute(student.insert(), [\n",
    "   {'name':'Rajiv', 'lastname' : 'Khanna'},\n",
    "   {'name':'Komal','lastname' : 'Bhandari'},\n",
    "   {'name':'Abdul','lastname' : 'Sattar'},\n",
    "   {'name':'Priya','lastname' : 'Rajhans'},\n",
    "])"
   ]
  },
  {
   "cell_type": "code",
   "execution_count": 12,
   "metadata": {},
   "outputs": [
    {
     "name": "stdout",
     "output_type": "stream",
     "text": [
      "2021-05-02 15:35:23,289 INFO sqlalchemy.engine.Engine SELECT students.id, students.name, students.lastname \n",
      "FROM students\n",
      "2021-05-02 15:35:23,289 INFO sqlalchemy.engine.Engine [cached since 75.83s ago] ()\n",
      "(1, 'Sarvesh', 'Amberkar')\n",
      "(2, 'Rajiv', 'Khanna')\n",
      "(3, 'Komal', 'Bhandari')\n",
      "(4, 'Abdul', 'Sattar')\n",
      "(5, 'Priya', 'Rajhans')\n"
     ]
    }
   ],
   "source": [
    "conn = engine.connect()\n",
    "a  = conn.execute(student.select())\n",
    "for i in a:\n",
    "    print(i)"
   ]
  },
  {
   "cell_type": "markdown",
   "metadata": {},
   "source": [
    "# multiple table "
   ]
  },
  {
   "cell_type": "code",
   "execution_count": 1,
   "metadata": {},
   "outputs": [
    {
     "name": "stdout",
     "output_type": "stream",
     "text": [
      "2021-05-02 15:58:54,069 INFO sqlalchemy.engine.Engine BEGIN (implicit)\n",
      "2021-05-02 15:58:54,069 INFO sqlalchemy.engine.Engine PRAGMA main.table_info(\"students\")\n",
      "2021-05-02 15:58:54,070 INFO sqlalchemy.engine.Engine [raw sql] ()\n",
      "2021-05-02 15:58:54,071 INFO sqlalchemy.engine.Engine PRAGMA temp.table_info(\"students\")\n",
      "2021-05-02 15:58:54,071 INFO sqlalchemy.engine.Engine [raw sql] ()\n",
      "2021-05-02 15:58:54,072 INFO sqlalchemy.engine.Engine PRAGMA main.table_info(\"addresses\")\n",
      "2021-05-02 15:58:54,072 INFO sqlalchemy.engine.Engine [raw sql] ()\n",
      "2021-05-02 15:58:54,073 INFO sqlalchemy.engine.Engine PRAGMA temp.table_info(\"addresses\")\n",
      "2021-05-02 15:58:54,073 INFO sqlalchemy.engine.Engine [raw sql] ()\n",
      "2021-05-02 15:58:54,074 INFO sqlalchemy.engine.Engine \n",
      "CREATE TABLE students (\n",
      "\tid INTEGER NOT NULL, \n",
      "\tname VARCHAR, \n",
      "\tlastname VARCHAR, \n",
      "\tPRIMARY KEY (id)\n",
      ")\n",
      "\n",
      "\n",
      "2021-05-02 15:58:54,075 INFO sqlalchemy.engine.Engine [no key 0.00052s] ()\n",
      "2021-05-02 15:58:54,212 INFO sqlalchemy.engine.Engine \n",
      "CREATE TABLE addresses (\n",
      "\tid INTEGER NOT NULL, \n",
      "\tst_id INTEGER, \n",
      "\tpostal_add VARCHAR, \n",
      "\temail_add VARCHAR, \n",
      "\tPRIMARY KEY (id), \n",
      "\tFOREIGN KEY(st_id) REFERENCES students (id)\n",
      ")\n",
      "\n",
      "\n",
      "2021-05-02 15:58:54,213 INFO sqlalchemy.engine.Engine [no key 0.00077s] ()\n",
      "2021-05-02 15:58:54,296 INFO sqlalchemy.engine.Engine COMMIT\n"
     ]
    }
   ],
   "source": [
    "from sqlalchemy import create_engine, MetaData, Table, Column, Integer, String, ForeignKey\n",
    "engine = create_engine('sqlite:///college.db', echo=True)\n",
    "meta = MetaData()\n",
    "\n",
    "students = Table(\n",
    "   'students', meta, \n",
    "   Column('id', Integer, primary_key = True), \n",
    "   Column('name', String), \n",
    "   Column('lastname', String), \n",
    ")\n",
    "\n",
    "addresses = Table(\n",
    "   'addresses', meta, \n",
    "   Column('id', Integer, primary_key = True), \n",
    "   Column('st_id', Integer, ForeignKey('students.id')), \n",
    "   Column('postal_add', String), \n",
    "   Column('email_add', String))\n",
    "\n",
    "meta.create_all(engine)"
   ]
  },
  {
   "cell_type": "markdown",
   "metadata": {},
   "source": [
    "# SQL ORM"
   ]
  }
 ],
 "metadata": {
  "kernelspec": {
   "display_name": "gpu",
   "language": "python",
   "name": "gpu"
  },
  "language_info": {
   "codemirror_mode": {
    "name": "ipython",
    "version": 3
   },
   "file_extension": ".py",
   "mimetype": "text/x-python",
   "name": "python",
   "nbconvert_exporter": "python",
   "pygments_lexer": "ipython3",
   "version": "3.7.9"
  },
  "varInspector": {
   "cols": {
    "lenName": 16,
    "lenType": 16,
    "lenVar": 40
   },
   "kernels_config": {
    "python": {
     "delete_cmd_postfix": "",
     "delete_cmd_prefix": "del ",
     "library": "var_list.py",
     "varRefreshCmd": "print(var_dic_list())"
    },
    "r": {
     "delete_cmd_postfix": ") ",
     "delete_cmd_prefix": "rm(",
     "library": "var_list.r",
     "varRefreshCmd": "cat(var_dic_list()) "
    }
   },
   "types_to_exclude": [
    "module",
    "function",
    "builtin_function_or_method",
    "instance",
    "_Feature"
   ],
   "window_display": false
  }
 },
 "nbformat": 4,
 "nbformat_minor": 4
}
