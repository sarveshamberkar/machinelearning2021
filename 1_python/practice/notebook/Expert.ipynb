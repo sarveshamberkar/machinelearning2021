{
 "cells": [
  {
   "cell_type": "markdown",
   "metadata": {},
   "source": [
    "## Property and descriptor"
   ]
  },
  {
   "cell_type": "markdown",
   "metadata": {},
   "source": [
    "Question 1\n",
    "Q1. What is the difference between `__getattr__` and `__getattribute__`?\n",
    "\n",
    "Answer\n",
    "Python will call `__getattr__` method whenever you request an attribute that hasn't already been defined.if it is defined then it will just return the value of the varible it is is` object.__dict__`\n",
    "\n",
    "`__getattribute__` this method for every attribute regardless whether it exists or not. we can prevent access of certain variable by raising AttributeError.To avoid recursion `__getattribute__`.its implementation should always call the base class method with the same name to access any attributes it needs. For example `object.__getattribute__(self,VARIABLE_NAME)`\n",
    "\n",
    "Question 2\n",
    "Q2. What is the difference between properties and descriptors?\n",
    "\n",
    "Answer\n",
    "Property\n",
    "\n",
    "The property function gives us a handy way to implement a simple descriptor without defining a separate class.\n",
    "\n",
    "easy and quick to use\n",
    "\n",
    "descriptor\n",
    "\n",
    "descriptor class needs to be defined by the programmer himself.\n",
    "\n",
    "less accesible but more extensible and reusable technique\n",
    "\n",
    "Question 3\n",
    "Q3. What are the key differences in functionality between `__getattr__` and `__getattribute__`, as well as properties and descriptors?\n",
    "\n",
    "Answer\n",
    "`__getattr__ `is only invoked when the variable is not found from usual ways,\n",
    "`__getattribute__` is invoked for all variable in the class\n",
    "property and descriptor are used for particular varible in the classm"
   ]
  },
  {
   "cell_type": "code",
   "execution_count": null,
   "metadata": {},
   "outputs": [],
   "source": []
  }
 ],
 "metadata": {
  "kernelspec": {
   "display_name": "gpu",
   "language": "python",
   "name": "gpu"
  },
  "language_info": {
   "codemirror_mode": {
    "name": "ipython",
    "version": 3
   },
   "file_extension": ".py",
   "mimetype": "text/x-python",
   "name": "python",
   "nbconvert_exporter": "python",
   "pygments_lexer": "ipython3",
   "version": "3.7.9"
  },
  "varInspector": {
   "cols": {
    "lenName": 16,
    "lenType": 16,
    "lenVar": 40
   },
   "kernels_config": {
    "python": {
     "delete_cmd_postfix": "",
     "delete_cmd_prefix": "del ",
     "library": "var_list.py",
     "varRefreshCmd": "print(var_dic_list())"
    },
    "r": {
     "delete_cmd_postfix": ") ",
     "delete_cmd_prefix": "rm(",
     "library": "var_list.r",
     "varRefreshCmd": "cat(var_dic_list()) "
    }
   },
   "types_to_exclude": [
    "module",
    "function",
    "builtin_function_or_method",
    "instance",
    "_Feature"
   ],
   "window_display": false
  }
 },
 "nbformat": 4,
 "nbformat_minor": 4
}
