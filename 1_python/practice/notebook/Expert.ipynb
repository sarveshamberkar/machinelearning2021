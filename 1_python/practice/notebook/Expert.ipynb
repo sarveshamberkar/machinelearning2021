{
 "cells": [
  {
   "cell_type": "markdown",
   "metadata": {},
   "source": [
    "## Property and descriptor"
   ]
  },
  {
   "cell_type": "markdown",
   "metadata": {},
   "source": [
    "Question 1\n",
    "Q1. What is the difference between `__getattr__` and `__getattribute__`?\n",
    "\n",
    "Answer\n",
    "Python will call `__getattr__` method whenever you request an attribute that hasn't already been defined.if it is defined then it will just return the value of the varible it is is` object.__dict__`\n",
    "\n",
    "`__getattribute__` this method for every attribute regardless whether it exists or not. we can prevent access of certain variable by raising AttributeError.To avoid recursion `__getattribute__`.its implementation should always call the base class method with the same name to access any attributes it needs. For example `object.__getattribute__(self,VARIABLE_NAME)`\n",
    "\n",
    "Question 2\n",
    "Q2. What is the difference between properties and descriptors?\n",
    "\n",
    "Answer\n",
    "Property\n",
    "\n",
    "The property function gives us a handy way to implement a simple descriptor without defining a separate class.\n",
    "\n",
    "easy and quick to use\n",
    "\n",
    "descriptor\n",
    "\n",
    "descriptor class needs to be defined by the programmer himself.\n",
    "\n",
    "less accesible but more extensible and reusable technique\n",
    "\n",
    "Question 3\n",
    "Q3. What are the key differences in functionality between `__getattr__` and `__getattribute__`, as well as properties and descriptors?\n",
    "\n",
    "Answer\n",
    "`__getattr__ `is only invoked when the variable is not found from usual ways,\n",
    "`__getattribute__` is invoked for all variable in the class\n",
    "property and descriptor are used for particular varible in the classm"
   ]
  },
  {
   "cell_type": "code",
   "execution_count": 2,
   "metadata": {},
   "outputs": [
    {
     "data": {
      "text/plain": [
       "347.0"
      ]
     },
     "execution_count": 2,
     "metadata": {},
     "output_type": "execute_result"
    }
   ],
   "source": [
    "# Descriptor example:\n",
    "\n",
    "class Celsius( object ):\n",
    "    def __init__( self, value=0.0 ):\n",
    "        self.value= float(value)\n",
    "    def __get__( self, instance, owner ):\n",
    "        return self.value\n",
    "    def __set__( self, instance, value ):\n",
    "        self.value= float(value)\n",
    "\n",
    "class Farenheit( object ):\n",
    "    def __get__( self, instance, owner ):\n",
    "        return instance.celsius * 9 / 5 + 32\n",
    "    def __set__( self, instance, value ):\n",
    "        instance.celsius= (float(value)-32) * 5 / 9\n",
    "\n",
    "class Temperature( object ):\n",
    "    celsius= Celsius()\n",
    "    farenheit= Farenheit()\n",
    "\n",
    "oven= Temperature()\n",
    "\n",
    "oven.farenheit= 450\n",
    "oven.celsius\n",
    "\n",
    "\n",
    "oven.celsius= 175\n",
    "\n",
    "oven.farenheit\n",
    "\n"
   ]
  },
  {
   "cell_type": "code",
   "execution_count": 3,
   "metadata": {},
   "outputs": [
    {
     "data": {
      "text/plain": [
       "347.0"
      ]
     },
     "execution_count": 3,
     "metadata": {},
     "output_type": "execute_result"
    }
   ],
   "source": [
    "# Property example:\n",
    "\n",
    "class Temperature( object ):\n",
    "    def fget( self ):\n",
    "        return self.celsius * 9 / 5 + 32\n",
    "    def fset( self, value ):\n",
    "        self.celsius= (float(value)-32) * 5 / 9\n",
    "    farenheit= property( fget, fset )\n",
    "    def cset( self, value ):\n",
    "        self.cTemp= float(value)\n",
    "    def cget( self ):\n",
    "        return self.cTemp\n",
    "    celsius= property( cget, cset, doc=\"Celsius temperature\" )\n",
    "\n",
    "oven= Temperature()\n",
    "\n",
    "oven.farenheit= 450\n",
    "\n",
    "oven.celsius\n",
    "\n",
    "oven.celsius= 175\n",
    "\n",
    "oven.farenheit\n"
   ]
  },
  {
   "cell_type": "markdown",
   "metadata": {},
   "source": [
    "## `__getattr__` and `__getattribute__`\n",
    "Lets see some simple examples of both `__getattr__` and `__getattribute__` magic methods.<br>\n",
    "`__getattr__`\n",
    "Python will call `__getattr__` method whenever you request an attribute that hasn't already been defined. In the following example my class Count has no `__getattr__` method. Now in main when I try to access both obj1.mymin and obj1.mymax attributes everything works fine. But when I try to access obj1.mycurrent attribute -- Python gives me AttributeError: 'Count' object has no attribute 'mycurrent'"
   ]
  },
  {
   "cell_type": "code",
   "execution_count": 4,
   "metadata": {},
   "outputs": [
    {
     "name": "stdout",
     "output_type": "stream",
     "text": [
      "1\n",
      "10\n"
     ]
    },
    {
     "ename": "AttributeError",
     "evalue": "'Count' object has no attribute 'mycurrent'",
     "output_type": "error",
     "traceback": [
      "\u001b[1;31m---------------------------------------------------------------------------\u001b[0m",
      "\u001b[1;31mAttributeError\u001b[0m                            Traceback (most recent call last)",
      "\u001b[1;32m<ipython-input-4-7db59dc3e158>\u001b[0m in \u001b[0;36m<module>\u001b[1;34m\u001b[0m\n\u001b[0;32m      7\u001b[0m \u001b[0mprint\u001b[0m\u001b[1;33m(\u001b[0m\u001b[0mobj1\u001b[0m\u001b[1;33m.\u001b[0m\u001b[0mmymin\u001b[0m\u001b[1;33m)\u001b[0m\u001b[1;33m\u001b[0m\u001b[1;33m\u001b[0m\u001b[0m\n\u001b[0;32m      8\u001b[0m \u001b[0mprint\u001b[0m\u001b[1;33m(\u001b[0m\u001b[0mobj1\u001b[0m\u001b[1;33m.\u001b[0m\u001b[0mmymax\u001b[0m\u001b[1;33m)\u001b[0m\u001b[1;33m\u001b[0m\u001b[1;33m\u001b[0m\u001b[0m\n\u001b[1;32m----> 9\u001b[1;33m \u001b[0mprint\u001b[0m\u001b[1;33m(\u001b[0m\u001b[0mobj1\u001b[0m\u001b[1;33m.\u001b[0m\u001b[0mmycurrent\u001b[0m\u001b[1;33m)\u001b[0m  \u001b[1;31m#--> AttributeError: 'Count' object has no attribute 'mycurrent'\u001b[0m\u001b[1;33m\u001b[0m\u001b[1;33m\u001b[0m\u001b[0m\n\u001b[0m",
      "\u001b[1;31mAttributeError\u001b[0m: 'Count' object has no attribute 'mycurrent'"
     ]
    }
   ],
   "source": [
    "class Count():\n",
    "    def __init__(self,mymin,mymax):\n",
    "        self.mymin=mymin\n",
    "        self.mymax=mymax\n",
    "\n",
    "obj1 = Count(1,10)\n",
    "print(obj1.mymin)\n",
    "print(obj1.mymax)\n",
    "print(obj1.mycurrent)  #--> AttributeError: 'Count' object has no attribute 'mycurrent'"
   ]
  },
  {
   "cell_type": "markdown",
   "metadata": {},
   "source": [
    "Now my class Count has `__getattr__` method. Now when I try to access obj1.mycurrent attribute -- python returns me whatever I have implemented in my `__getattr__` method. In my example whenever I try to call an attribute which doesn't exist, python creates that attribute and sets it to integer value 0."
   ]
  },
  {
   "cell_type": "code",
   "execution_count": 5,
   "metadata": {},
   "outputs": [
    {
     "name": "stdout",
     "output_type": "stream",
     "text": [
      "1\n",
      "10\n",
      "0\n"
     ]
    }
   ],
   "source": [
    "class Count:\n",
    "    def __init__(self,mymin,mymax):\n",
    "        self.mymin=mymin\n",
    "        self.mymax=mymax    \n",
    "\n",
    "    def __getattr__(self, item):\n",
    "        self.__dict__[item]=0\n",
    "        return 0\n",
    "\n",
    "obj1 = Count(1,10)\n",
    "print(obj1.mymin)\n",
    "print(obj1.mymax)\n",
    "print(obj1.mycurrent1)"
   ]
  },
  {
   "cell_type": "markdown",
   "metadata": {},
   "source": [
    "`__getattribute__`\n",
    "Now lets see the `__getattribute__` method. If you have `__getattribute__` method in your class, python invokes this method for every attribute regardless whether it exists or not. So why do we need `__getattribute__` method? One good reason is that you can prevent access to attributes and make them more secure as shown in the following example.<br>\n",
    "\n",
    "Whenever someone try to access my attributes that starts with substring 'cur' python raises AttributeError exception. Otherwise it returns that attribute."
   ]
  },
  {
   "cell_type": "code",
   "execution_count": null,
   "metadata": {},
   "outputs": [],
   "source": [
    "class Count:\n",
    "\n",
    "    def __init__(self,mymin,mymax):\n",
    "        self.mymin=mymin\n",
    "        self.mymax=mymax\n",
    "        self.current=None\n",
    "   \n",
    "    def __getattribute__(self, item):\n",
    "        if item.startswith('cur'):\n",
    "            raise AttributeError\n",
    "        return object.__getattribute__(self,item) \n",
    "        # or you can use ---return super().__getattribute__(item)\n",
    "\n",
    "obj1 = Count(1,10)\n",
    "print(obj1.mymin)\n",
    "print(obj1.mymax)\n",
    "print(obj1.current)"
   ]
  },
  {
   "cell_type": "markdown",
   "metadata": {},
   "source": [
    "Important: In order to avoid infinite recursion in `__getattribute__` method, its implementation should always call the base class method with the same name to access any attributes it needs. For example: `object.__getattribute__(self, name)` or `super().__getattribute__(item)` and not `self.__dict__[item]`\n",
    "<br>\n",
    "<b>IMPORTANT</b><br>\n",
    "If your class contain both getattr and getattribute magic methods then `__getattribute__` is called first. But if `__getattribute__` raises AttributeError exception then the exception will be ignored and `__getattr__` method will be invoked. See the following example:"
   ]
  },
  {
   "cell_type": "code",
   "execution_count": null,
   "metadata": {},
   "outputs": [],
   "source": [
    "class Count(object):\n",
    "\n",
    "    def __init__(self,mymin,mymax):\n",
    "        self.mymin=mymin\n",
    "        self.mymax=mymax\n",
    "        self.current=None\n",
    "\n",
    "    def __getattr__(self, item):\n",
    "            self.__dict__[item]=0\n",
    "            return 0\n",
    "\n",
    "    def __getattribute__(self, item):\n",
    "        if item.startswith('cur'):\n",
    "            raise AttributeError\n",
    "        return object.__getattribute__(self,item)\n",
    "        # or you can use ---return super().__getattribute__(item)\n",
    "        # note this class subclass object\n",
    "\n",
    "obj1 = Count(1,10)\n",
    "print(obj1.mymin)\n",
    "print(obj1.mymax)\n",
    "print(obj1.current)"
   ]
  }
 ],
 "metadata": {
  "kernelspec": {
   "display_name": "gpu",
   "language": "python",
   "name": "gpu"
  },
  "language_info": {
   "codemirror_mode": {
    "name": "ipython",
    "version": 3
   },
   "file_extension": ".py",
   "mimetype": "text/x-python",
   "name": "python",
   "nbconvert_exporter": "python",
   "pygments_lexer": "ipython3",
   "version": "3.7.9"
  },
  "varInspector": {
   "cols": {
    "lenName": 16,
    "lenType": 16,
    "lenVar": 40
   },
   "kernels_config": {
    "python": {
     "delete_cmd_postfix": "",
     "delete_cmd_prefix": "del ",
     "library": "var_list.py",
     "varRefreshCmd": "print(var_dic_list())"
    },
    "r": {
     "delete_cmd_postfix": ") ",
     "delete_cmd_prefix": "rm(",
     "library": "var_list.r",
     "varRefreshCmd": "cat(var_dic_list()) "
    }
   },
   "types_to_exclude": [
    "module",
    "function",
    "builtin_function_or_method",
    "instance",
    "_Feature"
   ],
   "window_display": false
  }
 },
 "nbformat": 4,
 "nbformat_minor": 4
}
