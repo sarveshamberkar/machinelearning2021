{
 "cells": [
  {
   "cell_type": "markdown",
   "metadata": {},
   "source": [
    "## Question 1\n",
    "Q1. Explain the difference between greedy and non-greedy syntax with visual terms in as few words\n",
    "as possible. What is the bare minimum effort required to transform a greedy pattern into a non-greedy\n",
    "one? What characters or characters can you introduce or change?"
   ]
  },
  {
   "cell_type": "markdown",
   "metadata": {},
   "source": [
    "### Answer"
   ]
  },
  {
   "cell_type": "markdown",
   "metadata": {},
   "source": [
    "Greedy \n",
    "behaviour to find longest match is called greedy behaviour.\n",
    "\n",
    "example:\n",
    "\n",
    "```python\n",
    "import re\n",
    "txt = \"\"\"<html><head><title>Title</title>\"\"\"\n",
    "pattern = re.compile(\"<.*>\")\n",
    "pattern.findall(txt)\n",
    "# output greedy\n",
    "# ['<html><head><title>Title</title>']\n",
    "\n",
    "pattern = re.compile(\"<.*?>\")\n",
    "pattern.findall(txt)\n",
    "# output non greedy \n",
    "# ['<html>', '<head>', '<title>', '</title>']\n",
    "\n",
    "```\n",
    "\n",
    "<b>Non-Greedy:</b>\n",
    "    \n",
    "the regex engine matches as few characters as possible\n",
    "\n",
    "The non-greedy (or reluctant) behaviour can be requested by adding an extra question mark to the quantifier.\n",
    "\n"
   ]
  },
  {
   "cell_type": "markdown",
   "metadata": {},
   "source": [
    "## Question 2\n",
    "Q2. When exactly does greedy versus non-greedy make a difference?  What if you&#39;re looking for a\n",
    "non-greedy match but the only one available is greedy?"
   ]
  },
  {
   "cell_type": "markdown",
   "metadata": {},
   "source": [
    "### Answer\n"
   ]
  },
  {
   "cell_type": "markdown",
   "metadata": {},
   "source": [
    "```python\n",
    "import re\n",
    "txt = \"\"\"<html><head><title>Title</title>\"\"\"\n",
    "pattern = re.compile(\"<.*>\")\n",
    "pattern.findall(txt)\n",
    "# output greedy\n",
    "# ['<html><head><title>Title</title>']\n",
    "\n",
    "pattern = re.compile(\"<.*?>\")\n",
    "pattern.findall(txt)\n",
    "# output non greedy \n",
    "# ['<html>', '<head>', '<title>', '</title>']\n",
    "```\n",
    "in the above example if we want to find tags separately then we will use non greedy appoarch else if we want to find the longest matching string we will use greedy approach.\n",
    "non-greedy approach it returns a list containing all the matches in greedy approach it return only single string having longest match"
   ]
  },
  {
   "cell_type": "markdown",
   "metadata": {},
   "source": [
    "## Question 3\n",
    "Q3. In a simple match of a string, which looks only for one match and does not do any replacement, is\n",
    "the use of a nontagged group likely to make any practical difference?"
   ]
  },
  {
   "cell_type": "markdown",
   "metadata": {},
   "source": [
    "### Answer"
   ]
  },
  {
   "cell_type": "markdown",
   "metadata": {},
   "source": [
    "the grouping returns the result in form of group for example \n",
    "\n",
    "```python\n",
    "import re\n",
    "phoneNumRegex = re.compile(r'(\\d\\d\\d)-(\\d\\d\\d)-(\\d\\d\\d\\d)')\n",
    "mo = phoneNumRegex.search('My number is 415-555-4242.')\n",
    "print(mo.group(1))\n",
    "print(mo.group(2))\n",
    "print(mo.group(3))\n",
    "print(mo.group(0))\n",
    "print(mo.group())\n",
    "\n",
    "# output \n",
    "# 415\n",
    "# 555\n",
    "# 4242\n",
    "# 415-555-4242\n",
    "# '415-555-4242'\n",
    "```"
   ]
  },
  {
   "cell_type": "markdown",
   "metadata": {},
   "source": [
    "## Question 4\n",
    "Q4. Describe a scenario in which using a nontagged category would have a significant impact on the\n",
    "program&#39;s outcomes."
   ]
  },
  {
   "cell_type": "markdown",
   "metadata": {},
   "source": [
    "### Answer"
   ]
  },
  {
   "cell_type": "markdown",
   "metadata": {},
   "source": [
    "use-case:\n",
    "\n",
    "    separate firstname middlename last name in the string\n",
    "    \n",
    "    separate mobile number with respect to `-` dash\n",
    "    \n",
    "    separate website according to the / which means it shows the traverse in the website"
   ]
  },
  {
   "cell_type": "markdown",
   "metadata": {},
   "source": [
    "## Question 5\n",
    "Q5. Unlike a normal regex pattern, a look-ahead condition does not consume the characters it\n",
    "examines. Describe a situation in which this could make a difference in the results of your\n",
    "programme."
   ]
  },
  {
   "cell_type": "markdown",
   "metadata": {},
   "source": [
    "### Answer"
   ]
  },
  {
   "cell_type": "markdown",
   "metadata": {},
   "source": [
    "__Look ahead__ mechanism checks the match for a non-consuming expression ahead of a given pattern.\n",
    "\n",
    "This is useful for situation were you want to find word only if it is follwed by something example scrapping information from forms `phone number : text ` matching this pattern will give use the phone number"
   ]
  },
  {
   "cell_type": "markdown",
   "metadata": {},
   "source": [
    "## Question 6\n",
    "Q6. In standard expressions, what is the difference between positive look-ahead and negative look-\n",
    "ahead?"
   ]
  },
  {
   "cell_type": "markdown",
   "metadata": {},
   "source": [
    "### Answer"
   ]
  },
  {
   "cell_type": "markdown",
   "metadata": {},
   "source": [
    "* Positive look ahead will succeed if the passed non-consuming expression does match against the forthcoming input\n",
    "   * The syntax is A(?=B) where A is the actual expression and B is the non-consuming expression.\n",
    "\n",
    "\n",
    "\n",
    "* Negative look ahead will succeed if the passed non-consuming expression does not match against the forthcoming input.\n",
    "\n",
    "   * The syntax is A(?!B) where A is the actual expression and B is the non-consuming expression.\n",
    "\n"
   ]
  },
  {
   "cell_type": "markdown",
   "metadata": {},
   "source": [
    "## Question 7\n",
    "Q7. What is the benefit of referring to groups by name rather than by number in a standard\n",
    "expression?"
   ]
  },
  {
   "cell_type": "markdown",
   "metadata": {},
   "source": [
    "### Answer"
   ]
  },
  {
   "cell_type": "markdown",
   "metadata": {},
   "source": [
    "if we have many groups then it becomes easier will extracting the text example extracting information from a form we can name the group as phone number , email, name , address etc."
   ]
  },
  {
   "cell_type": "markdown",
   "metadata": {},
   "source": [
    "## Question 8\n",
    "Q8. Can you identify repeated items within a target string using named groups, as in &quot;The cow\n",
    "jumped over the moon&quot;?"
   ]
  },
  {
   "cell_type": "markdown",
   "metadata": {},
   "source": [
    "### Answer"
   ]
  },
  {
   "cell_type": "code",
   "execution_count": 21,
   "metadata": {},
   "outputs": [
    {
     "data": {
      "text/plain": [
       "['The']"
      ]
     },
     "execution_count": 21,
     "metadata": {},
     "output_type": "execute_result"
    }
   ],
   "source": [
    "import re as regex\n",
    "\n",
    "text =  \"The cow jumped over the moon\"\n",
    "pattern = re.compile(r'\\b(\\w+)\\b(?=.*\\b\\1\\b)',re.IGNORECASE)\n",
    "pattern.findall(text)"
   ]
  },
  {
   "cell_type": "markdown",
   "metadata": {},
   "source": [
    "## Question 9\n",
    "Q9. When parsing a string, what is at least one thing that the Scanner interface does for you that the\n",
    "re.findall feature does not?"
   ]
  },
  {
   "cell_type": "markdown",
   "metadata": {},
   "source": [
    "### Answer\n",
    "scanner fetches the input while re.findall doesnt"
   ]
  },
  {
   "cell_type": "markdown",
   "metadata": {},
   "source": [
    "## Question 10\n",
    "Q10. Does a scanner object have to be named scanner?"
   ]
  },
  {
   "cell_type": "markdown",
   "metadata": {},
   "source": [
    "### Answer\n",
    "object must be created create name scanner"
   ]
  }
 ],
 "metadata": {
  "kernelspec": {
   "display_name": "gpu",
   "language": "python",
   "name": "gpu"
  },
  "language_info": {
   "codemirror_mode": {
    "name": "ipython",
    "version": 3
   },
   "file_extension": ".py",
   "mimetype": "text/x-python",
   "name": "python",
   "nbconvert_exporter": "python",
   "pygments_lexer": "ipython3",
   "version": "3.7.9"
  },
  "varInspector": {
   "cols": {
    "lenName": 16,
    "lenType": 16,
    "lenVar": 40
   },
   "kernels_config": {
    "python": {
     "delete_cmd_postfix": "",
     "delete_cmd_prefix": "del ",
     "library": "var_list.py",
     "varRefreshCmd": "print(var_dic_list())"
    },
    "r": {
     "delete_cmd_postfix": ") ",
     "delete_cmd_prefix": "rm(",
     "library": "var_list.r",
     "varRefreshCmd": "cat(var_dic_list()) "
    }
   },
   "types_to_exclude": [
    "module",
    "function",
    "builtin_function_or_method",
    "instance",
    "_Feature"
   ],
   "window_display": false
  }
 },
 "nbformat": 4,
 "nbformat_minor": 4
}
