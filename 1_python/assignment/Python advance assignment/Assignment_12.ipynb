{
 "cells": [
  {
   "cell_type": "markdown",
   "metadata": {},
   "source": [
    "## Question 1\n",
    "Q1. Does assigning a value to a string&#39;s indexed character violate Python&#39;s string immutability?\n"
   ]
  },
  {
   "cell_type": "markdown",
   "metadata": {},
   "source": [
    "### Answer\n",
    "yes python assigning value to string's index character will raise `TypeError: 'str' object does not support item assignment` but we are allowed to access the character in the string."
   ]
  },
  {
   "cell_type": "markdown",
   "metadata": {},
   "source": [
    "## Question 2\n",
    "Q2. Does using the += operator to concatenate strings violate Python&#39;s string immutability? Why or\n",
    "why not?"
   ]
  },
  {
   "cell_type": "markdown",
   "metadata": {},
   "source": [
    "### Answer\n",
    "it does not violet string immutability as it does not raises any error.\n",
    "example :\n",
    "\n",
    "```\n",
    "a=\"d\"\n",
    "id(a)\n",
    "Out[1]: 2488445785392\n",
    "\n",
    "\n",
    "a+=\"h\"\n",
    "id(a)\n",
    "Out[2]: 2488552209456\n",
    "\n",
    "```\n",
    "In the above example we can see that id value of the variable has changed this means that new object is created for `+=` operation and stored in the same variable.this means previous memory location is now a garbage value"
   ]
  },
  {
   "cell_type": "markdown",
   "metadata": {},
   "source": [
    "## Question 3\n",
    "Q3. In Python, how many different ways are there to index a character?"
   ]
  },
  {
   "cell_type": "markdown",
   "metadata": {},
   "source": [
    "### Answer\n",
    "1. postive indexing \n",
    "2. negative indexing \n",
    "3. slicing with postive and negative values\n",
    "\n",
    "\n",
    "postive index start at 0<br>\n",
    "negative index (minimum value:-1) indexing start from last postion of array i.e in reverese order\n",
    "In slicing three attribute are considered  `[start:end:step]`\n",
    "\n",
    "\n",
    "```\n",
    "a = [1,56,16,8,1,7,9,5,4,3]\n",
    "1. a[0]\n",
    "out: 1\n",
    "2. a[-1] \n",
    "out: 3\n",
    "3. a[1:3]\n",
    "out  :[56 16]\n",
    "```\n"
   ]
  },
  {
   "cell_type": "markdown",
   "metadata": {},
   "source": [
    "## Question 4\n",
    "Q4. What is the relationship between indexing and slicing?"
   ]
  },
  {
   "cell_type": "markdown",
   "metadata": {},
   "source": [
    "### Answer\n",
    "slicing and indexing are way to access elements in the list/array.using indexing we can obtain single element in the iterable and using slicing we can obtain particular series of the iterable."
   ]
  },
  {
   "cell_type": "markdown",
   "metadata": {},
   "source": [
    "## Question 5\n",
    "Q5. What is an indexed character&#39;s exact data type? What is the data form of a slicing-generated\n",
    "substring?"
   ]
  },
  {
   "cell_type": "markdown",
   "metadata": {},
   "source": [
    "if we index str we will get str type in return (but only a single charater), If slice the str type then we will get str in return (series of character)\n",
    "example\n",
    "\n",
    "```\n",
    "s= 'ineuron'\n",
    ">>> print(s[1],type(s[1]))\n",
    ">>> 'n' 'str'\n",
    ">>> print(s[1:4],type(s[1:4]))\n",
    ">>> 'neu' 'str'\n",
    "\n",
    "```"
   ]
  },
  {
   "cell_type": "markdown",
   "metadata": {},
   "source": [
    "## Question 7\n",
    "Q7. Identify at least two operators and one method that allow you to combine one or more smaller\n",
    "strings to create a larger string."
   ]
  },
  {
   "cell_type": "markdown",
   "metadata": {},
   "source": [
    "### Answer\n",
    "#### Operator\n",
    "\n",
    "'+' <br>\n",
    "example\n",
    "\n",
    "```\n",
    "print('hello '+ 'world')\n",
    "out[1]: hello world\n",
    "```\n",
    "\n",
    "\"% \"<br>\n",
    "example\n",
    "\n",
    "```\n",
    "s = \"%s-%s\"%('i', 'neuron')\n",
    "print(s)\n",
    "\n",
    "out[1]: i-neuron\n",
    "```\n",
    "\n",
    "\n",
    "#### method\n",
    ".join(iterable(list/tuple))\n",
    "this method is seperator.join(iterable) seperator has to me a string\n",
    "\n",
    "<br>\n",
    "\n",
    "```\n",
    "\" \".join(['hello','world'])\n",
    "out[1]: hello world\n",
    "```\n",
    "\n",
    ".format()<br>\n",
    "this method can join not only string but also non-string data type with the string<br>\n",
    "example\n",
    "\n",
    "```\n",
    "'hello {}'.format('world')\n",
    "out[1]: hello world\n",
    "```"
   ]
  },
  {
   "cell_type": "markdown",
   "metadata": {},
   "source": [
    "## Question 8\n",
    "Q8. What is the benefit of first checking the target string with in or not in before using the index\n",
    "method to find a substring?"
   ]
  },
  {
   "cell_type": "markdown",
   "metadata": {},
   "source": [
    "### Answer\n",
    "directly using index method can lead to value error, if the substring is not found then index method raises value error with message substring not found this can be prevented with using in operator for checking method exist or not."
   ]
  },
  {
   "cell_type": "markdown",
   "metadata": {},
   "source": [
    "## Question 9\n",
    "Q9. Which operators and built-in string methods produce simple Boolean (true/false) results?"
   ]
  },
  {
   "cell_type": "markdown",
   "metadata": {},
   "source": [
    "### Answer\n",
    "in operator produces simple boolean result it helps to check if given substring exist in the string"
   ]
  }
 ],
 "metadata": {
  "kernelspec": {
   "display_name": "gpu",
   "language": "python",
   "name": "gpu"
  },
  "language_info": {
   "codemirror_mode": {
    "name": "ipython",
    "version": 3
   },
   "file_extension": ".py",
   "mimetype": "text/x-python",
   "name": "python",
   "nbconvert_exporter": "python",
   "pygments_lexer": "ipython3",
   "version": "3.7.9"
  },
  "varInspector": {
   "cols": {
    "lenName": 16,
    "lenType": 16,
    "lenVar": 40
   },
   "kernels_config": {
    "python": {
     "delete_cmd_postfix": "",
     "delete_cmd_prefix": "del ",
     "library": "var_list.py",
     "varRefreshCmd": "print(var_dic_list())"
    },
    "r": {
     "delete_cmd_postfix": ") ",
     "delete_cmd_prefix": "rm(",
     "library": "var_list.r",
     "varRefreshCmd": "cat(var_dic_list()) "
    }
   },
   "types_to_exclude": [
    "module",
    "function",
    "builtin_function_or_method",
    "instance",
    "_Feature"
   ],
   "window_display": false
  }
 },
 "nbformat": 4,
 "nbformat_minor": 4
}
