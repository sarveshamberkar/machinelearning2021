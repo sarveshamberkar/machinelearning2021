{
 "cells": [
  {
   "cell_type": "markdown",
   "metadata": {},
   "source": [
    "## Question 1\n",
    "Q1. What is the purpose of the try statement?"
   ]
  },
  {
   "cell_type": "markdown",
   "metadata": {},
   "source": [
    "### Answer\n",
    "if the code has potential to raise an error. then it is written in try block. If error in is encountered in try block then control goes to except block"
   ]
  },
  {
   "cell_type": "markdown",
   "metadata": {},
   "source": [
    "## Question 2\n",
    "Q2. What are the two most popular try statement variations?"
   ]
  },
  {
   "cell_type": "markdown",
   "metadata": {},
   "source": [
    "### Answer\n",
    "variation in try-except\n",
    "* try-except-finally block(single try and single except)\n",
    "\n",
    "```\n",
    "try:\n",
    "    \"this code can raise error\"\n",
    "except:\n",
    "    \"error encountered\"\n",
    "finally:\n",
    "    \" will execute this code no matter what\"\n",
    "```\n",
    "\n",
    "* try-multiple except block(single try block with multiple except to handle multiple type of error)\n",
    "\n",
    "```\n",
    "try:\n",
    "    code_to_raise_error(error_type = IOError)\n",
    "except IOError:\n",
    "    \"Counter error\"\n",
    "except ZeroDivisionError :\n",
    "    \"counter error\"\n",
    "finally:\n",
    "    \"I will execute this code no matter what\"\n",
    "\n",
    "```\n",
    "\n",
    "\n",
    "* try-except-else-finally else is executed when there is no error in the try block\n",
    "\n",
    "\n",
    "```\n",
    "try:\n",
    "    code_to_raise_error(error_type = IOError)\n",
    "except IOError:\n",
    "    \"Counter error\"\n",
    "else :\n",
    "    \"There is no error in try block it is safe to execute further code\"\n",
    "finally:\n",
    "    \"I will execute this code no matter what\"\n",
    "\n",
    "```\n"
   ]
  },
  {
   "cell_type": "markdown",
   "metadata": {},
   "source": [
    "## Question 3\n",
    "Q3. What is the purpose of the raise statement?"
   ]
  },
  {
   "cell_type": "markdown",
   "metadata": {},
   "source": [
    "### Answer\n",
    "raise error Exception according to user exception but exceptions must derive from BaseException.\n",
    "\n",
    "```\n",
    "if n<0:\n",
    "    raise Exception('Error encountered')\n",
    "```"
   ]
  },
  {
   "cell_type": "markdown",
   "metadata": {},
   "source": [
    "## Question 4\n",
    "Q4. What does the assert statement do, and what other statement is it like?"
   ]
  },
  {
   "cell_type": "markdown",
   "metadata": {},
   "source": [
    "### Answer\n",
    "assert statment:In assert a condition is mentioned which returns it true or false if it is false it will raise assertion error. and also allows to pass a message\n",
    "\n",
    "```\n",
    "x = 1\n",
    "assert x %2 == 0, 'Only even numbers are allowed'\n",
    "print('x is a even number.')\n",
    "output:\n",
    "AssertionError Only even numbers are allowed\n",
    "```\n"
   ]
  },
  {
   "cell_type": "markdown",
   "metadata": {},
   "source": [
    "## Question 5\n",
    "Q5. What is the purpose of the with/as argument, and what other statement is it like?"
   ]
  },
  {
   "cell_type": "markdown",
   "metadata": {},
   "source": [
    "### Answer\n",
    "With statement mostly deals with proper release of resources and takes care of minor bugs as well. as statement gives us variable for the resource we trying to access"
   ]
  }
 ],
 "metadata": {
  "kernelspec": {
   "display_name": "gpu",
   "language": "python",
   "name": "gpu"
  },
  "language_info": {
   "codemirror_mode": {
    "name": "ipython",
    "version": 3
   },
   "file_extension": ".py",
   "mimetype": "text/x-python",
   "name": "python",
   "nbconvert_exporter": "python",
   "pygments_lexer": "ipython3",
   "version": "3.7.9"
  },
  "varInspector": {
   "cols": {
    "lenName": 16,
    "lenType": 16,
    "lenVar": 40
   },
   "kernels_config": {
    "python": {
     "delete_cmd_postfix": "",
     "delete_cmd_prefix": "del ",
     "library": "var_list.py",
     "varRefreshCmd": "print(var_dic_list())"
    },
    "r": {
     "delete_cmd_postfix": ") ",
     "delete_cmd_prefix": "rm(",
     "library": "var_list.r",
     "varRefreshCmd": "cat(var_dic_list()) "
    }
   },
   "types_to_exclude": [
    "module",
    "function",
    "builtin_function_or_method",
    "instance",
    "_Feature"
   ],
   "window_display": false
  }
 },
 "nbformat": 4,
 "nbformat_minor": 4
}
