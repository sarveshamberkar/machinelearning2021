{
 "cells": [
  {
   "cell_type": "markdown",
   "metadata": {},
   "source": [
    "## Question 1\n",
    "1. What are the new features added in Python 3.8 version?"
   ]
  },
  {
   "cell_type": "markdown",
   "metadata": {},
   "source": [
    "### Answer\n",
    "* __Assignment operator__ : \n",
    "  \n",
    "  walrus operator (:=) this operator \n",
    "\n",
    "example\n",
    "```python\n",
    "user = 'sarvesh'\n",
    "if (line := input('enter value')) == user:\n",
    "    print('Access granted')\n",
    "else:\n",
    "    print('Access denied ! you are unauthorized')\n",
    "```\n",
    "\n",
    "* __postional-only argument__:\n",
    "  \n",
    "   while defining the function if '/'(forward slash) is put at the end while defining the parameter just before ')' (closing parenthesis) and just after last parameter\n",
    "   \n",
    "   example:\n",
    "   \n",
    "   \n",
    "```python\n",
    "def func(a,b,c=None,/):\n",
    "    print('Nothing')\n",
    "\n",
    "func(5,2,20) # Allowed\n",
    "func(5,2) # Allowed\n",
    "func(5,2,c=20) # Not allowed\n",
    "\n",
    "```\n",
    "\n",
    "* multiprocessing shared memory\n",
    "    This module provides a class, SharedMemory, for the allocation and management of shared memory to be accessed by one or more processes on a multicore or symmetric multiprocessor (SMP) machine.\n",
    "    \n",
    "* F-string debugging support\n",
    "    F-string format provide way print in more efficient way\n",
    "    \n",
    "    example:\n",
    "\n",
    "```python\n",
    "x = 3 \n",
    "print(f'{x+1}')\n",
    "\n",
    "## this wil only print 4\n",
    "x = 3 \n",
    "print(f'{x+1=}')\n",
    "\n",
    "## this will print 'x+1=4'\n",
    "```\n",
    "\n",
    "other notable features\n",
    "* __New version of the pickle protocol__\n",
    "* __Reversible dictionaries__\n",
    "* __Performance improvements__"
   ]
  },
  {
   "cell_type": "markdown",
   "metadata": {},
   "source": [
    "## Question 2\n",
    "2. What is monkey patching in Python?"
   ]
  },
  {
   "cell_type": "markdown",
   "metadata": {},
   "source": [
    "### Answer\n"
   ]
  },
  {
   "cell_type": "markdown",
   "metadata": {},
   "source": [
    "## Question 3\n",
    "3. What is the difference between a shallow copy and deep copy?"
   ]
  },
  {
   "cell_type": "markdown",
   "metadata": {},
   "source": [
    "### Answer\n",
    "* shallow copy: it copies the higher level object as in if object is containing object let say outer object as obj1 and inner as obj2 then obj1 is copied (pointing to new memory location)but inner obj2 is still pointing to the old obj\n",
    "* deepcopy : clones the complete object which means memory isn't shared between copied"
   ]
  },
  {
   "cell_type": "markdown",
   "metadata": {},
   "source": [
    "## Question 4\n",
    "4. What is the maximum possible length of an identifier?"
   ]
  },
  {
   "cell_type": "markdown",
   "metadata": {},
   "source": [
    "### Answer\n",
    "79 characters"
   ]
  },
  {
   "cell_type": "markdown",
   "metadata": {},
   "source": [
    "## Question 5\n",
    "5. What is generator comprehension?"
   ]
  },
  {
   "cell_type": "markdown",
   "metadata": {},
   "source": [
    "### Answer\n",
    "it is just like list comphrehension but rather than a list in creates a generator this is useful when you want create lakhs of numbers but dont want to store it in the memory (prevent memory leakage)"
   ]
  }
 ],
 "metadata": {
  "kernelspec": {
   "display_name": "gpu",
   "language": "python",
   "name": "gpu"
  },
  "language_info": {
   "codemirror_mode": {
    "name": "ipython",
    "version": 3
   },
   "file_extension": ".py",
   "mimetype": "text/x-python",
   "name": "python",
   "nbconvert_exporter": "python",
   "pygments_lexer": "ipython3",
   "version": "3.7.9"
  },
  "varInspector": {
   "cols": {
    "lenName": 16,
    "lenType": 16,
    "lenVar": 40
   },
   "kernels_config": {
    "python": {
     "delete_cmd_postfix": "",
     "delete_cmd_prefix": "del ",
     "library": "var_list.py",
     "varRefreshCmd": "print(var_dic_list())"
    },
    "r": {
     "delete_cmd_postfix": ") ",
     "delete_cmd_prefix": "rm(",
     "library": "var_list.r",
     "varRefreshCmd": "cat(var_dic_list()) "
    }
   },
   "types_to_exclude": [
    "module",
    "function",
    "builtin_function_or_method",
    "instance",
    "_Feature"
   ],
   "window_display": false
  }
 },
 "nbformat": 4,
 "nbformat_minor": 4
}
