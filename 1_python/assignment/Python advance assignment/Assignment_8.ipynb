{
 "cells": [
  {
   "cell_type": "markdown",
   "metadata": {},
   "source": [
    "## Question 1\n",
    "Q1. What are the two latest user-defined exception constraints in Python 3.X?\n"
   ]
  },
  {
   "cell_type": "markdown",
   "metadata": {},
   "source": [
    "### Answer\n",
    "* Exceptions flagged with \"stricter inheritance\" will no longer inherit from a certain class. A \"broader inheritance\" flag means a class has been added to the exception's inheritance tree. All comparisons are against the Python 2.4 exception hierarchy.\n",
    "\n",
    "* <b>KeyboardInterrupt and SystemExit</b>\n",
    "    - these two exception are no longer in Exception clause\n",
    "* <b>NotImplementedError</b>\n",
    "    - Inherits from Exception instead of from RuntimeError"
   ]
  },
  {
   "cell_type": "markdown",
   "metadata": {},
   "source": [
    "## Question 2\n",
    "Q2. How are class-based exceptions that have been raised matched to handlers?"
   ]
  },
  {
   "cell_type": "markdown",
   "metadata": {},
   "source": [
    "## Answer\n",
    "class is Inherited from Exception class so that we can write our own custom Exception.\n",
    "Example:\n",
    "\n",
    "```\n",
    "class DemoException(Exception):\n",
    "    def __init__(self):\n",
    "        self.err_msg = 'This is Error message'\n",
    "    def __str__(self):\n",
    "        return self.err_msg\n",
    "        \n",
    "try:\n",
    "    raise(DemoException)\n",
    "except DemoException as error:\n",
    "    print('Exception occured: ',error.err_msg)\n",
    "```"
   ]
  },
  {
   "cell_type": "markdown",
   "metadata": {},
   "source": [
    "## Question 3\n",
    "Q3. Describe two methods for attaching context information to exception artefacts."
   ]
  },
  {
   "cell_type": "markdown",
   "metadata": {},
   "source": [
    "### Answer\n",
    "* `__context__ `  attach context information.It is for implicitly chained exception it is more specific than temporal precedence but less than causation.basic idea is an exception occurs in context of another exception.\n",
    "* `__cause__`  It is for excplicitly chained exception. it gives specific message regarding the the exception"
   ]
  },
  {
   "cell_type": "markdown",
   "metadata": {},
   "source": [
    "## Question 4\n",
    "Q4. Describe two methods for specifying the text of an exception object&#39;s error message."
   ]
  },
  {
   "cell_type": "markdown",
   "metadata": {},
   "source": [
    "### Answer\n",
    "* using printing exception object example\n",
    "\n",
    "```\n",
    "except Exception as e:\n",
    "    print(e)\n",
    "```\n",
    "\n",
    "* printing exception class or writting custom Exception and define exception msg as class variable and then printing that exception \n",
    "\n",
    "```\n",
    "class DemoException(Exception):\n",
    "    def __init__(self):\n",
    "        self.msg = 'This is demo exception'\n",
    "\n",
    "\n",
    "try:\n",
    "    raise DemoException\n",
    "except DemoException as d:\n",
    "    print(d.msg)\n",
    "```"
   ]
  },
  {
   "cell_type": "markdown",
   "metadata": {},
   "source": [
    "## Question 5\n",
    "Q5. Why do you no longer use string-based exceptions?"
   ]
  },
  {
   "cell_type": "markdown",
   "metadata": {},
   "source": [
    "### Answer"
   ]
  },
  {
   "cell_type": "markdown",
   "metadata": {
    "collapsed": true
   },
   "source": [
    "In python 1.5 and later version the standard exceptions is implemented uisng Python classes, and a few new standard exceptions have been added."
   ]
  }
 ],
 "metadata": {
  "kernelspec": {
   "display_name": "gpu",
   "language": "python",
   "name": "gpu"
  },
  "language_info": {
   "codemirror_mode": {
    "name": "ipython",
    "version": 3
   },
   "file_extension": ".py",
   "mimetype": "text/x-python",
   "name": "python",
   "nbconvert_exporter": "python",
   "pygments_lexer": "ipython3",
   "version": "3.7.9"
  },
  "varInspector": {
   "cols": {
    "lenName": 16,
    "lenType": 16,
    "lenVar": 40
   },
   "kernels_config": {
    "python": {
     "delete_cmd_postfix": "",
     "delete_cmd_prefix": "del ",
     "library": "var_list.py",
     "varRefreshCmd": "print(var_dic_list())"
    },
    "r": {
     "delete_cmd_postfix": ") ",
     "delete_cmd_prefix": "rm(",
     "library": "var_list.r",
     "varRefreshCmd": "cat(var_dic_list()) "
    }
   },
   "types_to_exclude": [
    "module",
    "function",
    "builtin_function_or_method",
    "instance",
    "_Feature"
   ],
   "window_display": false
  }
 },
 "nbformat": 4,
 "nbformat_minor": 4
}
