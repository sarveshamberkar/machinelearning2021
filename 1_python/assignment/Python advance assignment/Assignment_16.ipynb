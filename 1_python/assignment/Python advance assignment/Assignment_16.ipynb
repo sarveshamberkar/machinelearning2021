{
 "cells": [
  {
   "cell_type": "markdown",
   "metadata": {},
   "source": [
    "## Question 1\n",
    "Q1. What is the benefit of regular expressions?"
   ]
  },
  {
   "cell_type": "markdown",
   "metadata": {},
   "source": [
    "### Answer"
   ]
  },
  {
   "cell_type": "markdown",
   "metadata": {},
   "source": [
    "* high number of permutation and combination possible to define parameter or rule to accept the input.\n",
    "* Regular expression supports range of languages in from C# to python almost all language is compatible with regular expression.\n",
    "* reduces the complexity of the code and makes the code look cleaner it also reduces the size of the code.\n",
    "* speed of validating the input is also significantly high."
   ]
  },
  {
   "cell_type": "markdown",
   "metadata": {},
   "source": [
    "## Question 2\n",
    "Q2. Describe the difference between the effects of &quot;(ab)c+&quot; and &quot;a(bc)+.&quot; Which of these, if any, is the\n",
    "unqualified pattern &quot;abc+&quot;?"
   ]
  },
  {
   "cell_type": "markdown",
   "metadata": {},
   "source": [
    "### Answer"
   ]
  },
  {
   "cell_type": "markdown",
   "metadata": {},
   "source": [
    "example one:<br>\n",
    "```python\n",
    "import re\n",
    "sentence = \"\"\" abbc abccc\"\"\"\n",
    "pattern  = re.compile(r'(ab)c+')\n",
    "result = pattern.finditer(sentence)\n",
    "for i in result:\n",
    "    print(i)\n",
    "```\n",
    "* In this ab should occur exactly once and c should occur atleast once\n",
    "example two:<br>\n",
    "```python\n",
    "import re\n",
    "sentence = \"\"\" abbc abccc\"\"\"\n",
    "pattern  = re.compile(r'a(bc)+')\n",
    "result = pattern.finditer(sentence)\n",
    "for i in result:\n",
    "    print(i)\n",
    "```\n",
    "* In this a should occur exactly once and bc should occur atleast once\n",
    "* example one qualifies as abc+ this means ab should occur exactly once and c should occur atleast once"
   ]
  },
  {
   "cell_type": "markdown",
   "metadata": {},
   "source": [
    "## Question 3\n",
    "Q3. How much do you need to use the following sentence while using regular expressions?\n",
    "import re"
   ]
  },
  {
   "cell_type": "markdown",
   "metadata": {},
   "source": [
    "### Answer\n",
    "re package is used to execute regular expression this is most important package for regular expression. but import re statement need to be executed once to use the function of the re package"
   ]
  },
  {
   "cell_type": "markdown",
   "metadata": {},
   "source": [
    "## Question 4\n",
    "Q4. Which characters have special significance in square brackets when expressing a range, and\n",
    "under what circumstances?"
   ]
  },
  {
   "cell_type": "markdown",
   "metadata": {},
   "source": [
    "### Answer"
   ]
  },
  {
   "cell_type": "markdown",
   "metadata": {},
   "source": [
    "* `[pqr]` is a \"character class\" that means \"any character from p,q or r\"\n",
    "    * `[^ ]    - Matches Characters NOT in brackets` <br>\n",
    "    * `\\ general escape character`"
   ]
  },
  {
   "cell_type": "markdown",
   "metadata": {},
   "source": [
    "## Question 5\n",
    "Q5. How does compiling a regular-expression object benefit you?"
   ]
  },
  {
   "cell_type": "markdown",
   "metadata": {},
   "source": [
    "### Answer\n",
    "You are able to reuse particular regualar expression again thus eliminating the need of writing of the expression again"
   ]
  },
  {
   "cell_type": "markdown",
   "metadata": {},
   "source": [
    "## Question 6\n",
    "Q6. What are some examples of how to use the match object returned by re.match and re.search?"
   ]
  },
  {
   "cell_type": "markdown",
   "metadata": {},
   "source": [
    "### Answer"
   ]
  },
  {
   "cell_type": "markdown",
   "metadata": {},
   "source": [
    "`re.match` it searches first ocurrence of the substring,it searches only the first line of the string it has nothing to do with the newline <br>where as `re.search` searchs the whole string  and returns the first occurence of the string."
   ]
  },
  {
   "cell_type": "markdown",
   "metadata": {},
   "source": [
    "## Question 7\n",
    "Q7. What is the difference between using a vertical bar (|) as an alteration and using square brackets\n",
    "as a character set?"
   ]
  },
  {
   "cell_type": "markdown",
   "metadata": {},
   "source": [
    "### Answer\n",
    "verticle bar acts as `OR` in the regex 'a' or 'b' \n",
    "\n",
    "`[]` says any character inside the bracket eg [abc] : any character present in bracket a,b or c"
   ]
  },
  {
   "cell_type": "markdown",
   "metadata": {},
   "source": [
    "## Question 8\n",
    "Q8. In regular-expression search patterns, why is it necessary to use the raw-string indicator (r)? In  \n",
    "replacement strings?"
   ]
  },
  {
   "cell_type": "markdown",
   "metadata": {},
   "source": [
    "### Answer\n",
    "if the string is not converted to raw string python interpreter will treat it as normal string. In normal string escape character starts with backslash example \\n: for newline \\t for tab this will interfer with working of regular expression"
   ]
  }
 ],
 "metadata": {
  "kernelspec": {
   "display_name": "gpu",
   "language": "python",
   "name": "gpu"
  },
  "language_info": {
   "codemirror_mode": {
    "name": "ipython",
    "version": 3
   },
   "file_extension": ".py",
   "mimetype": "text/x-python",
   "name": "python",
   "nbconvert_exporter": "python",
   "pygments_lexer": "ipython3",
   "version": "3.7.9"
  },
  "varInspector": {
   "cols": {
    "lenName": 16,
    "lenType": 16,
    "lenVar": 40
   },
   "kernels_config": {
    "python": {
     "delete_cmd_postfix": "",
     "delete_cmd_prefix": "del ",
     "library": "var_list.py",
     "varRefreshCmd": "print(var_dic_list())"
    },
    "r": {
     "delete_cmd_postfix": ") ",
     "delete_cmd_prefix": "rm(",
     "library": "var_list.r",
     "varRefreshCmd": "cat(var_dic_list()) "
    }
   },
   "types_to_exclude": [
    "module",
    "function",
    "builtin_function_or_method",
    "instance",
    "_Feature"
   ],
   "window_display": false
  }
 },
 "nbformat": 4,
 "nbformat_minor": 4
}
