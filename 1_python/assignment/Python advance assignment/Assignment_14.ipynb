{
 "cells": [
  {
   "cell_type": "markdown",
   "metadata": {},
   "source": [
    "## Question 1\n",
    "Q1. Is an assignment operator like += only for show? Is it possible that it would lead to faster results\n",
    "at the runtime?"
   ]
  },
  {
   "cell_type": "markdown",
   "metadata": {},
   "source": [
    "### Answer\n",
    "`variable += value` represent `variable = variable +value`"
   ]
  },
  {
   "cell_type": "code",
   "execution_count": 12,
   "metadata": {},
   "outputs": [
    {
     "name": "stdout",
     "output_type": "stream",
     "text": [
      "time taken for the operation is 0.0009968280792236328\n"
     ]
    }
   ],
   "source": [
    "import time\n",
    "s = time.time()\n",
    "a,b=5,6\n",
    "for i in range(10000):\n",
    "    a+=b\n",
    "e = time.time()\n",
    "print(f'time taken for the operation is {e-s}')"
   ]
  },
  {
   "cell_type": "code",
   "execution_count": 13,
   "metadata": {},
   "outputs": [
    {
     "name": "stdout",
     "output_type": "stream",
     "text": [
      "time taken for the operation is 0.0009963512420654297\n"
     ]
    }
   ],
   "source": [
    "import time\n",
    "s = time.time()\n",
    "a,b=5,6\n",
    "for i in range(10000):\n",
    "    a = a+b\n",
    "e = time.time()\n",
    "print(f'time taken for the operation is {e-s}')"
   ]
  },
  {
   "cell_type": "markdown",
   "metadata": {},
   "source": [
    " both operation takes same amount of time in this we considered adding number 10000 times as normal subtraction will give time as zero"
   ]
  },
  {
   "cell_type": "markdown",
   "metadata": {},
   "source": [
    "## Question 2\n",
    "Q2. What is the smallest number of statements you&#39;d have to write in most programming languages to\n",
    "replace the Python expression a, b = a + b, a?"
   ]
  },
  {
   "cell_type": "markdown",
   "metadata": {},
   "source": [
    "### Answer\n",
    "\n",
    "```\n",
    "temp = a\n",
    "a = a+b\n",
    "b = temp\n",
    "```\n",
    "minimum 3 lines"
   ]
  },
  {
   "cell_type": "markdown",
   "metadata": {},
   "source": [
    "## Question 3\n",
    "Q3. In Python, what is the most effective way to set a list of 100 integers to 0?"
   ]
  },
  {
   "cell_type": "markdown",
   "metadata": {},
   "source": [
    "### Answer"
   ]
  },
  {
   "cell_type": "code",
   "execution_count": 14,
   "metadata": {},
   "outputs": [],
   "source": [
    "lst = [0]*100"
   ]
  },
  {
   "cell_type": "markdown",
   "metadata": {},
   "source": [
    "## Question 4\n",
    "Q4. What is the most effective way to initialise a list of 99 integers that repeats the sequence 1, 2, 3?\n",
    "S If necessary, show step-by-step instructions on how to accomplish this."
   ]
  },
  {
   "cell_type": "markdown",
   "metadata": {},
   "source": [
    "### Answer\n",
    "As we have make list of 99 integer of pattern 1,2,3 which means this pattern repeats for 33 times\n",
    "1. make a list of pattern\n",
    "2. multiply it with 33\n",
    "3. store in the varible"
   ]
  },
  {
   "cell_type": "code",
   "execution_count": 16,
   "metadata": {},
   "outputs": [
    {
     "name": "stdout",
     "output_type": "stream",
     "text": [
      "[1, 2, 3, 1, 2, 3, 1, 2, 3, 1, 2, 3, 1, 2, 3, 1, 2, 3, 1, 2, 3, 1, 2, 3, 1, 2, 3, 1, 2, 3, 1, 2, 3, 1, 2, 3, 1, 2, 3, 1, 2, 3, 1, 2, 3, 1, 2, 3, 1, 2, 3, 1, 2, 3, 1, 2, 3, 1, 2, 3, 1, 2, 3, 1, 2, 3, 1, 2, 3, 1, 2, 3, 1, 2, 3, 1, 2, 3, 1, 2, 3, 1, 2, 3, 1, 2, 3, 1, 2, 3, 1, 2, 3, 1, 2, 3, 1, 2, 3]\n"
     ]
    }
   ],
   "source": [
    "a = [1,2,3]*33\n",
    "print(a)"
   ]
  },
  {
   "cell_type": "markdown",
   "metadata": {},
   "source": [
    "## Question 5\n",
    "Q5. If you&#39;re using IDLE to run a Python application, explain how to print a multidimensional list as\n",
    "efficiently?"
   ]
  },
  {
   "cell_type": "markdown",
   "metadata": {},
   "source": [
    "### Answer\n",
    "using library called pprint(pretty print) which print the varible in the printable format"
   ]
  },
  {
   "cell_type": "code",
   "execution_count": 22,
   "metadata": {},
   "outputs": [
    {
     "name": "stdout",
     "output_type": "stream",
     "text": [
      "[[1, 2, 3], [1, 2, 3], [1, 2, 3], [1, 2, 3], [1, 2, 3], [1, 2, 3], [1, 2, 3], [1, 2, 3], [1, 2, 3], [1, 2, 3], [1, 2, 3], [1, 2, 3], [1, 2, 3], [1, 2, 3], [1, 2, 3], [1, 2, 3], [1, 2, 3], [1, 2, 3], [1, 2, 3], [1, 2, 3], [1, 2, 3], [1, 2, 3], [1, 2, 3], [1, 2, 3], [1, 2, 3], [1, 2, 3], [1, 2, 3], [1, 2, 3], [1, 2, 3], [1, 2, 3], [1, 2, 3], [1, 2, 3], [1, 2, 3]]\n",
      "\n",
      " this is pprint \n",
      "\n",
      "[[1, 2, 3],\n",
      " [1, 2, 3],\n",
      " [1, 2, 3],\n",
      " [1, 2, 3],\n",
      " [1, 2, 3],\n",
      " [1, 2, 3],\n",
      " [1, 2, 3],\n",
      " [1, 2, 3],\n",
      " [1, 2, 3],\n",
      " [1, 2, 3],\n",
      " [1, 2, 3],\n",
      " [1, 2, 3],\n",
      " [1, 2, 3],\n",
      " [1, 2, 3],\n",
      " [1, 2, 3],\n",
      " [1, 2, 3],\n",
      " [1, 2, 3],\n",
      " [1, 2, 3],\n",
      " [1, 2, 3],\n",
      " [1, 2, 3],\n",
      " [1, 2, 3],\n",
      " [1, 2, 3],\n",
      " [1, 2, 3],\n",
      " [1, 2, 3],\n",
      " [1, 2, 3],\n",
      " [1, 2, 3],\n",
      " [1, 2, 3],\n",
      " [1, 2, 3],\n",
      " [1, 2, 3],\n",
      " [1, 2, 3],\n",
      " [1, 2, 3],\n",
      " [1, 2, 3],\n",
      " [1, 2, 3]]\n"
     ]
    }
   ],
   "source": [
    "import pprint\n",
    "a = [[1,2,3] for i in range(33)]\n",
    "print(a)\n",
    "print(\"\\n this is pprint \\n\")\n",
    "pprint.pprint(a)"
   ]
  },
  {
   "cell_type": "markdown",
   "metadata": {},
   "source": [
    "## Question 6\n",
    "Q6. Is it possible to use list comprehension with a string? If so, how can you go about doing it?"
   ]
  },
  {
   "cell_type": "markdown",
   "metadata": {},
   "source": [
    "## Answer\n",
    "yes, list comphrehension can be used but it return list which can be further converted to str\n",
    "<br> example"
   ]
  },
  {
   "cell_type": "code",
   "execution_count": 25,
   "metadata": {},
   "outputs": [
    {
     "name": "stdout",
     "output_type": "stream",
     "text": [
      "ae\n"
     ]
    }
   ],
   "source": [
    "a = 'sarvesh'\n",
    "print(\"\".join([i for i in a if i in 'aeiou']))"
   ]
  },
  {
   "cell_type": "markdown",
   "metadata": {},
   "source": [
    "## Question 7\n",
    "Q7. From the command line, how do you get support with a user-written Python programme? Is this\n",
    "possible from inside IDLE?"
   ]
  },
  {
   "cell_type": "markdown",
   "metadata": {},
   "source": [
    "### Answer\n",
    "if argument parse is used it we can write argument you can use -h will executing run command example \n",
    "\n",
    "```\n",
    "python mypythonscript.py -h\n",
    "```\n",
    "\n",
    "this -h is not possible in IDE as you can see the complete program and its argument "
   ]
  },
  {
   "cell_type": "markdown",
   "metadata": {},
   "source": [
    "## Question 8\n",
    "Q8. Functions are said to be “first-class objects” in Python but not in most other languages, such as\n",
    "C++ or Java. What can you do in Python with a function (callable object) that you can&#39;t do in C or\n",
    "C++?"
   ]
  },
  {
   "cell_type": "markdown",
   "metadata": {},
   "source": [
    "### Answer\n",
    "first class object or citizen means that an entity that supports all the features which also in other entities this typically include assigning , passing it as an argument and returned from a function.<br>\n",
    "In python and javascript function are first class object which means that function can be passed as an argument, it can be assigned to varible and so on<br>\n",
    "as python is scripting language  it has concept called as first class object just like javascript. whereas c++,java are OOP language which do not support scripting."
   ]
  },
  {
   "cell_type": "markdown",
   "metadata": {},
   "source": [
    "## Question 9\n",
    "Q9. How do you distinguish between a wrapper, a wrapped feature, and a decorator?"
   ]
  },
  {
   "cell_type": "markdown",
   "metadata": {},
   "source": [
    "### Answer\n",
    "* Wrapper functions can be used as an interface to adapt to the existing codes\n",
    "* Decorators allow us to wrap another function in order to extend the behavior of the wrapped function, without permanently modifying it"
   ]
  },
  {
   "cell_type": "markdown",
   "metadata": {},
   "source": [
    "## Question 10\n",
    "Q10. If a function is a generator function, what does it return?"
   ]
  },
  {
   "cell_type": "markdown",
   "metadata": {},
   "source": [
    "### Answer\n",
    "it return generator(iterator object )in return this object used to iterate over the data present in it. this does not load data into the memory until and unless it is called "
   ]
  },
  {
   "cell_type": "markdown",
   "metadata": {},
   "source": [
    "## Question 11\n",
    "Q11. What is the one improvement that must be made to a function in order for it to become a\n",
    "generator function in the Python language?"
   ]
  },
  {
   "cell_type": "markdown",
   "metadata": {},
   "source": [
    "### Answer\n",
    "rather than using return keyword use  yield keyword to return value continuesly"
   ]
  },
  {
   "cell_type": "markdown",
   "metadata": {},
   "source": [
    "## Question 12\n",
    "Q12. Identify at least one benefit of generators."
   ]
  },
  {
   "cell_type": "markdown",
   "metadata": {},
   "source": [
    "### Answer"
   ]
  },
  {
   "cell_type": "markdown",
   "metadata": {},
   "source": [
    "It does not load data into the memory until and unless it is called.\n",
    "which prevent memory out of bound error and you can load data greated than your RAM size"
   ]
  }
 ],
 "metadata": {
  "kernelspec": {
   "display_name": "gpu",
   "language": "python",
   "name": "gpu"
  },
  "language_info": {
   "codemirror_mode": {
    "name": "ipython",
    "version": 3
   },
   "file_extension": ".py",
   "mimetype": "text/x-python",
   "name": "python",
   "nbconvert_exporter": "python",
   "pygments_lexer": "ipython3",
   "version": "3.7.9"
  },
  "varInspector": {
   "cols": {
    "lenName": 16,
    "lenType": 16,
    "lenVar": 40
   },
   "kernels_config": {
    "python": {
     "delete_cmd_postfix": "",
     "delete_cmd_prefix": "del ",
     "library": "var_list.py",
     "varRefreshCmd": "print(var_dic_list())"
    },
    "r": {
     "delete_cmd_postfix": ") ",
     "delete_cmd_prefix": "rm(",
     "library": "var_list.r",
     "varRefreshCmd": "cat(var_dic_list()) "
    }
   },
   "types_to_exclude": [
    "module",
    "function",
    "builtin_function_or_method",
    "instance",
    "_Feature"
   ],
   "window_display": false
  }
 },
 "nbformat": 4,
 "nbformat_minor": 4
}
