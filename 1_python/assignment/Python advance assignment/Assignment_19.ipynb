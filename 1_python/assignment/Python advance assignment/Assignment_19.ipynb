{
 "cells": [
  {
   "cell_type": "markdown",
   "metadata": {},
   "source": [
    "## Question 1\n",
    "Q1. Define the relationship between a class and its instances. Is it a one-to-one or a one-to-many\n",
    "partnership, for example?"
   ]
  },
  {
   "cell_type": "markdown",
   "metadata": {},
   "source": [
    "### Answer\n",
    "as one class can have many instance of itself so it is one to many relationship example:\n",
    "```python \n",
    "class Car:\n",
    "    def __init__(self, max_speed):\n",
    "        self.engine = '1000cc'\n",
    "        self.tire = '16 inches'\n",
    "        self.speed = max_speed\n",
    "    def car_class(self):\n",
    "        return 'power' if self.speed<120 else 'race'\n",
    "c1 = Car(100)\n",
    "c2 = Car(160)\n",
    "\n",
    "print(c1.car_class())\n",
    "print(c2.car_class())\n",
    "\n",
    "# output\n",
    "# power\n",
    "# race\n",
    "```"
   ]
  },
  {
   "cell_type": "markdown",
   "metadata": {},
   "source": [
    "## Question 2\n",
    "Q2. What kind of data is held only in an instance?"
   ]
  },
  {
   "cell_type": "markdown",
   "metadata": {},
   "source": [
    "### Answer\n",
    "class variable which were passed when initialisation of class"
   ]
  },
  {
   "cell_type": "markdown",
   "metadata": {},
   "source": [
    "## Question 3\n",
    "Q3. What kind of knowledge is stored in a class?"
   ]
  },
  {
   "cell_type": "markdown",
   "metadata": {},
   "source": [
    "### Answer\n",
    "class stores functions of the classes class variable, class instance variable \n",
    "\n",
    "Python instance variables are owned by an instance of a class. The value of an instance variable can be different depending on the instance with which the variable is associated.\n",
    "\n",
    "A Python class variable is shared by all object instances of a class. Class variables are declared when a class is being constructed. They are not defined inside any methods of a class.\n",
    "\n"
   ]
  },
  {
   "cell_type": "markdown",
   "metadata": {},
   "source": [
    "## Question \n",
    "Q4. What exactly is a method, and how is it different from a regular function?"
   ]
  },
  {
   "cell_type": "markdown",
   "metadata": {},
   "source": [
    "### Answer\n",
    "Python method is like a function, except it is attached to an object. We call a method on an object, and it possibly makes changes to that object. A method, then, belongs to a class\n",
    "\n",
    "function is independent of class object\n",
    "\n",
    "method functionality may change if instance varible/ class varible of the object is changed whereas this is not the case in function as it is independent of any class.method may also alter the object shape"
   ]
  },
  {
   "cell_type": "markdown",
   "metadata": {},
   "source": [
    "## Question 5\n",
    "Q5. Is inheritance supported in Python, and if so, what is the syntax?"
   ]
  },
  {
   "cell_type": "markdown",
   "metadata": {},
   "source": [
    "### Answer"
   ]
  },
  {
   "cell_type": "markdown",
   "metadata": {},
   "source": [
    "Inheritance is defined as the capability of one class to derive or inherit the properties from some other class and use it whenever needed.\n",
    "\n",
    "python supports \n",
    "* Single Inheritance\n",
    "* Multilevel Inheritance\n",
    "* Multiple Inheritance\n",
    "* Hierarchical Inheritance\n",
    "* Hybrid Inheritance\n",
    "\n",
    "#### General syntax of inheritance\n",
    "\n",
    "```python \n",
    "# Base class\n",
    "class Parent:\n",
    "     def func1(self):\n",
    "          print(\"This function is in parent class.\")\n",
    " \n",
    "# Derived class\n",
    "class Child(Parent):\n",
    "     def func2(self):\n",
    "          print(\"This function is in child class.\")\n",
    "```"
   ]
  },
  {
   "cell_type": "markdown",
   "metadata": {},
   "source": [
    "## Question 6\n",
    "Q6. How much encapsulation (making instance or class variables private) does Python support?"
   ]
  },
  {
   "cell_type": "markdown",
   "metadata": {},
   "source": [
    "### Answer\n",
    "putting '_'  underscore in front of variable indicates it is protected \n",
    "\n",
    "putting '`__`' double underscore in front of variable indicates it is private these variable can be still be accessed and changes. \n",
    "\n",
    "although you can restrict the access of variable using some complex method. "
   ]
  },
  {
   "cell_type": "markdown",
   "metadata": {},
   "source": [
    "## Question 7\n",
    "Q7. How do you distinguish between a class variable and an instance variable?"
   ]
  },
  {
   "cell_type": "markdown",
   "metadata": {},
   "source": [
    "### Answer\n",
    "class variable are not written in any of the class method, It can be accessed by calling with the class name. Changes that are made to these variables through one object will reflect in another object. \n",
    "\n",
    "\n",
    "instance variable can be accessed directly by calling variable names inside the class. Changes that are made to these variables through one object will not reflect in another object.  \t"
   ]
  },
  {
   "cell_type": "markdown",
   "metadata": {},
   "source": [
    "## Question 8\n",
    "Q8. When, if ever, can self be included in a class&#39;s method definitions?"
   ]
  },
  {
   "cell_type": "markdown",
   "metadata": {},
   "source": [
    "### Answer\n",
    "when method uses class varible or instance variable of the class then we self variable in the parameter of the class's method or else we use `@static` decorator "
   ]
  },
  {
   "cell_type": "markdown",
   "metadata": {},
   "source": [
    "## Question 9\n",
    "Q9. What is the difference between the _ _add_ _ and the _ _radd_ _ methods?"
   ]
  },
  {
   "cell_type": "markdown",
   "metadata": {},
   "source": [
    "### Answer\n",
    "_ _radd_ _ (reflected addition)That was \"normal\" addition. The reflected equivalent is the same thing, except with the operands switched around\n",
    "\n",
    "\n",
    "_ _add_ _:( some_object + other)normal addition \n"
   ]
  },
  {
   "cell_type": "code",
   "execution_count": 2,
   "metadata": {},
   "outputs": [
    {
     "name": "stdout",
     "output_type": "stream",
     "text": [
      "7\n",
      "10\n"
     ]
    }
   ],
   "source": [
    "class A:\n",
    "    def __radd__(self, other):\n",
    "        return 10\n",
    "    def __add__(self, other):\n",
    "        return 5 + other\n",
    "\n",
    "a = A()\n",
    "print(a + 2)\n",
    "print(2+a)\n"
   ]
  },
  {
   "cell_type": "markdown",
   "metadata": {},
   "source": [
    "## Question 10\n",
    "Q10. When is it necessary to use a reflection method? When do you not need it, even though you\n",
    "support the operation in question?"
   ]
  },
  {
   "cell_type": "markdown",
   "metadata": {},
   "source": [
    "### Answer\n",
    "if the `obj + 6` this means obj.__add__(6) which means the custom method will add 6 to obj,whatever it means to add 6 to your custom class, but if we write `6 + obj` which will mean `(6).__add__(obj)` its add method doesn't know anything about your new type, so it will return a special value NotImplemented. therefore we use radd\n",
    "\n",
    "example:\n",
    "\n",
    "```python\n",
    "class A:\n",
    "    def __radd__(self, other):\n",
    "        return 10\n",
    "    def __add__(self, other):\n",
    "        return 5 + other\n",
    "\n",
    "a = A()\n",
    "print(a + 2)\n",
    "print(2+a)\n",
    "## output\n",
    "7\n",
    "10\n",
    "\n",
    "```"
   ]
  },
  {
   "cell_type": "markdown",
   "metadata": {},
   "source": [
    "## Question 11\n",
    "Q11. What is the _ _iadd_ _ method called?"
   ]
  },
  {
   "cell_type": "markdown",
   "metadata": {},
   "source": [
    "### Answer\n",
    "inplace adding which means it is suppose to change the instance varible of the class which we are using as first operand\n",
    "\n",
    "implementation of `__iadd__`\n",
    "```python\n",
    "def __iadd__(self, other):\n",
    "    self.number += other.number\n",
    "    return self\n",
    "```"
   ]
  },
  {
   "cell_type": "markdown",
   "metadata": {},
   "source": [
    "## Question 12\n",
    "Q12. Is the _ _init_ _ method inherited by subclasses? What do you do if you need to customize its\n",
    "behavior within a subclass?"
   ]
  },
  {
   "cell_type": "markdown",
   "metadata": {},
   "source": [
    "### Answer"
   ]
  },
  {
   "cell_type": "markdown",
   "metadata": {},
   "source": [
    "yes all the function of the parent class is inherited but to called when subclass object is created do call init of parent class \n",
    "we need to call `super(ClassName,self).__init__()` if can directly write your own init in subclass if you want to call parent class ini"
   ]
  }
 ],
 "metadata": {
  "kernelspec": {
   "display_name": "gpu",
   "language": "python",
   "name": "gpu"
  },
  "language_info": {
   "codemirror_mode": {
    "name": "ipython",
    "version": 3
   },
   "file_extension": ".py",
   "mimetype": "text/x-python",
   "name": "python",
   "nbconvert_exporter": "python",
   "pygments_lexer": "ipython3",
   "version": "3.7.9"
  },
  "varInspector": {
   "cols": {
    "lenName": 16,
    "lenType": 16,
    "lenVar": 40
   },
   "kernels_config": {
    "python": {
     "delete_cmd_postfix": "",
     "delete_cmd_prefix": "del ",
     "library": "var_list.py",
     "varRefreshCmd": "print(var_dic_list())"
    },
    "r": {
     "delete_cmd_postfix": ") ",
     "delete_cmd_prefix": "rm(",
     "library": "var_list.r",
     "varRefreshCmd": "cat(var_dic_list()) "
    }
   },
   "types_to_exclude": [
    "module",
    "function",
    "builtin_function_or_method",
    "instance",
    "_Feature"
   ],
   "window_display": false
  }
 },
 "nbformat": 4,
 "nbformat_minor": 4
}
