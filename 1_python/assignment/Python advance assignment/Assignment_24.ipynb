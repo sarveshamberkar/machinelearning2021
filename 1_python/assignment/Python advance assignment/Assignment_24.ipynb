{
 "cells": [
  {
   "cell_type": "markdown",
   "metadata": {},
   "source": [
    "## Question 1\n",
    "Q1. Is it permissible to use several import statements to import the same module? What would the\n",
    "goal be? Can you think of a situation where it would be beneficial?"
   ]
  },
  {
   "cell_type": "markdown",
   "metadata": {},
   "source": [
    "### Answer\n",
    "Generally modules are designed in such a way that multiple import wont have a effect but,if the script/module is runs some statement on call then till run does changes everytime we import the script / module. \n",
    "\n",
    "if the module is imported then it wont be imported again.\n",
    "\n",
    "situation : changing file content on import dymically this may not be ideal use of import statement but if the script/module changes the file open import then import statement can be used to reset the file after some operation.\n"
   ]
  },
  {
   "cell_type": "markdown",
   "metadata": {},
   "source": [
    "## Question 2\n",
    "Q2. What are some of a module&#39;s characteristics? (Name at least one.)"
   ]
  },
  {
   "cell_type": "markdown",
   "metadata": {},
   "source": [
    "### Answer"
   ]
  },
  {
   "cell_type": "markdown",
   "metadata": {},
   "source": [
    "* it makes code logically organised\n",
    "* increases code reusability \n",
    "* increases code readability\n",
    "* logic can be broken down in parts and can be tested separately\n",
    "* for each part of the logic separate test case can be written "
   ]
  },
  {
   "cell_type": "markdown",
   "metadata": {},
   "source": [
    "## Question 3\n",
    "Q3. Circular importing, such as when two modules import each other, can lead to dependencies and\n",
    "bugs that aren&#39;t visible. How can you go about creating a program that avoids mutual importing?"
   ]
  },
  {
   "cell_type": "markdown",
   "metadata": {},
   "source": [
    "### Answer\n"
   ]
  },
  {
   "cell_type": "markdown",
   "metadata": {},
   "source": [
    "* Use class and object wherever possible \n",
    "* try to put all the required module/function in central module.\n",
    "* refactor the code to avoid circular dependendies\n",
    "* dont import from (dont use from keyword) directly import package."
   ]
  },
  {
   "cell_type": "markdown",
   "metadata": {},
   "source": [
    "## Question 4\n",
    "Q4. Why is _ _all_ _ in Python?\n"
   ]
  },
  {
   "cell_type": "markdown",
   "metadata": {},
   "source": [
    "### Answer\n",
    "it is written in `__init__.py` \n",
    "\n",
    "if we want to import specific thing in `from package import *` then we write `__all__ = [function a,function b]`"
   ]
  },
  {
   "cell_type": "markdown",
   "metadata": {},
   "source": [
    "## Question 5\n",
    "Q5. In what situation is it useful to refer to the _ _name_ _ attribute or the string &#39;_ _main_ _&#39;?"
   ]
  },
  {
   "cell_type": "markdown",
   "metadata": {},
   "source": [
    "if a script/module runned then `__name__` is `__main__` in  this case it will run commands which are written in `if __name__ =='__main__'` \n",
    "\n",
    "if the module is imported in another module this then `__name__` is equal to name of that script in which it is imported.\n",
    "this helps us to make module as indivual script as well as a module, \n",
    "\n",
    "it can also used for testing micro function in the modules \n"
   ]
  },
  {
   "cell_type": "markdown",
   "metadata": {},
   "source": [
    "## Question 6\n",
    "Q6. What are some of the benefits of attaching a program counter to the RPN interpreter\n",
    "application, which interprets an RPN script line by line?"
   ]
  },
  {
   "cell_type": "markdown",
   "metadata": {},
   "source": [
    "### Answer\n",
    "Infix notation is easy to read for humans, whereas pre-/postfix notation is easier to parse for a machine. \n",
    "\n",
    "The big advantage in pre-/postfix notation is that there never arise any questions like operator precedence.\n",
    "\n",
    "it is possible to restore the original (parse) tree from a pre-/postfix expression without any additional knowledge, but the same isn't true for infix expressions.\n",
    "\n"
   ]
  },
  {
   "cell_type": "markdown",
   "metadata": {},
   "source": [
    "## Question 7\n",
    "Q7. What are the minimum expressions or statements (or both) that you&#39;d need to render a basic\n",
    "programming language like RPN primitive but complete— that is, capable of carrying out any\n",
    "computerised task theoretically possible?"
   ]
  },
  {
   "cell_type": "markdown",
   "metadata": {},
   "source": [
    "### Answer\n",
    "to evalulate the inflix expression takes n^2 where as postfix expersion takes less time to parse \n",
    "\n",
    "\n",
    "Time complexity for conversion\n",
    "\n",
    "Infix to postfix conversion ==== O(n)\n",
    "Postfix evaluation ==== O(n)\n",
    "\n",
    "Total time = O(n) + O(n)= O(n)\n",
    "\n",
    "In case of postfix evaluation, we won't require to think about precedence of operators. Just we need to evaluate from left to right\n",
    "\n",
    "Similarly in case of prefix expression we need to evaluate from right to left\n",
    "\n"
   ]
  }
 ],
 "metadata": {
  "kernelspec": {
   "display_name": "gpu",
   "language": "python",
   "name": "gpu"
  },
  "language_info": {
   "codemirror_mode": {
    "name": "ipython",
    "version": 3
   },
   "file_extension": ".py",
   "mimetype": "text/x-python",
   "name": "python",
   "nbconvert_exporter": "python",
   "pygments_lexer": "ipython3",
   "version": "3.7.9"
  },
  "varInspector": {
   "cols": {
    "lenName": 16,
    "lenType": 16,
    "lenVar": 40
   },
   "kernels_config": {
    "python": {
     "delete_cmd_postfix": "",
     "delete_cmd_prefix": "del ",
     "library": "var_list.py",
     "varRefreshCmd": "print(var_dic_list())"
    },
    "r": {
     "delete_cmd_postfix": ") ",
     "delete_cmd_prefix": "rm(",
     "library": "var_list.r",
     "varRefreshCmd": "cat(var_dic_list()) "
    }
   },
   "types_to_exclude": [
    "module",
    "function",
    "builtin_function_or_method",
    "instance",
    "_Feature"
   ],
   "window_display": false
  }
 },
 "nbformat": 4,
 "nbformat_minor": 4
}
