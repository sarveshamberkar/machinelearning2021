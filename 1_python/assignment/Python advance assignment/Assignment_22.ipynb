{
 "cells": [
  {
   "cell_type": "markdown",
   "metadata": {},
   "source": [
    "## Question 1\n",
    "Q1. What are the benefits of the built-in array package, if any?"
   ]
  },
  {
   "cell_type": "markdown",
   "metadata": {},
   "source": [
    "### Answer\n",
    "* unlike Python List, the Array is much more rigid. That is, the items that an array contains must be of the same type. Therefore, the size of the item will also be the same. We can check the size of each item\n",
    "* Since the type code is very important to an array, which determined what kind of elements that the array can have. We can get the type code by accessing its property typecode\n",
    "* as python list uses more size then python array module it is more efficient use of the memory if we use array if situation demands efficient use of the memory"
   ]
  },
  {
   "cell_type": "markdown",
   "metadata": {},
   "source": [
    "## Question 2\n",
    "Q2. What are some of the array package&#39;s limitations?"
   ]
  },
  {
   "cell_type": "markdown",
   "metadata": {},
   "source": [
    "### Answer\n",
    "it has shortage of mathematical functions like numpy and does not have flexibility like list i.e array only contains similar data type ."
   ]
  },
  {
   "cell_type": "markdown",
   "metadata": {},
   "source": [
    "## Question 3\n",
    "Q3. Describe the main differences between the array and numpy packages."
   ]
  },
  {
   "cell_type": "markdown",
   "metadata": {},
   "source": [
    "### Answer\n",
    "* NumPy arrays should be smaller memory\n",
    "* numpy provides more mathematical functions then array .\n",
    "* there are other type of standard numpy operations which is not supported by array which makes numpy easy to use.\n",
    "* most of the important library uses numpy at the backend or mimc there functions (like Tensors) so practicing numpy operations gives you general idea of the operation which other library might have if they use numpy in the backend"
   ]
  },
  {
   "cell_type": "markdown",
   "metadata": {},
   "source": [
    "## Question 4\n",
    "Q4. Explain the distinctions between the empty, ones, and zeros functions."
   ]
  },
  {
   "cell_type": "markdown",
   "metadata": {},
   "source": [
    "### Answer\n",
    "* empty, unlike zeros, does not set the array values to zero, and may therefore be marginally faster. On the other hand, it requires the user to manually set all the values in the array, and should be used with caution.\n",
    "* zeros functions is used to intialise an array with zeros which specified shape\n",
    "* ones functions is used to intialise an array with ones which specified shape"
   ]
  },
  {
   "cell_type": "markdown",
   "metadata": {},
   "source": [
    "## Question 5\n",
    "Q5. In the fromfunction function, which is used to construct new arrays, what is the role of the callable\n",
    "argument?"
   ]
  },
  {
   "cell_type": "markdown",
   "metadata": {},
   "source": [
    "### Answer\n",
    "\n",
    "Construct an array by executing a function over each coordinate.\n",
    "\n",
    "The resulting array therefore has a value fn(x, y, z) at coordinate (x, y, z).\n",
    "```python \n",
    "import numpy as np\n",
    "np.fromfunction(lambda i, j: i == j, (3, 3), dtype=int)\n",
    "```\n"
   ]
  },
  {
   "cell_type": "markdown",
   "metadata": {},
   "source": [
    "## Question 6\n",
    "Q6. What happens when a numpy array is combined with a single-value operand (a scalar, such as\n",
    "an int or a floating-point value) through addition, as in the expression A + n?"
   ]
  },
  {
   "cell_type": "markdown",
   "metadata": {},
   "source": [
    "### Answer\n",
    "it adds single value to all the elements of numpy array "
   ]
  },
  {
   "cell_type": "markdown",
   "metadata": {},
   "source": [
    "## Question 7\n",
    "Q7. Can array-to-scalar operations use combined operation-assign operators (such as += or *=)?\n",
    "What is the outcome?"
   ]
  },
  {
   "cell_type": "markdown",
   "metadata": {},
   "source": [
    "### Answer\n"
   ]
  },
  {
   "cell_type": "markdown",
   "metadata": {},
   "source": [
    "yes it is inplace operations where original variable is changed\n",
    "\n",
    "```python \n",
    "import numpy as np\n",
    "\n",
    "a = np.ones((5,5))\n",
    "a +=1\n",
    "\n",
    "# Output\n",
    "# array([[2., 2., 2., 2., 2.],\n",
    "#        [2., 2., 2., 2., 2.],\n",
    "#        [2., 2., 2., 2., 2.],\n",
    "#        [2., 2., 2., 2., 2.],\n",
    "#        [2., 2., 2., 2., 2.]])\n",
    "```"
   ]
  },
  {
   "cell_type": "markdown",
   "metadata": {},
   "source": [
    "## Question 8\n",
    "Q8. Does a numpy array contain fixed-length strings? What happens if you allocate a longer string to\n",
    "one of these arrays?"
   ]
  },
  {
   "cell_type": "markdown",
   "metadata": {},
   "source": [
    "### Answer\n",
    "you cannot change the character assign it using indexing if you try you will get IndexError\n",
    "```python\n",
    "import numpy as np\n",
    "\n",
    "a = np.array('ineuron')\n",
    "\n",
    "a[0] = 'o'\n",
    "IndexError: too many indices for array: array is 0-dimensional, but 1 were indexed\n",
    "```"
   ]
  },
  {
   "cell_type": "markdown",
   "metadata": {},
   "source": [
    "## Question 9\n",
    "Q9. What happens when you combine two numpy arrays using an operation like addition (+) or\n",
    "multiplication (*)? What are the conditions for combining two numpy arrays?"
   ]
  },
  {
   "cell_type": "markdown",
   "metadata": {},
   "source": [
    "### Answer\n",
    "elements wise additions or multiplications can only happen if same axis matches example for 2 dimensional matrix row and row should match or column and column should match\n",
    "\n",
    "Note: actually the dimesion of both the variable should be same but if same axis matches as the above example the that repeated the other varible axis times.\n",
    "\n",
    "example\n",
    "\n",
    "```python\n",
    "import numpy as np\n",
    "a = np.ones((5,4))\n",
    "b = np.ones((5,1))*3\n",
    "a*b\n",
    "# output\n",
    "# array([[3., 3., 3., 3.],\n",
    "#        [3., 3., 3., 3.],\n",
    "#        [3., 3., 3., 3.],\n",
    "#        [3., 3., 3., 3.],\n",
    "#        [3., 3., 3., 3.]])\n",
    "```\n",
    "b is repeated along axis 1 for 4 times\n"
   ]
  },
  {
   "cell_type": "markdown",
   "metadata": {},
   "source": [
    "## Question 10\n",
    "Q10. What is the best way to use a Boolean array to mask another array?"
   ]
  },
  {
   "cell_type": "markdown",
   "metadata": {},
   "source": [
    "### Answer\n",
    "to pass it in the indicing example\n",
    "\n",
    "```python \n",
    "import numpy as np\n",
    "a = np.zeros((5,5))\n",
    "a[0][1],a[1][1],a[1][0] = 1,1,1\n",
    "i = a>=1\n",
    "a[i]\n",
    "\n",
    "# Output\n",
    "# array([1., 1., 1.])\n",
    "```"
   ]
  },
  {
   "cell_type": "markdown",
   "metadata": {},
   "source": [
    "## Question 11\n",
    "Q11. What are three different ways to get the standard deviation of a wide collection of data using\n",
    "both standard Python and its packages? Sort the three of them by how quickly they execute."
   ]
  },
  {
   "cell_type": "markdown",
   "metadata": {},
   "source": [
    "### Answer\n",
    "1. Using formula writing manual scripts to calculate the std and mean\n",
    "2. using numpy library to calculate standard deviation and mean \n",
    "3. converting data to DataFrame and use DataFrame.describe which gives all the standard statistical description."
   ]
  },
  {
   "cell_type": "markdown",
   "metadata": {},
   "source": [
    "## Question 12\n",
    "12. What is the dimensionality of a Boolean mask-generated array?"
   ]
  },
  {
   "cell_type": "markdown",
   "metadata": {},
   "source": [
    "### Answer\n",
    "it should be same as the dimension of the array from where it should be masked"
   ]
  }
 ],
 "metadata": {
  "kernelspec": {
   "display_name": "gpu",
   "language": "python",
   "name": "gpu"
  },
  "language_info": {
   "codemirror_mode": {
    "name": "ipython",
    "version": 3
   },
   "file_extension": ".py",
   "mimetype": "text/x-python",
   "name": "python",
   "nbconvert_exporter": "python",
   "pygments_lexer": "ipython3",
   "version": "3.7.9"
  },
  "varInspector": {
   "cols": {
    "lenName": 16,
    "lenType": 16,
    "lenVar": 40
   },
   "kernels_config": {
    "python": {
     "delete_cmd_postfix": "",
     "delete_cmd_prefix": "del ",
     "library": "var_list.py",
     "varRefreshCmd": "print(var_dic_list())"
    },
    "r": {
     "delete_cmd_postfix": ") ",
     "delete_cmd_prefix": "rm(",
     "library": "var_list.r",
     "varRefreshCmd": "cat(var_dic_list()) "
    }
   },
   "types_to_exclude": [
    "module",
    "function",
    "builtin_function_or_method",
    "instance",
    "_Feature"
   ],
   "window_display": false
  }
 },
 "nbformat": 4,
 "nbformat_minor": 4
}
