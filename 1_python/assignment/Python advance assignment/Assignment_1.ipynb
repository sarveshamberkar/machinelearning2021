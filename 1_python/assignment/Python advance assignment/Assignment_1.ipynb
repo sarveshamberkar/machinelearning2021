{
 "cells": [
  {
   "cell_type": "markdown",
   "metadata": {},
   "source": [
    "## Question 1\n",
    "Q1. What is the purpose of Python&#39;s OOP?"
   ]
  },
  {
   "cell_type": "markdown",
   "metadata": {},
   "source": [
    "### Answer"
   ]
  },
  {
   "cell_type": "markdown",
   "metadata": {},
   "source": [
    "* code reusebility : code written can be reused.\n",
    "* easiler to maintain large programs.\n",
    "* general design pattern has heavy usage of classes and object \n",
    "* reduces code and increases readibility\n",
    "\n",
    "OOPS concepts contains abstraction, polymorphism, Encapsulation, Inheritance"
   ]
  },
  {
   "cell_type": "markdown",
   "metadata": {},
   "source": [
    "## Question 2"
   ]
  },
  {
   "cell_type": "markdown",
   "metadata": {},
   "source": [
    "Q2. Where does an inheritance search look for an attribute?"
   ]
  },
  {
   "cell_type": "markdown",
   "metadata": {},
   "source": [
    "### Answer"
   ]
  },
  {
   "cell_type": "markdown",
   "metadata": {},
   "source": [
    "Inheritance search looks for attribute from lowest level to high level i.e. it looks for attribute in local scope than class scope. If attribute is not found it looks for attributes in parent/super class and if it is multi level inheritence then search continues from lower/child class to parent class (lowest level to high level)"
   ]
  },
  {
   "cell_type": "markdown",
   "metadata": {},
   "source": [
    "## Question 3\n",
    "Q3. How do you distinguish between a class object and an instance object?"
   ]
  },
  {
   "cell_type": "markdown",
   "metadata": {},
   "source": [
    "### Answer"
   ]
  },
  {
   "cell_type": "markdown",
   "metadata": {},
   "source": [
    "* <b>class object</b>\n",
    "* when a class is created one class object is created.\n",
    "* Class object created automatically when class is defined.\n",
    "* class object can access class's static variable.\n",
    "* when class object changes static variable value then value of static variable is changed for all instance object \n",
    "\n",
    "* <b>Instance object</b>\n",
    "* class can have multiple instance of same class\n",
    "* user/developer creates object of the class\n",
    "* instance class can acess all the variable in the class\n",
    "* when instance object changes static variable value then value of static variable value is changed for that particular instance object only"
   ]
  },
  {
   "cell_type": "markdown",
   "metadata": {},
   "source": [
    "## Question 4\n",
    "Q4. What makes the first argument in a class’s method function special?"
   ]
  },
  {
   "cell_type": "markdown",
   "metadata": {},
   "source": [
    "### Answer"
   ]
  },
  {
   "cell_type": "markdown",
   "metadata": {},
   "source": [
    "* first argument refers to object itself \n",
    "\n",
    "* the first parameter of methods in the class is the instance on which method was called ."
   ]
  },
  {
   "cell_type": "markdown",
   "metadata": {},
   "source": [
    "## Question 5"
   ]
  },
  {
   "cell_type": "markdown",
   "metadata": {},
   "source": [
    "Q5. What is the purpose of the __init__ method?"
   ]
  },
  {
   "cell_type": "markdown",
   "metadata": {},
   "source": [
    "### Answer"
   ]
  },
  {
   "cell_type": "markdown",
   "metadata": {},
   "source": [
    "init is a constructor, constructor is called automatically when a object of the class is initialized. Generaly its purpose to initialize the variable of the class when object is created"
   ]
  },
  {
   "cell_type": "markdown",
   "metadata": {},
   "source": [
    "## Question 6\n",
    "Q6. What is the process for creating a class instance?"
   ]
  },
  {
   "cell_type": "markdown",
   "metadata": {},
   "source": [
    "### Answer"
   ]
  },
  {
   "cell_type": "markdown",
   "metadata": {},
   "source": [
    "class name followed by the open and close parenthesis in the parenthesis we pass parameter required to initialte class variable mentioned in ```__init__``` of repective class and this is assign to a variable<br>\n",
    "```\n",
    "class ClassName:\n",
    "    def __init__(self,a):\n",
    "        self.a = a\n",
    "\n",
    "if __name__ == \"__main__\":\n",
    "    c1 = ClassName(5) # initiating class instance\n",
    "    print(c1.a)\n",
    "```"
   ]
  },
  {
   "cell_type": "markdown",
   "metadata": {},
   "source": [
    "## Question 7\n",
    "Q7. What is the process for creating a class?"
   ]
  },
  {
   "cell_type": "markdown",
   "metadata": {},
   "source": [
    "### Answer"
   ]
  },
  {
   "cell_type": "markdown",
   "metadata": {},
   "source": [
    "class keyword is follwed by appropriate class name ```__init__``` can we created but it is optional but highly recommended if you want to assign value to class variables\n",
    "\n",
    "```\n",
    "class demo:\n",
    "    pass\n",
    "\n",
    "if __name__ == \"__main__\":\n",
    "    d = demo()\n",
    "    d.a =10\n",
    "    print(d.a)\n",
    "```"
   ]
  },
  {
   "cell_type": "markdown",
   "metadata": {},
   "source": [
    "## Question 8\n",
    "Q8. How would you define the superclasses of a class?"
   ]
  },
  {
   "cell_type": "markdown",
   "metadata": {},
   "source": [
    "### Answer"
   ]
  },
  {
   "cell_type": "markdown",
   "metadata": {},
   "source": [
    "if one class is inhheriting from another class then from the class it is inheriting from is called super/parent class "
   ]
  }
 ],
 "metadata": {
  "kernelspec": {
   "display_name": "gpu",
   "language": "python",
   "name": "gpu"
  },
  "language_info": {
   "codemirror_mode": {
    "name": "ipython",
    "version": 3
   },
   "file_extension": ".py",
   "mimetype": "text/x-python",
   "name": "python",
   "nbconvert_exporter": "python",
   "pygments_lexer": "ipython3",
   "version": "3.7.9"
  },
  "varInspector": {
   "cols": {
    "lenName": 16,
    "lenType": 16,
    "lenVar": 40
   },
   "kernels_config": {
    "python": {
     "delete_cmd_postfix": "",
     "delete_cmd_prefix": "del ",
     "library": "var_list.py",
     "varRefreshCmd": "print(var_dic_list())"
    },
    "r": {
     "delete_cmd_postfix": ") ",
     "delete_cmd_prefix": "rm(",
     "library": "var_list.r",
     "varRefreshCmd": "cat(var_dic_list()) "
    }
   },
   "types_to_exclude": [
    "module",
    "function",
    "builtin_function_or_method",
    "instance",
    "_Feature"
   ],
   "window_display": false
  }
 },
 "nbformat": 4,
 "nbformat_minor": 4
}
