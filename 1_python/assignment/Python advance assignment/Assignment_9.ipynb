{
 "cells": [
  {
   "cell_type": "markdown",
   "metadata": {},
   "source": [
    "## Question\n",
    "\n",
    "Q1. In Python 3.X, what are the names and functions of string object types?"
   ]
  },
  {
   "cell_type": "markdown",
   "metadata": {},
   "source": [
    "### Answer\n",
    "* center(lenght, character = ' '):Returns a centered string<br>\n",
    "example :\n",
    "\n",
    "```\n",
    "txt = \"sarvesh\"\n",
    "x = txt.center(20,'#')\n",
    "print(x)\n",
    "\n",
    "output:\n",
    "######sarvesh#######\n",
    "```\n",
    "\n",
    "* capitalize(): Converts the first character to upper case<br>\n",
    "example:\n",
    "\n",
    "```\n",
    "txt = \"sarvesh\"\n",
    "x = txt.capitalize()\n",
    "print(x)\n",
    "\n",
    "output:\n",
    "Sarvesh\n",
    "```\n",
    "\n",
    "* endswiths(str): Returns true if the string ends with the specified value<br>\n",
    "example:\n",
    "\n",
    "```\n",
    "txt = \"hello.jpg\"\n",
    "x = txt.endswith('.jpg')\n",
    "print(x)\n",
    "\n",
    "output:\n",
    "True\n",
    "```\n",
    "\n",
    "* index(character): Searches the string for a specified value and returns the position of where it was found\n",
    "\n",
    "```\n",
    "txt = \"hello.jpg\"\n",
    "x = txt.index('.')\n",
    "print(x)\n",
    "\n",
    "output:\n",
    "5\n",
    "```\n",
    "\n",
    "\n",
    "* ljust(lenght, character = ' '): Returns a left justified version of the string\n",
    "\n",
    "```\n",
    "txt = \"sarvesh\"\n",
    "x = txt.ljust(20,'#')\n",
    "print(x)\n",
    "\n",
    "output:\n",
    "sarvesh#############\n",
    "\n",
    "```\n",
    "* rjust(lenght, character = ' '): Returns a right justified version of the string\n",
    "\n",
    "```\n",
    "txt = \"sarvesh\"\n",
    "x = txt.ljust(20,'#')\n",
    "print(x)\n",
    "\n",
    "output:\n",
    "#############sarvesh\n",
    "\n",
    "```\n",
    "\n",
    "* other string functions\n",
    "    - lower() Converts a string into lower case\n",
    "    - split(sep='')\tSplits the string at the specified separator, and returns a list\n",
    "    - upper() Converts a string into lower case\n",
    "    - startswith(str): Returns true if the string starts with the specified value\n",
    "     etc"
   ]
  },
  {
   "cell_type": "markdown",
   "metadata": {},
   "source": [
    "## Question 2\n",
    "Q2. How do the string forms in Python 3.X vary in terms of operations?\n"
   ]
  },
  {
   "cell_type": "markdown",
   "metadata": {},
   "source": [
    "### Answer\n",
    "In python 2 default is ASCII and In python 3 str uses unicode as default"
   ]
  },
  {
   "cell_type": "markdown",
   "metadata": {},
   "source": [
    "## Question 3\n",
    "Q3. In 3.X, how do you put non-ASCII Unicode characters in a string?"
   ]
  },
  {
   "cell_type": "markdown",
   "metadata": {},
   "source": [
    "### Answer\n",
    "str.encode() method encodes the string using specified string encoding, default utf-8"
   ]
  },
  {
   "cell_type": "markdown",
   "metadata": {},
   "source": [
    "## Question 4\n",
    "Q4. In Python 3.X, what are the key differences between text-mode and binary-mode files?"
   ]
  },
  {
   "cell_type": "markdown",
   "metadata": {},
   "source": [
    "### Answer\n",
    "* <b>Text-mode</b>: When a file is opened in text mode, data is automatically decoded and return in the str-object and automatically encodes when files is returned\n",
    "* <b>Binary-mode</b>: when file is opened in binary mode, data is not decoded in any form and returns raw data unchanged.writing takes a bytes object and transfers it to the file unchanged"
   ]
  },
  {
   "cell_type": "markdown",
   "metadata": {},
   "source": [
    "## Question 5\n",
    "Q5. How can you interpret a Unicode text file containing text encoded in a different encoding than\n",
    "your platform&#39;s default?"
   ]
  },
  {
   "cell_type": "markdown",
   "metadata": {},
   "source": [
    "### Answer\n",
    "```\n",
    "import codecs\n",
    "with codecs.open('unicode.rst', encoding='utf-8') as f:\n",
    "```\n",
    "if the data inside is encoded in different format we can use str.encode() to encode in some other format which we desire"
   ]
  },
  {
   "cell_type": "markdown",
   "metadata": {},
   "source": [
    "## Question 6\n",
    "Q6. What is the best way to make a Unicode text file in a particular encoding format?"
   ]
  },
  {
   "cell_type": "markdown",
   "metadata": {},
   "source": [
    "### Answer\n",
    "use str.encode() to encode it in utf-8 format and store in some variable let's say r then open file in write byte \"wb\" mode and write the string in variable r to the file and close the file"
   ]
  },
  {
   "cell_type": "markdown",
   "metadata": {},
   "source": [
    "## Question 7\n",
    "Q7. What qualifies ASCII text as a form of Unicode text?"
   ]
  },
  {
   "cell_type": "markdown",
   "metadata": {},
   "source": [
    "### Answer\n",
    "* Unicode has most of the written language symbol including some mathematical symbol. \n",
    "* ASCII covers only lowercase letters (a-z), uppercase letters (A-Z), digits (0–9) and symbols such as punctuation marks \n",
    "* unicode covers all ascii plus other langauage like arabic, greek, german, etc. also emoji and mathematical symbol."
   ]
  },
  {
   "cell_type": "markdown",
   "metadata": {},
   "source": [
    "## Question 8\n",
    "Q8. How much of an effect does the change in string types in Python 3.X have on your code?"
   ]
  },
  {
   "cell_type": "markdown",
   "metadata": {},
   "source": [
    "### Answer\n",
    "Python 3.0 uses the concepts of text and (binary) data instead of Unicode strings and 8-bit strings. All text is Unicode; however encoded Unicode is represented as binary data. The type used to hold text is str, the type used to hold data is bytes. Any attempt to mix text and data in Python 3.0 raises TypeError, whereas if you were to mix Unicode and 8-bit strings in Python 2.x, it would work if the 8-bit string happened to contain only 7-bit (ASCII) bytes, but you would get UnicodeDecodeError if it contained non-ASCII values\n",
    "\n",
    "All backslashes in raw string literals are interpreted literally. This means that '\\U' and '\\u' escapes in raw strings are not treated specially. For example, r'\\u20ac' is a string of 6 characters in Python 3.0, whereas in 2.6, ur'\\u20ac' was the single \"euro\" character."
   ]
  }
 ],
 "metadata": {
  "kernelspec": {
   "display_name": "gpu",
   "language": "python",
   "name": "gpu"
  },
  "language_info": {
   "codemirror_mode": {
    "name": "ipython",
    "version": 3
   },
   "file_extension": ".py",
   "mimetype": "text/x-python",
   "name": "python",
   "nbconvert_exporter": "python",
   "pygments_lexer": "ipython3",
   "version": "3.7.9"
  },
  "varInspector": {
   "cols": {
    "lenName": 16,
    "lenType": 16,
    "lenVar": 40
   },
   "kernels_config": {
    "python": {
     "delete_cmd_postfix": "",
     "delete_cmd_prefix": "del ",
     "library": "var_list.py",
     "varRefreshCmd": "print(var_dic_list())"
    },
    "r": {
     "delete_cmd_postfix": ") ",
     "delete_cmd_prefix": "rm(",
     "library": "var_list.r",
     "varRefreshCmd": "cat(var_dic_list()) "
    }
   },
   "types_to_exclude": [
    "module",
    "function",
    "builtin_function_or_method",
    "instance",
    "_Feature"
   ],
   "window_display": false
  }
 },
 "nbformat": 4,
 "nbformat_minor": 4
}
