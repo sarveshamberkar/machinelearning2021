{
 "cells": [
  {
   "cell_type": "markdown",
   "metadata": {},
   "source": [
    "## Question 1\n",
    "Q1. What is the relationship between classes and modules?"
   ]
  },
  {
   "cell_type": "markdown",
   "metadata": {},
   "source": [
    "### Answer"
   ]
  },
  {
   "cell_type": "markdown",
   "metadata": {},
   "source": [
    "* <b> Modules</b>\n",
    "* module helps to maintain the code base. \n",
    "* From different modules we can import function and classes as and when required.\n",
    "* you cannot create instance of the module\n",
    "\n",
    "* <b>classes</b>\n",
    "* classes provide functionallity to bind data and functionality together\n",
    "* multiple instances of same class can be created \n",
    "\n",
    "There is no as such direct relationship between classes and modules. but classes in specific module can be imported in other module using import function"
   ]
  },
  {
   "cell_type": "markdown",
   "metadata": {},
   "source": [
    "## Question 2\n",
    "Q2. How do you make instances and classes?"
   ]
  },
  {
   "cell_type": "markdown",
   "metadata": {},
   "source": [
    "### Answer"
   ]
  },
  {
   "cell_type": "markdown",
   "metadata": {},
   "source": [
    "classes are made using `class` keyword follwed by class name\n",
    "object are blueprint of the class also called class instance\n",
    "example\n",
    "```\n",
    "class ClassName:\n",
    "    def __init__(self,a):\n",
    "        self.a = a\n",
    "\n",
    "if __name__ == \"__main__\":\n",
    "    c1 = ClassName(5) # initiating class instance\n",
    "    print(c1.a)\n",
    "```\n",
    "\n",
    "name of the class is ClassName and instance of the class is class instance"
   ]
  },
  {
   "cell_type": "markdown",
   "metadata": {},
   "source": [
    "## Question 3\n",
    "Q3. Where and how should be class attributes created?"
   ]
  },
  {
   "cell_type": "markdown",
   "metadata": {},
   "source": [
    "### Answer"
   ]
  },
  {
   "cell_type": "markdown",
   "metadata": {},
   "source": [
    "class attribute should be initialized in the constructor of the class `__init__` init take self as default argument self (which is object itself). while creating varible it should be self.VARIABLENAME if it isn't then varible will be only limited to function scope. when we do self.VARIABLENAME variable is only limited to that instance/object only.\n",
    "<br>\n",
    "parameter passed while creating a instance of the class is assign to the class instance variable(using self.variable name) it is generally a good practice to keep variable name same as the parameter name but its not compulsary.\n",
    "example\n",
    "```\n",
    "class NewClass:\n",
    "    def __init__(self,a,b):\n",
    "        self.a = a\n",
    "        self.b = b\n",
    "        \n",
    "        \n",
    "if __name__ == '__main__':\n",
    "    n = NewClass(5,6)\n",
    "    print(n.a,n.b)\n",
    "    # you can also create class attribute using object name(dot)varibale ehich does not exist in init\n",
    "    n.c = 10\n",
    "    print(n.c)\n",
    "    \n",
    "output:\n",
    "5, 6\n",
    "10\n",
    "```"
   ]
  },
  {
   "cell_type": "markdown",
   "metadata": {},
   "source": [
    "## Question 4\n",
    "Q4. Where and how are instance attributes created?"
   ]
  },
  {
   "cell_type": "markdown",
   "metadata": {},
   "source": [
    "### Answer"
   ]
  },
  {
   "cell_type": "markdown",
   "metadata": {},
   "source": [
    "In class class attributes are created in init method which is constructor(init method is called as soon as class object is created) values of class attribute is passed during creating class instance.<br> class attribute should be initialized in the constructor of the class `__init__` init take self as default argument self (which is object itself). while creating varible it should be self.VARIABLENAME if it isn't then varible will be only limited to function scope. when we do self.VARIABLENAME variable is only limited to that instance/object only.\n",
    "```\n",
    "class NewClass:\n",
    "    def __init__(self,a,b):\n",
    "        self.a = a\n",
    "        self.b = b\n",
    "        \n",
    "        \n",
    "if __name__ == '__main__':\n",
    "    n = NewClass(5,6)\n",
    "    print(n.a,n.b)\n",
    "    # you can also create class attribute using object name(dot)varibale ehich does not exist in init\n",
    "    n.c = 10\n",
    "    print(n.c)\n",
    "    \n",
    "output:\n",
    "5, 6\n",
    "10\n",
    "```"
   ]
  },
  {
   "cell_type": "markdown",
   "metadata": {},
   "source": [
    "## Question 5\n",
    "Q5. What does the term &quot;self&quot; in a Python class mean?"
   ]
  },
  {
   "cell_type": "markdown",
   "metadata": {},
   "source": [
    "### Answer"
   ]
  },
  {
   "cell_type": "markdown",
   "metadata": {},
   "source": [
    "self is the reference/address to class instance itselt and by using self keyword be can use class variable. self is not a keyword its a convention to use self which increases the code readibility"
   ]
  },
  {
   "cell_type": "markdown",
   "metadata": {},
   "source": [
    "## Question 6\n",
    "Q6. How does a Python class handle operator overloading?"
   ]
  },
  {
   "cell_type": "markdown",
   "metadata": {},
   "source": [
    "### Answer"
   ]
  },
  {
   "cell_type": "markdown",
   "metadata": {},
   "source": [
    "There are in-build method also called dunder/magic method they are usually start and end with two underscores ('_')<br>\n",
    "example\n",
    "```\n",
    "__add__ \n",
    "__str__\n",
    "```\n"
   ]
  },
  {
   "cell_type": "markdown",
   "metadata": {},
   "source": [
    "example in use:\n",
    "```\n",
    "class Name:\n",
    "    def __init__(self,a):\n",
    "        self.a = a\n",
    "    def __add__(self,other):\n",
    "        return self.a+other.a\n",
    "\n",
    "\n",
    "if __name__ '__main__':\n",
    "    n1 = Name(5)\n",
    "    n2 = Name(6)\n",
    "    print(n1+n2)\n",
    "    \n",
    "    \n",
    "Output:\n",
    "    11\n",
    "```"
   ]
  },
  {
   "cell_type": "markdown",
   "metadata": {},
   "source": [
    "## Question 7\n",
    "Q7. When do you consider allowing operator overloading of your classes?"
   ]
  },
  {
   "cell_type": "markdown",
   "metadata": {},
   "source": [
    "### Answer"
   ]
  },
  {
   "cell_type": "markdown",
   "metadata": {},
   "source": [
    "when we create class object and if we want to perform operation like add subtract etc.we write magic method in the class. writing this method is basically operator overloading \n",
    "example\n",
    "```\n",
    "class Name:\n",
    "    def __init__(self,a):\n",
    "        self.a = a\n",
    "    def __add__(self,other):\n",
    "        return self.a+other.a\n",
    "\n",
    "\n",
    "if __name__ '__main__':\n",
    "    n1 = Name(5)\n",
    "    n2 = Name(6)\n",
    "    print(n1+n2)\n",
    "    \n",
    "    \n",
    "Output:\n",
    "    11\n",
    "```"
   ]
  },
  {
   "cell_type": "markdown",
   "metadata": {},
   "source": [
    "## Question 8\n",
    "Q8. What is the most popular form of operator overloading?"
   ]
  },
  {
   "cell_type": "markdown",
   "metadata": {},
   "source": [
    "### Answer"
   ]
  },
  {
   "cell_type": "markdown",
   "metadata": {},
   "source": [
    "OOP most popular type of operator overloading is addition(+) in this we overload `__add__` method in the class with parameter as self and other. "
   ]
  },
  {
   "cell_type": "markdown",
   "metadata": {},
   "source": [
    "## Question 9\n",
    "Q9. What are the two most important concepts to grasp in order to comprehend Python OOP code?"
   ]
  },
  {
   "cell_type": "markdown",
   "metadata": {},
   "source": [
    "### Answer"
   ]
  },
  {
   "cell_type": "markdown",
   "metadata": {},
   "source": [
    "- classes and object (basics of class instance and creating instance object of the class)\n",
    "- inheritance: Inheritance is concept of OOP. when one class inherits other class it can use all of its class variable and method\n",
    "- polymorphism different object of different having method which have same have can perform differently according to user/developer"
   ]
  }
 ],
 "metadata": {
  "kernelspec": {
   "display_name": "gpu",
   "language": "python",
   "name": "gpu"
  },
  "language_info": {
   "codemirror_mode": {
    "name": "ipython",
    "version": 3
   },
   "file_extension": ".py",
   "mimetype": "text/x-python",
   "name": "python",
   "nbconvert_exporter": "python",
   "pygments_lexer": "ipython3",
   "version": "3.7.9"
  },
  "varInspector": {
   "cols": {
    "lenName": 16,
    "lenType": 16,
    "lenVar": 40
   },
   "kernels_config": {
    "python": {
     "delete_cmd_postfix": "",
     "delete_cmd_prefix": "del ",
     "library": "var_list.py",
     "varRefreshCmd": "print(var_dic_list())"
    },
    "r": {
     "delete_cmd_postfix": ") ",
     "delete_cmd_prefix": "rm(",
     "library": "var_list.r",
     "varRefreshCmd": "cat(var_dic_list()) "
    }
   },
   "types_to_exclude": [
    "module",
    "function",
    "builtin_function_or_method",
    "instance",
    "_Feature"
   ],
   "window_display": false
  }
 },
 "nbformat": 4,
 "nbformat_minor": 4
}
