{
 "cells": [
  {
   "cell_type": "markdown",
   "metadata": {},
   "source": [
    "## Question 1\n",
    "1. What exactly is []?"
   ]
  },
  {
   "cell_type": "markdown",
   "metadata": {},
   "source": [
    "### Answer\n",
    "this used to define empty list <br>\n",
    "example \n",
    "```\n",
    "a = []\n",
    "```\n",
    "to add element in the list we use VARIABLE_NAME.append()\n",
    "```\n",
    "a.append(8)\n",
    "```\n",
    "to access a particular index we use variable_name followed by square bracket in which contains index.\n",
    "```\n",
    "print(a[0])\n",
    "\n",
    "output: 8\n",
    "```"
   ]
  },
  {
   "cell_type": "markdown",
   "metadata": {},
   "source": [
    "## Question 2\n",
    "In a list of values stored in a variable called spam, how would you assign the value &#39;hello&#39; as the\n",
    "third value? (Assume [2, 4, 6, 8, 10] are in spam.)\n",
    "Let&#39;s pretend the spam includes the list [&#39;a&#39;, &#39;b&#39;, &#39;c&#39;, &#39;d&#39;] for the next three queries."
   ]
  },
  {
   "cell_type": "markdown",
   "metadata": {},
   "source": [
    "### Answer\n",
    "as we have to assign hello to third postion this mean we have to assign hello to 2nd index"
   ]
  },
  {
   "cell_type": "code",
   "execution_count": 3,
   "metadata": {},
   "outputs": [
    {
     "data": {
      "text/plain": [
       "[2, 4, 'hello', 6, 8, 10]"
      ]
     },
     "execution_count": 3,
     "metadata": {},
     "output_type": "execute_result"
    }
   ],
   "source": [
    "spam = [2, 4, 6, 8, 10]\n",
    "spam.insert(2,'hello')\n",
    "spam"
   ]
  },
  {
   "cell_type": "markdown",
   "metadata": {},
   "source": [
    "## Question 3\n",
    "3. What is the value of spam[int(int(&#39;3&#39; * 2) / 11)]?<br>\n",
    "Let's pretend the spam includes the list ['a', 'b', 'c', 'd'] for the next three queries.\n",
    "### answer\n"
   ]
  },
  {
   "cell_type": "markdown",
   "metadata": {},
   "source": [
    "index value is 3<br>\n",
    "and spam[3] is 'd'"
   ]
  },
  {
   "cell_type": "markdown",
   "metadata": {},
   "source": [
    "## Question 4\n",
    "4. What is the value of spam[-1]?\n",
    "Let's pretend the spam includes the list ['a', 'b', 'c', 'd'] for the next three queries."
   ]
  },
  {
   "cell_type": "markdown",
   "metadata": {},
   "source": [
    "### answer\n",
    "spam[-1] is 'd' <br> \n",
    "-1 index always select last index"
   ]
  },
  {
   "cell_type": "markdown",
   "metadata": {},
   "source": [
    "## Question 5\n",
    "5. What is the value of spam[:2]?\n",
    "Let's pretend the spam includes the list ['a', 'b', 'c', 'd'] for the next three queries."
   ]
  },
  {
   "cell_type": "markdown",
   "metadata": {},
   "source": [
    "### answer \n",
    "```\n",
    "output['a', 'b']\n",
    "```"
   ]
  },
  {
   "cell_type": "markdown",
   "metadata": {},
   "source": [
    "## Question 6\n",
    "6. What is the value of bacon.index(&#39;cat&#39;)?<br>\n",
    "Let&#39;s pretend bacon has the list [3.14, &#39;cat,&#39; 11, &#39;cat,&#39; True] for the next three questions."
   ]
  },
  {
   "cell_type": "markdown",
   "metadata": {},
   "source": [
    "### Answer\n",
    " the value of bacon.index(&#39;cat&#39;) is 1"
   ]
  },
  {
   "cell_type": "markdown",
   "metadata": {},
   "source": [
    "## Question 7\n",
    "7. How does bacon.append(99) change the look of the list value in bacon?"
   ]
  },
  {
   "cell_type": "markdown",
   "metadata": {},
   "source": [
    "### answer\n",
    "```\n",
    "bacon.append(99)\n",
    "print(bacon)\n",
    "\n",
    "\n",
    "output:\n",
    "[3.14, 'cat,' 11, 'cat,' True,99]\n",
    "```"
   ]
  },
  {
   "cell_type": "markdown",
   "metadata": {},
   "source": [
    "## Question 8\n",
    "8. How does bacon.remove(&#39;cat&#39;) change the look of the list in bacon?"
   ]
  },
  {
   "cell_type": "markdown",
   "metadata": {},
   "source": [
    "### Answer\n",
    "```\n",
    "bacon = [3.14, 'cat,' 11, 'cat,' True,99]\n",
    "bacon.remove('cat') \n",
    "output:\n",
    "[3.14,' 11, 'cat,' True,99]\n",
    "```"
   ]
  },
  {
   "cell_type": "markdown",
   "metadata": {},
   "source": [
    "## Question 9\n",
    "9. What are the list concatenation and list replication operators?"
   ]
  },
  {
   "cell_type": "markdown",
   "metadata": {},
   "source": [
    "### Answer\n",
    "list can be concatenate using '+'\n",
    "<br>example\n",
    "```\n",
    "a = [1,2,3,12]\n",
    "b = ['g','h','r']\n",
    "c = a+b\n",
    "print(c)\n",
    "\n",
    "output:\n",
    "[1,2,3,12,'g','h','r']\n",
    "```\n",
    "list replication can be done using '*' operator\n",
    "```\n",
    "print([1]*3)\n",
    "\n",
    "output:\n",
    "[1,1,1]\n",
    "```\n"
   ]
  },
  {
   "cell_type": "markdown",
   "metadata": {},
   "source": [
    "## Question 10\n",
    "10. What is difference between the list methods append() and insert()?"
   ]
  },
  {
   "cell_type": "markdown",
   "metadata": {},
   "source": [
    "### answer\n",
    "* .append() adds element in the end of the list, as take data/element as only parameter and adds at the end\n",
    "* .insert() it takes 2 argument first parameter is to specify index at which value is to assigned.element are shifted to right.\n",
    "* using insert you cannot insert value at the end even index specified is -1. it will be apppended to 2nd last location"
   ]
  },
  {
   "cell_type": "markdown",
   "metadata": {},
   "source": [
    "## Question 11\n",
    "11. What are the two methods for removing items from a list?"
   ]
  },
  {
   "cell_type": "markdown",
   "metadata": {},
   "source": [
    "### Answer\n",
    ".remove() removes the value from the list but doesnt return removed value\n",
    ".pop() removes last element by default and return the value which is removed. we can also specify index. default is -1"
   ]
  },
  {
   "cell_type": "markdown",
   "metadata": {},
   "source": [
    "## Question 12\n",
    "12. Describe how list values and string values are identical."
   ]
  },
  {
   "cell_type": "markdown",
   "metadata": {},
   "source": [
    "### Answer\n",
    "* list and string both are iterable object in python.<br>\n",
    "* you can loop over string using for loop just like a list."
   ]
  },
  {
   "cell_type": "markdown",
   "metadata": {},
   "source": [
    "## Question 13\n",
    "13. What&#39;s the difference between tuples and lists?"
   ]
  },
  {
   "cell_type": "markdown",
   "metadata": {},
   "source": [
    "### Answer\n",
    "tuples are like list but they are immutable object in python which means tuples cannot be changed once it is defined.<br>\n",
    "list are mutable object in python which means you can add ,remove ,change values in the list<br>"
   ]
  },
  {
   "cell_type": "markdown",
   "metadata": {},
   "source": [
    "## Question 14\n",
    "14. How do you type a tuple value that only contains the integer 42?"
   ]
  },
  {
   "cell_type": "markdown",
   "metadata": {},
   "source": [
    "### Answer\n",
    "a = (42)"
   ]
  },
  {
   "cell_type": "markdown",
   "metadata": {},
   "source": [
    "## Question 15\n",
    "15. How do you get a list value&#39;s tuple form? How do you get a tuple value&#39;s list form?"
   ]
  },
  {
   "cell_type": "markdown",
   "metadata": {},
   "source": [
    "### Answer\n",
    "tuple to list \n",
    "```\n",
    "a = (1,2,3)\n",
    "list(a)\n",
    "\n",
    "output\n",
    "[1,2,3]\n",
    "```\n",
    "list to tuple\n",
    "```\n",
    "a = [1,2,3]\n",
    "tuple(a)\n",
    "\n",
    "output:\n",
    "(1,2,3)\n",
    "```"
   ]
  },
  {
   "cell_type": "markdown",
   "metadata": {},
   "source": [
    "## Question 16\n",
    "16. Variables that &quot;contain&quot; list values are not necessarily lists themselves. Instead, what do they\n",
    "contain?"
   ]
  },
  {
   "cell_type": "markdown",
   "metadata": {},
   "source": [
    "### Answer\n",
    "Variable contains the memory address at which values are stored . so in a list it contains list of memory address."
   ]
  },
  {
   "cell_type": "markdown",
   "metadata": {},
   "source": [
    "## Question 17\n",
    "17. How do you distinguish between copy.copy() and copy.deepcopy()?"
   ]
  },
  {
   "cell_type": "markdown",
   "metadata": {},
   "source": [
    "### Answer\n"
   ]
  },
  {
   "cell_type": "markdown",
   "metadata": {},
   "source": [
    "In copy.copy() creates a shallow copy which means that if there is a nexted list then if the value of inner most list is changed then it will reflect in copy variable as well but if we add element in copy variable (not in nested form) value in copy wont change\n",
    "<br>\n",
    "```\n",
    "a = [[1,2,3],5,6]\n",
    "b = a.copy()\n",
    "b[1] = 9\n",
    "b[0][1] = 10\n",
    "\n",
    "print(a,b)\n",
    "\n",
    "output:\n",
    "a :[[1,10,3],5,6]\n",
    "b :[[1,10,3],9,6]\n",
    "\n",
    "```\n",
    "in deep copy it creates an actual copy which means any variable change in copy wont affect original and vice versa\n",
    "<br>example\n",
    "```\n",
    "import copy\n",
    "a = [[1,2,3],5,6]\n",
    "b = copy.deepcopy(a)\n",
    "b[1] = 9\n",
    "b[0][1] = 10\n",
    "\n",
    "print(a,b)\n",
    "\n",
    "output:\n",
    "a :[[1,2,3],5,6]\n",
    "b :[[1,10,3],9,6]\n",
    "\n",
    "```\n"
   ]
  }
 ],
 "metadata": {
  "kernelspec": {
   "display_name": "gpu",
   "language": "python",
   "name": "gpu"
  },
  "language_info": {
   "codemirror_mode": {
    "name": "ipython",
    "version": 3
   },
   "file_extension": ".py",
   "mimetype": "text/x-python",
   "name": "python",
   "nbconvert_exporter": "python",
   "pygments_lexer": "ipython3",
   "version": "3.7.9"
  },
  "varInspector": {
   "cols": {
    "lenName": 16,
    "lenType": 16,
    "lenVar": 40
   },
   "kernels_config": {
    "python": {
     "delete_cmd_postfix": "",
     "delete_cmd_prefix": "del ",
     "library": "var_list.py",
     "varRefreshCmd": "print(var_dic_list())"
    },
    "r": {
     "delete_cmd_postfix": ") ",
     "delete_cmd_prefix": "rm(",
     "library": "var_list.r",
     "varRefreshCmd": "cat(var_dic_list()) "
    }
   },
   "types_to_exclude": [
    "module",
    "function",
    "builtin_function_or_method",
    "instance",
    "_Feature"
   ],
   "window_display": false
  }
 },
 "nbformat": 4,
 "nbformat_minor": 4
}
