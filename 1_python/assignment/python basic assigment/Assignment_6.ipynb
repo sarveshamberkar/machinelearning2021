{
 "cells": [
  {
   "cell_type": "markdown",
   "metadata": {},
   "source": [
    "## Question 1\n",
    "1. What are escape characters, and how do you use them?"
   ]
  },
  {
   "cell_type": "markdown",
   "metadata": {},
   "source": [
    "### Answer\n",
    "Some characters are not allowed in string. example double inverted are not allowed when string is wrapped in double qoutes.In this case we use ( \\\" ).<br>\n",
    "some string characters are :<br>\n",
    "* \\n : To move cursor on next line in a string\n",
    "* \\t : It gives a tab space in a string\n",
    "* \\\\ : to give a backslash in string\n",
    "\n",
    "example:\n",
    "```\n",
    "print(\"C:\\\\user\\\\python\")\n",
    "output:\n",
    "C:\\user\\python\n",
    "```"
   ]
  },
  {
   "cell_type": "markdown",
   "metadata": {},
   "source": [
    "## Question 2\n",
    "2. What do the escape characters n and t stand for?"
   ]
  },
  {
   "cell_type": "markdown",
   "metadata": {},
   "source": [
    "### Answer\n",
    "* \\n : To move cursor on next line in a string\n",
    "* \\t : It gives a tab space in a string"
   ]
  },
  {
   "cell_type": "markdown",
   "metadata": {},
   "source": [
    "## Question 3\n",
    "3. What is the way to include backslash characters in a string?"
   ]
  },
  {
   "cell_type": "markdown",
   "metadata": {},
   "source": [
    "### Answer\n",
    "we can add double backslash in the string it self\n",
    "example:\n",
    "```\n",
    "print(\"I will have oranges\\\\apples\")\n",
    "output:\n",
    "I will have oranges\\apples\n",
    "```"
   ]
  },
  {
   "cell_type": "markdown",
   "metadata": {},
   "source": [
    "## Question 4\n",
    "4. The string &quot;Howl&#39;s Moving Castle&quot; is a correct value. Why isn&#39;t the single quote character in the\n",
    "word Howl&#39;s not escaped a problem?"
   ]
  },
  {
   "cell_type": "markdown",
   "metadata": {},
   "source": [
    "### Answer\n",
    "As string is wraped in double qoutes using single qoutes does not end the string. therefore in this case howl' is using single qoutes"
   ]
  },
  {
   "cell_type": "markdown",
   "metadata": {},
   "source": [
    "## Question 5\n",
    "5. How do you write a string of newlines if you don&#39;t want to use the n character?"
   ]
  },
  {
   "cell_type": "markdown",
   "metadata": {},
   "source": [
    "### Answer\n",
    "writing message in multiple print statement or using multiline string which is enclosed in three double/single inverted comma"
   ]
  },
  {
   "cell_type": "markdown",
   "metadata": {},
   "source": [
    "## Question 6\n",
    "6. What are the values of the given expressions?<br>\n",
    "* &#39;Hello, world!&#39;[1]\n",
    "* &#39;Hello, world!&#39;[0:5]\n",
    "* &#39;Hello, world!&#39;[:5]\n",
    "* &#39;Hello, world!&#39;[3:]"
   ]
  },
  {
   "cell_type": "markdown",
   "metadata": {},
   "source": [
    "### Answer\n",
    "* 'e'\n",
    "* 'Hello'\n",
    "* 'Hello'\n",
    "* 'lo, world!'"
   ]
  },
  {
   "cell_type": "markdown",
   "metadata": {},
   "source": [
    "## Question 7\n",
    "7. What are the values of the following expressions?<br>\n",
    "* &#39;Hello&#39;.upper()\n",
    "* &#39;Hello&#39;.upper().isupper()\n",
    "* &#39;Hello&#39;.upper().lower()"
   ]
  },
  {
   "cell_type": "markdown",
   "metadata": {},
   "source": [
    "### Answer\n",
    "* 'HELLO'\n",
    "* True\n",
    "* 'hello'"
   ]
  },
  {
   "cell_type": "markdown",
   "metadata": {},
   "source": [
    "## Question 8\n",
    "8. What are the values of the following expressions?<br>\n",
    "* &#39;Remember, remember, the fifth of July.&#39;.split()\n",
    "* &#39;-&#39;.join(&#39;There can only one.&#39;.split())"
   ]
  },
  {
   "cell_type": "markdown",
   "metadata": {},
   "source": [
    "### Answer\n",
    "* ['Remember, remember', 'the' ,'fifth' ,'of', 'July.']\n",
    "* 'There-can-only-one.' this is separator.join(array)"
   ]
  },
  {
   "cell_type": "markdown",
   "metadata": {},
   "source": [
    "## Question 9\n",
    "9. What are the methods for right-justifying, left-justifying, and centering a string?"
   ]
  },
  {
   "cell_type": "markdown",
   "metadata": {},
   "source": [
    "### Answer\n",
    "* str.ljust(width,fillchar = ' ') for left justifying\n",
    "* str.rjust(width,fillchar = ' ') for right justifying\n",
    "* str.center(width,fillchar = ' ') for centering the string"
   ]
  },
  {
   "cell_type": "markdown",
   "metadata": {},
   "source": [
    "## Question 10\n",
    "10. What is the best way to remove whitespace characters from the start or end?"
   ]
  },
  {
   "cell_type": "markdown",
   "metadata": {},
   "source": [
    "### Answer\n",
    "* using the STRING.strip() function which removes whitespace in beginning and end\n",
    "```\n",
    "test = '  sarvesh  '\n",
    "test.strip()\n",
    "output\n",
    "'sarvesh'\n",
    "```"
   ]
  }
 ],
 "metadata": {
  "kernelspec": {
   "display_name": "gpu",
   "language": "python",
   "name": "gpu"
  },
  "language_info": {
   "codemirror_mode": {
    "name": "ipython",
    "version": 3
   },
   "file_extension": ".py",
   "mimetype": "text/x-python",
   "name": "python",
   "nbconvert_exporter": "python",
   "pygments_lexer": "ipython3",
   "version": "3.7.9"
  },
  "varInspector": {
   "cols": {
    "lenName": 16,
    "lenType": 16,
    "lenVar": 40
   },
   "kernels_config": {
    "python": {
     "delete_cmd_postfix": "",
     "delete_cmd_prefix": "del ",
     "library": "var_list.py",
     "varRefreshCmd": "print(var_dic_list())"
    },
    "r": {
     "delete_cmd_postfix": ") ",
     "delete_cmd_prefix": "rm(",
     "library": "var_list.r",
     "varRefreshCmd": "cat(var_dic_list()) "
    }
   },
   "types_to_exclude": [
    "module",
    "function",
    "builtin_function_or_method",
    "instance",
    "_Feature"
   ],
   "window_display": false
  }
 },
 "nbformat": 4,
 "nbformat_minor": 4
}
