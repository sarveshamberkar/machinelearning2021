{
 "cells": [
  {
   "cell_type": "markdown",
   "metadata": {},
   "source": [
    "## Question 1\n",
    "1. What are the two values of the Boolean data type? How do you write them?"
   ]
  },
  {
   "cell_type": "markdown",
   "metadata": {},
   "source": [
    "### Answer \n",
    "Two value in boolean data type is True and False<br>\n",
    "we write them as True and False (first letter is capital)<br>\n",
    "In python true acts like 1 and false acts like 0"
   ]
  },
  {
   "cell_type": "markdown",
   "metadata": {},
   "source": [
    "## Question 2\n",
    "2. What are the three different types of Boolean operators?"
   ]
  },
  {
   "cell_type": "markdown",
   "metadata": {},
   "source": [
    "### Answer\n",
    "Three types are :\n",
    "* and \n",
    "* or \n",
    "* not\n"
   ]
  },
  {
   "cell_type": "markdown",
   "metadata": {},
   "source": [
    "## Question 3\n",
    "3. Make a list of each Boolean operator&#39;s truth tables (i.e. every possible combination of Boolean values for the operator and what it evaluate )."
   ]
  },
  {
   "cell_type": "markdown",
   "metadata": {},
   "source": [
    "### answer\n",
    "<h6>AND</h6>\n",
    "<table>\n",
    "    <tr>\n",
    "        <th>var1</th>\n",
    "        <th>var2</th>\n",
    "        <th>O/P</th>\n",
    "    </tr>\n",
    "    <tr>\n",
    "        <td>true</td>\n",
    "        <td>true</td>\n",
    "        <td>true</td>\n",
    "    </tr>\n",
    "    <tr>\n",
    "        <td>true</td>\n",
    "        <td>false</td>\n",
    "        <td>false</td>\n",
    "    </tr>\n",
    "    <tr>\n",
    "        <td>false</td>\n",
    "        <td>true</td>\n",
    "        <td>false</td>\n",
    "    </tr>\n",
    "    <tr>\n",
    "        <td>false</td>\n",
    "        <td>false</td>\n",
    "        <td>false</td>\n",
    "    </tr>\n",
    "</table>\n",
    "\n",
    "\n",
    "###### OR\n",
    "<table>\n",
    "    <tr>\n",
    "        <th>var1</th>\n",
    "        <th>var2</th>\n",
    "        <th>O/P</th>\n",
    "    </tr>\n",
    "    <tr>\n",
    "        <td>true</td>\n",
    "        <td>true</td>\n",
    "        <td>true</td>\n",
    "    </tr>\n",
    "    <tr>\n",
    "        <td>true</td>\n",
    "        <td>false</td>\n",
    "        <td>true</td>\n",
    "    </tr>\n",
    "    <tr>\n",
    "        <td>false</td>\n",
    "        <td>true</td>\n",
    "        <td>true</td>\n",
    "    </tr>\n",
    "    <tr>\n",
    "        <td>false</td>\n",
    "        <td>false</td>\n",
    "        <td>false</td>\n",
    "    </tr>\n",
    "</table>\n",
    "\n",
    "###### NOT\n",
    "\n",
    "\n",
    "<table>\n",
    "    <tr>\n",
    "        <th>var1</th>\n",
    "        <th>O/P</th>\n",
    "    </tr>\n",
    "    <tr>\n",
    "        <td>true</td>\n",
    "        <td>false</td>\n",
    "    </tr>\n",
    "    <tr>\n",
    "        <td>false</td>\n",
    "        <td>true</td>\n",
    "    </table>\n"
   ]
  },
  {
   "cell_type": "markdown",
   "metadata": {},
   "source": [
    "## Question 4\n",
    "What are the values of the following expressions?<br>\n",
    "1. (5 &gt; 4) and (3 == 5)<br>\n",
    "2. not (5 &gt; 4)<br>\n",
    "3. (5 &gt; 4) or (3 == 5)<br>\n",
    "4. not ((5 &gt; 4) or (3 == 5))<br>\n",
    "5. (True and True) and (True == False)<br>\n",
    "6. (not False) or (not True)<br>"
   ]
  },
  {
   "cell_type": "markdown",
   "metadata": {},
   "source": [
    "### Answer\n",
    "1. False\n",
    "2. False\n",
    "3. True\n",
    "4. False\n",
    "5. False\n",
    "6. True"
   ]
  },
  {
   "cell_type": "markdown",
   "metadata": {},
   "source": [
    "## Question 5\n",
    "What are the six comparison operators?"
   ]
  },
  {
   "cell_type": "markdown",
   "metadata": {},
   "source": [
    "### Answer\n",
    "== if the values on either side of the operator are equal then it returns True else false<br>\n",
    "'<'  if value on the left is smaller than value on right then it returns True else False<br>\n",
    "'>'  if value on the right is smaller than value on left then it returns True else False<br>\n",
    "'<=' if value on the left is smaller or equal to value on right then it returns True else False<br>\n",
    "'>=' if value on the right is smaller or equal to value on left then it returns True else False<br>\n",
    "'!=' if the values on either side of the operator are not equal then it returns True else false<br>"
   ]
  },
  {
   "cell_type": "markdown",
   "metadata": {},
   "source": [
    "## Question 6 \n",
    "How do you tell the difference between the equal to and assignment operators?Describe a\n",
    "condition and when you would use one."
   ]
  },
  {
   "cell_type": "markdown",
   "metadata": {},
   "source": [
    "### Answer\n",
    "If we want to store a value/data into a variable then we will use assignment operator, this is an statement not an expression this means it won't return any value<br>\n",
    "```\n",
    "example\n",
    "a = 5\n",
    "b = 6 \n",
    "a = b  # value of b stored in a \n",
    "```\n",
    "if we want to evaluate if two values are equal then we will use equal to operator.This an expression which returns True when both are equal else it return false"
   ]
  },
  {
   "cell_type": "markdown",
   "metadata": {},
   "source": [
    "## Question 7\n",
    "Identify the three blocks in this code:<br>\n",
    "spam = 0<br>\n",
    "if spam == 10:<br>\n",
    "print(&#39;eggs&#39;)<br>\n",
    "if spam &gt; 5:<br>\n",
    "print(&#39;bacon&#39;)<br>\n",
    "else:<br>\n",
    "print(&#39;ham&#39;)<br>\n",
    "print(&#39;spam&#39;)<br>\n",
    "print(&#39;spam&#39;)<br>"
   ]
  },
  {
   "cell_type": "markdown",
   "metadata": {},
   "source": [
    "### Answer\n",
    "```\n",
    "1. spam = 0\n",
    "\n",
    "\n",
    "2. if spam == 10:\n",
    "3.    print('eggs')\n",
    "\n",
    "\n",
    "\n",
    "4. if spam > 5:\n",
    "5.    print('bacon')\n",
    "\n",
    "\n",
    "6. else:\n",
    "7.    print('ham')\n",
    "8.    print('spam')\n",
    "9.    print('spam')\n",
    "```\n",
    "2-3 block 1<br>\n",
    "4-5 block 21<br>\n",
    "6-9 block 31<br>"
   ]
  },
  {
   "cell_type": "markdown",
   "metadata": {},
   "source": [
    "## Question 8\n",
    "Write code that prints Hello if 1 is stored in spam, prints Howdy if 2 is stored in spam, and prints\n",
    "Greetings! if anything else is stored in spam."
   ]
  },
  {
   "cell_type": "code",
   "execution_count": 6,
   "metadata": {},
   "outputs": [
    {
     "name": "stdout",
     "output_type": "stream",
     "text": [
      "enter number2\n",
      "Howdy\n"
     ]
    }
   ],
   "source": [
    "spam = input('enter number')\n",
    "if (spam == '1'):\n",
    "    print('Hello')\n",
    "elif (spam == '2'):\n",
    "    print('Howdy')\n",
    "else:\n",
    "    print('Greetings!')"
   ]
  },
  {
   "cell_type": "markdown",
   "metadata": {},
   "source": [
    "## Question 9\n",
    "If your programme is stuck in an endless loop, what keys you’ll press?"
   ]
  },
  {
   "cell_type": "markdown",
   "metadata": {},
   "source": [
    "### Answer\n",
    "In Jupyter Notebook I can press <b>'i' key twice to interrupt</b> and If the python is running in terminal i can press <b>ctrl+c to interrupt</b>"
   ]
  },
  {
   "cell_type": "markdown",
   "metadata": {},
   "source": [
    "## Question 10\n",
    "How can you tell the difference between break and continue?"
   ]
  },
  {
   "cell_type": "markdown",
   "metadata": {},
   "source": [
    "### Answer\n",
    "Break statement : when break statement is encountered in a loop it doesnt  excutes next command and iterations\n",
    "<br>example:\n",
    "```\n",
    "for i in range(5):\n",
    "    print(i)\n",
    "    if i==3:\n",
    "        break\n",
    " \n",
    "\n",
    "OUTPUT: 0\n",
    "        1 \n",
    "        2\n",
    "        3\n",
    "```\n",
    "continue statement : when continue statement is encountered in a loop it skips all commands after continue statement for that iteration.\n",
    "<br> Example\n",
    "```\n",
    "for i in range(5):\n",
    "    print(i)\n",
    "    if i==3:\n",
    "        continue\n",
    "\n",
    "OUTPUT 0\n",
    "       1\n",
    "       2\n",
    "       4\n",
    "       5\n",
    "```\n"
   ]
  },
  {
   "cell_type": "markdown",
   "metadata": {},
   "source": [
    "## Question 11\n",
    "In a for loop, what is the difference between range(10), range(0, 10), and range(0, 10, 1)?"
   ]
  },
  {
   "cell_type": "markdown",
   "metadata": {},
   "source": [
    "### Answer\n",
    "* range fuction return an generator<br>\n",
    "* range function takes 3 arguments range(start, end , step) in which number specified in end parameter is excluded, default values of start is 0 and default value of step is 1<br>\n",
    "* range(10), range(0, 10), and range(0, 10, 1) generates same output<br>\n"
   ]
  },
  {
   "cell_type": "markdown",
   "metadata": {},
   "source": [
    "## Question 12\n",
    "Write a short program that prints the numbers 1 to 10 using a for loop. Then write an equivalent\n",
    "program that prints the numbers 1 to 10 using a while loop."
   ]
  },
  {
   "cell_type": "markdown",
   "metadata": {},
   "source": [
    "### Answer \n"
   ]
  },
  {
   "cell_type": "code",
   "execution_count": 3,
   "metadata": {},
   "outputs": [
    {
     "name": "stdout",
     "output_type": "stream",
     "text": [
      "1\n",
      "2\n",
      "3\n",
      "4\n",
      "5\n",
      "6\n",
      "7\n",
      "8\n",
      "9\n",
      "10\n"
     ]
    }
   ],
   "source": [
    "for i in range(1,11,1):\n",
    "    print(i)\n"
   ]
  },
  {
   "cell_type": "code",
   "execution_count": 4,
   "metadata": {},
   "outputs": [
    {
     "name": "stdout",
     "output_type": "stream",
     "text": [
      "1\n",
      "2\n",
      "3\n",
      "4\n",
      "5\n",
      "6\n",
      "7\n",
      "8\n",
      "9\n",
      "10\n"
     ]
    }
   ],
   "source": [
    "i= 1\n",
    "while (i<=10):\n",
    "    print(i)\n",
    "    i+=1"
   ]
  },
  {
   "cell_type": "markdown",
   "metadata": {},
   "source": [
    "## Question 13\n",
    "If you had a function named bacon() inside a module named spam, how would you call it after\n",
    "importing spam?"
   ]
  },
  {
   "cell_type": "code",
   "execution_count": 1,
   "metadata": {},
   "outputs": [
    {
     "name": "stdout",
     "output_type": "stream",
     "text": [
      "this is python script direct import\n"
     ]
    }
   ],
   "source": [
    "# spams.py -> bacon()\n",
    "import spams \n",
    "spams.bacon()"
   ]
  },
  {
   "cell_type": "code",
   "execution_count": 2,
   "metadata": {},
   "outputs": [
    {
     "name": "stdout",
     "output_type": "stream",
     "text": [
      "hello world\n"
     ]
    }
   ],
   "source": [
    "# spam.py contains bacon fuction which returns hello world, spam.py is in spam123 folder\n",
    "# spam123->spam.py->bacon\n",
    "from spam123 import spam\n",
    "spam.bacon()"
   ]
  },
  {
   "cell_type": "code",
   "execution_count": null,
   "metadata": {},
   "outputs": [],
   "source": []
  }
 ],
 "metadata": {
  "kernelspec": {
   "display_name": "gpu",
   "language": "python",
   "name": "gpu"
  },
  "language_info": {
   "codemirror_mode": {
    "name": "ipython",
    "version": 3
   },
   "file_extension": ".py",
   "mimetype": "text/x-python",
   "name": "python",
   "nbconvert_exporter": "python",
   "pygments_lexer": "ipython3",
   "version": "3.7.9"
  },
  "varInspector": {
   "cols": {
    "lenName": 16,
    "lenType": 16,
    "lenVar": 40
   },
   "kernels_config": {
    "python": {
     "delete_cmd_postfix": "",
     "delete_cmd_prefix": "del ",
     "library": "var_list.py",
     "varRefreshCmd": "print(var_dic_list())"
    },
    "r": {
     "delete_cmd_postfix": ") ",
     "delete_cmd_prefix": "rm(",
     "library": "var_list.r",
     "varRefreshCmd": "cat(var_dic_list()) "
    }
   },
   "types_to_exclude": [
    "module",
    "function",
    "builtin_function_or_method",
    "instance",
    "_Feature"
   ],
   "window_display": false
  }
 },
 "nbformat": 4,
 "nbformat_minor": 4
}
