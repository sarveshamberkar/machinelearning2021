{
 "cells": [
  {
   "cell_type": "markdown",
   "metadata": {},
   "source": [
    "## Question 1\n",
    "1. How do you distinguish between shutil.copy() and shutil.copytree()?"
   ]
  },
  {
   "cell_type": "markdown",
   "metadata": {},
   "source": [
    "### Answer\n",
    "shutil.copy() copies only a single file and return path of copied file where as shutil.copytree() copies entire folder"
   ]
  },
  {
   "cell_type": "markdown",
   "metadata": {},
   "source": [
    "## Question 2\n",
    "2. What function is used to rename files??"
   ]
  },
  {
   "cell_type": "markdown",
   "metadata": {},
   "source": [
    "### Answer\n",
    "os.rename() renames file or directory specified.  parameter are scr and des"
   ]
  },
  {
   "cell_type": "markdown",
   "metadata": {},
   "source": [
    "## Question 3\n",
    "3. What is the difference between the delete functions in the send2trash and shutil modules?"
   ]
  },
  {
   "cell_type": "markdown",
   "metadata": {},
   "source": [
    "### Answer\n",
    "delete function in shutil deletes file permenantly and is irreversible. usinf send2Trash delete is save to use as it send the file to recycle bin or trash of the computer"
   ]
  },
  {
   "cell_type": "markdown",
   "metadata": {},
   "source": [
    "## Question 4\n",
    "4.ZipFile objects have a close() method just like File objects’ close() method. What ZipFile method is\n",
    "equivalent to File objects’ open() method?"
   ]
  },
  {
   "cell_type": "markdown",
   "metadata": {},
   "source": [
    "### Answer\n",
    "zipfile.ZipFile() is similar to open in python"
   ]
  },
  {
   "cell_type": "markdown",
   "metadata": {},
   "source": [
    "## Question 5\n",
    "5. Create a programme that searches a folder tree for files with a certain file extension (such as .pdf\n",
    "or .jpg). Copy these files from whatever location they are in to a new folder."
   ]
  },
  {
   "cell_type": "markdown",
   "metadata": {},
   "source": [
    "### Answer\n"
   ]
  },
  {
   "cell_type": "code",
   "execution_count": 19,
   "metadata": {},
   "outputs": [
    {
     "data": {
      "text/plain": [
       "['D:/machine_learning2021/machinelearning2021/1_python/assignment/python basic assigment/copied\\\\spams.py',\n",
       " 'D:/machine_learning2021/machinelearning2021/1_python/assignment/python basic assigment/copied\\\\spam.py',\n",
       " 'D:/machine_learning2021/machinelearning2021/1_python/assignment/python basic assigment/copied\\\\test.py',\n",
       " 'D:/machine_learning2021/machinelearning2021/1_python/assignment/python basic assigment/copied\\\\employee.py',\n",
       " 'D:/machine_learning2021/machinelearning2021/1_python/assignment/python basic assigment/copied\\\\sample_log.py',\n",
       " 'D:/machine_learning2021/machinelearning2021/1_python/assignment/python basic assigment/copied\\\\mod1.py',\n",
       " 'D:/machine_learning2021/machinelearning2021/1_python/assignment/python basic assigment/copied\\\\mod2.py',\n",
       " 'D:/machine_learning2021/machinelearning2021/1_python/assignment/python basic assigment/copied\\\\mod3.py',\n",
       " 'D:/machine_learning2021/machinelearning2021/1_python/assignment/python basic assigment/copied\\\\selftest.py',\n",
       " 'D:/machine_learning2021/machinelearning2021/1_python/assignment/python basic assigment/copied\\\\advance_pt1.py',\n",
       " 'D:/machine_learning2021/machinelearning2021/1_python/assignment/python basic assigment/copied\\\\advance_pt2.py',\n",
       " 'D:/machine_learning2021/machinelearning2021/1_python/assignment/python basic assigment/copied\\\\file_object.py',\n",
       " 'D:/machine_learning2021/machinelearning2021/1_python/assignment/python basic assigment/copied\\\\list_bool_variables.py',\n",
       " 'D:/machine_learning2021/machinelearning2021/1_python/assignment/python basic assigment/copied\\\\nmpy_pandas_practice.py',\n",
       " 'D:/machine_learning2021/machinelearning2021/1_python/assignment/python basic assigment/copied\\\\outlier.py',\n",
       " 'D:/machine_learning2021/machinelearning2021/1_python/assignment/python basic assigment/copied\\\\DecisionTree_hold-outset.py',\n",
       " 'D:/machine_learning2021/machinelearning2021/1_python/assignment/python basic assigment/copied\\\\DicisionTreeAccracy.jpg',\n",
       " 'D:/machine_learning2021/machinelearning2021/1_python/assignment/python basic assigment/copied\\\\manage.py',\n",
       " 'D:/machine_learning2021/machinelearning2021/1_python/assignment/python basic assigment/copied\\\\admin.py',\n",
       " 'D:/machine_learning2021/machinelearning2021/1_python/assignment/python basic assigment/copied\\\\apps.py',\n",
       " 'D:/machine_learning2021/machinelearning2021/1_python/assignment/python basic assigment/copied\\\\models.py',\n",
       " 'D:/machine_learning2021/machinelearning2021/1_python/assignment/python basic assigment/copied\\\\tests.py',\n",
       " 'D:/machine_learning2021/machinelearning2021/1_python/assignment/python basic assigment/copied\\\\urls.py',\n",
       " 'D:/machine_learning2021/machinelearning2021/1_python/assignment/python basic assigment/copied\\\\views.py',\n",
       " 'D:/machine_learning2021/machinelearning2021/1_python/assignment/python basic assigment/copied\\\\__init__.py',\n",
       " 'D:/machine_learning2021/machinelearning2021/1_python/assignment/python basic assigment/copied\\\\asgi.py',\n",
       " 'D:/machine_learning2021/machinelearning2021/1_python/assignment/python basic assigment/copied\\\\settings.py',\n",
       " 'D:/machine_learning2021/machinelearning2021/1_python/assignment/python basic assigment/copied\\\\wsgi.py',\n",
       " 'D:/machine_learning2021/machinelearning2021/1_python/assignment/python basic assigment/copied\\\\ExploratoryDataAnalysis.py',\n",
       " 'D:/machine_learning2021/machinelearning2021/1_python/assignment/python basic assigment/copied\\\\BivariantExample.jpg',\n",
       " 'D:/machine_learning2021/machinelearning2021/1_python/assignment/python basic assigment/copied\\\\MultivariantExample.jpg',\n",
       " 'D:/machine_learning2021/machinelearning2021/1_python/assignment/python basic assigment/copied\\\\UnivariantExample.jpg',\n",
       " 'D:/machine_learning2021/machinelearning2021/1_python/assignment/python basic assigment/copied\\\\app.py',\n",
       " 'D:/machine_learning2021/machinelearning2021/1_python/assignment/python basic assigment/copied\\\\leg_raise.mp4',\n",
       " 'D:/machine_learning2021/machinelearning2021/1_python/assignment/python basic assigment/copied\\\\side_bend.mp4',\n",
       " 'D:/machine_learning2021/machinelearning2021/1_python/assignment/python basic assigment/copied\\\\squats.mp4',\n",
       " 'D:/machine_learning2021/machinelearning2021/1_python/assignment/python basic assigment/copied\\\\squats_Trim.mp4',\n",
       " 'D:/machine_learning2021/machinelearning2021/1_python/assignment/python basic assigment/copied\\\\National_Emblem_India.jpg',\n",
       " 'D:/machine_learning2021/machinelearning2021/1_python/assignment/python basic assigment/copied\\\\prj1.py']"
      ]
     },
     "execution_count": 19,
     "metadata": {},
     "output_type": "execute_result"
    }
   ],
   "source": [
    "import os\n",
    "import shutil\n",
    "\n",
    "\n",
    "def check(files, extension):\n",
    "    for i in files:\n",
    "        for j in extension:\n",
    "            if i.endswith(j):\n",
    "                yield i\n",
    "\n",
    "\n",
    "def SearchnCopy(scr, destination, extension):\n",
    "    copied = []\n",
    "    for dirpath, directories, files in os.walk(scr):\n",
    "        for i in check(files=files, extension=extension):\n",
    "            path = os.path.join(dirpath, i)\n",
    "            dest_path = os.path.join(destination, i)\n",
    "            if not os.path.exists(dest_path):\n",
    "                shutil.copy(path, destination)\n",
    "                copied.append(dest_path)\n",
    "    return copied\n",
    "\n",
    "scr = 'D:/machine_learning2021/machinelearning2021/'\n",
    "dest = 'D:/machine_learning2021/machinelearning2021/1_python/assignment/python basic assigment/copied'\n",
    "SearchnCopy(scr, dest, ['.jpg', '.mp4','.py'])"
   ]
  },
  {
   "cell_type": "code",
   "execution_count": null,
   "metadata": {},
   "outputs": [],
   "source": []
  }
 ],
 "metadata": {
  "kernelspec": {
   "display_name": "gpu",
   "language": "python",
   "name": "gpu"
  },
  "language_info": {
   "codemirror_mode": {
    "name": "ipython",
    "version": 3
   },
   "file_extension": ".py",
   "mimetype": "text/x-python",
   "name": "python",
   "nbconvert_exporter": "python",
   "pygments_lexer": "ipython3",
   "version": "3.7.9"
  },
  "varInspector": {
   "cols": {
    "lenName": 16,
    "lenType": 16,
    "lenVar": 40
   },
   "kernels_config": {
    "python": {
     "delete_cmd_postfix": "",
     "delete_cmd_prefix": "del ",
     "library": "var_list.py",
     "varRefreshCmd": "print(var_dic_list())"
    },
    "r": {
     "delete_cmd_postfix": ") ",
     "delete_cmd_prefix": "rm(",
     "library": "var_list.r",
     "varRefreshCmd": "cat(var_dic_list()) "
    }
   },
   "types_to_exclude": [
    "module",
    "function",
    "builtin_function_or_method",
    "instance",
    "_Feature"
   ],
   "window_display": false
  }
 },
 "nbformat": 4,
 "nbformat_minor": 4
}
