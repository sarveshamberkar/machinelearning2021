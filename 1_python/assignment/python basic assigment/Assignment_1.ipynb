{
 "cells": [
  {
   "cell_type": "markdown",
   "metadata": {},
   "source": [
    "# Assignment 1\n",
    "## Question 1"
   ]
  },
  {
   "cell_type": "markdown",
   "metadata": {},
   "source": [
    "In the below elements which of them are values or an expression? eg:- values can be\n",
    "integer or string and expressions will be mathematical operators.<br>\n",
    "*<br>\n",
    "&#39;hello&#39;<br>\n",
    "-87.8<br>\n",
    "-<br>\n",
    "/<br>\n",
    "+<br>\n",
    "6<br>"
   ]
  },
  {
   "cell_type": "markdown",
   "metadata": {},
   "source": [
    "### Answer\n",
    "1. <span>*</span> : expression (multiplication operator) <br>\n",
    "<br>\n",
    "2. <span>hello </span>; : value (type = string (str)) <br><br>\n",
    "3. <span>-87.8</span> : value (type = float)<br><br>\n",
    "4. <span>-</span> : expression( substraction operator)<br><br>\n",
    "5. <span>/</span> : expression(division operator)<br><br>\n",
    "6. <span>+</span> :expression(addition operator)<br><br>\n",
    "7. <span>6 </span>: value (type = int)<br><br>\n",
    "\n",
    "\n"
   ]
  },
  {
   "cell_type": "markdown",
   "metadata": {},
   "source": [
    "## Question 2\n",
    "2. What is the difference between string and variable?"
   ]
  },
  {
   "cell_type": "markdown",
   "metadata": {},
   "source": [
    "## answer\n"
   ]
  },
  {
   "cell_type": "markdown",
   "metadata": {},
   "source": [
    "variable is a container which holds value/data. when variable is assigned memory allocated in RAM which can accessed by variable  name (identifier).\n",
    "<br><br>String is a data type in Programming language which is composed of characters or sequence of characters in single/double quotes, any value inside single or double quotes is string data type in python <br>\n"
   ]
  },
  {
   "cell_type": "markdown",
   "metadata": {},
   "source": [
    "## Question 3"
   ]
  },
  {
   "cell_type": "markdown",
   "metadata": {},
   "source": [
    "3. Describe three different data types."
   ]
  },
  {
   "cell_type": "markdown",
   "metadata": {},
   "source": [
    "### Answer\n",
    "\n",
    "* Integer(int): data type able to hold both positive or negative whole number.if an decimal number is assigned it is converted to whole number excuding decimal part of the value(value is not rounded,it is floored)<br><br>\n",
    "* Float(float): data type able to hold both positive or negative decimal number, if an whole number is assigned it is converted in decimal.<br><br>\n",
    "* string(str): data type able to any textual/character data which is enclosed in single/double quotes \n"
   ]
  },
  {
   "cell_type": "markdown",
   "metadata": {},
   "source": [
    "## Question 4"
   ]
  },
  {
   "cell_type": "markdown",
   "metadata": {},
   "source": [
    "What is an expression made up of? What do all expressions do?"
   ]
  },
  {
   "cell_type": "markdown",
   "metadata": {},
   "source": [
    "### Answer\n",
    "* Expression is made up of variables, values, operators which after evaluation returns atleast one value\n",
    "<br>example 5+4\n",
    "<br>900*7\n",
    "\n",
    "\n"
   ]
  },
  {
   "cell_type": "markdown",
   "metadata": {},
   "source": [
    "## Question 5"
   ]
  },
  {
   "cell_type": "markdown",
   "metadata": {},
   "source": [
    "5. This assignment statements, like spam = 10. What is the difference between an expression and a statement?"
   ]
  },
  {
   "cell_type": "markdown",
   "metadata": {},
   "source": [
    "### Answer\n",
    "* Expression is made up of variables, values, operators which after evaluation returns atleast one value\n",
    "<br>example <br>5+4\n",
    "<br>900*7\n",
    "* statment are command/code which we write but it doesnt return any value.\n",
    "<br>example a= 5*25\n",
    "<br>break\n",
    "<br>continue\n"
   ]
  },
  {
   "cell_type": "markdown",
   "metadata": {},
   "source": [
    "## Question 6"
   ]
  },
  {
   "cell_type": "markdown",
   "metadata": {},
   "source": [
    "6. After running the following code, what does the variable bacon contain?\n",
    "bacon = 22\n",
    "bacon + 1"
   ]
  },
  {
   "cell_type": "markdown",
   "metadata": {},
   "source": [
    "### Answer\n",
    "value is 22 ,bacon + 1 is an expression, it does not assigns any value back to bacon after increment"
   ]
  },
  {
   "cell_type": "markdown",
   "metadata": {},
   "source": [
    "## Question 7\n",
    "7. What should the values of the following two terms be?\n",
    "<br>&#39;spam&#39; + &#39;spamspam&#39;<br>\n",
    "&#39;spam&#39; * 3<br>"
   ]
  },
  {
   "cell_type": "markdown",
   "metadata": {},
   "source": [
    "### Answer\n",
    "Value of both is 'spamspamspam' "
   ]
  },
  {
   "cell_type": "markdown",
   "metadata": {},
   "source": [
    "## Question 8\n",
    "8. Why is eggs a valid variable name while 100 is invalid?"
   ]
  },
  {
   "cell_type": "markdown",
   "metadata": {},
   "source": [
    "### Answer\n",
    "There are set of rule difining a variable name <br>\n",
    "* variable name must begin with Aa-Zz or Underscore '_' \n",
    "* variable name cannot begin with with digit \n",
    "* variable name is composed of combination of Aa-Zz character [0-9] numbers and '_' underscore(only underscore symbol is allowed)"
   ]
  },
  {
   "cell_type": "markdown",
   "metadata": {},
   "source": [
    "## Question 9\n",
    "9. What three functions can be used to get the integer, floating-point number, or string version of a value?"
   ]
  },
  {
   "cell_type": "markdown",
   "metadata": {},
   "source": [
    "### Answer\n",
    " To take input from user we use input which by default accepts in string format <br>\n",
    " * to convert to int type we use int()<br>\n",
    " * to convert to float type we use float()<br>\n",
    " * to convert to int type we use str()<br>"
   ]
  },
  {
   "cell_type": "markdown",
   "metadata": {},
   "source": [
    "## Question 10\n",
    "10. Why does this expression cause an error? How can you fix it?\n",
    "&#39;I have eaten &#39; + 99 + &#39; burritos.&#39;"
   ]
  },
  {
   "cell_type": "markdown",
   "metadata": {},
   "source": [
    "### Answer\n",
    "we cannot concat string and integer because of which it will throw an error <br>\n",
    "we can convert number to string using str() function<br>\n",
    "example 'i have eaten'+str(99)+'burritos'"
   ]
  },
  {
   "cell_type": "code",
   "execution_count": null,
   "metadata": {},
   "outputs": [],
   "source": []
  }
 ],
 "metadata": {
  "kernelspec": {
   "display_name": "gpu",
   "language": "python",
   "name": "gpu"
  },
  "language_info": {
   "codemirror_mode": {
    "name": "ipython",
    "version": 3
   },
   "file_extension": ".py",
   "mimetype": "text/x-python",
   "name": "python",
   "nbconvert_exporter": "python",
   "pygments_lexer": "ipython3",
   "version": "3.7.9"
  },
  "varInspector": {
   "cols": {
    "lenName": 16,
    "lenType": 16,
    "lenVar": 40
   },
   "kernels_config": {
    "python": {
     "delete_cmd_postfix": "",
     "delete_cmd_prefix": "del ",
     "library": "var_list.py",
     "varRefreshCmd": "print(var_dic_list())"
    },
    "r": {
     "delete_cmd_postfix": ") ",
     "delete_cmd_prefix": "rm(",
     "library": "var_list.r",
     "varRefreshCmd": "cat(var_dic_list()) "
    }
   },
   "types_to_exclude": [
    "module",
    "function",
    "builtin_function_or_method",
    "instance",
    "_Feature"
   ],
   "window_display": false
  }
 },
 "nbformat": 4,
 "nbformat_minor": 4
}
