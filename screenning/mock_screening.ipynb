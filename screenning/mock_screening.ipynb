{
 "cells": [
  {
   "cell_type": "markdown",
   "metadata": {},
   "source": [
    "Question 1"
   ]
  },
  {
   "cell_type": "code",
   "execution_count": 11,
   "metadata": {},
   "outputs": [],
   "source": [
    "file_name = 'example.txt' \n",
    "old_content = 'placement'\n",
    "new_content = 'screening'\n",
    "with open(file_name, 'r') as f:\n",
    "    data = f.read()\n",
    "data = data.replace(old_content,new_content)\n",
    "with open(file_name,'w') as f:\n",
    "    f.write(data)"
   ]
  },
  {
   "cell_type": "markdown",
   "metadata": {},
   "source": [
    "Verification"
   ]
  },
  {
   "cell_type": "code",
   "execution_count": 12,
   "metadata": {},
   "outputs": [
    {
     "data": {
      "text/plain": [
       "'This is a screening assignment'"
      ]
     },
     "execution_count": 12,
     "metadata": {},
     "output_type": "execute_result"
    }
   ],
   "source": [
    "with open(file_name, 'r') as f:\n",
    "    data = f.read()\n",
    "    \n",
    "data"
   ]
  },
  {
   "cell_type": "markdown",
   "metadata": {},
   "source": [
    "2.\n",
    "\n",
    "i. Abstract class\n",
    "\n",
    "class containing abstract method is called abstract class. abstract class provide base structure/blueprint which can then be inherited by child class. if a class inherites abstract class it must implement all the abstract method"
   ]
  },
  {
   "cell_type": "code",
   "execution_count": 16,
   "metadata": {},
   "outputs": [
    {
     "name": "stdout",
     "output_type": "stream",
     "text": [
      "hello world\n",
      "new world\n"
     ]
    }
   ],
   "source": [
    "from abc import abstractmethod, ABC\n",
    "\n",
    "class A(ABC):\n",
    "    @abstractmethod\n",
    "    def alpha(self):\n",
    "        raise NotImplementedError()\n",
    "        \n",
    "class B(A):\n",
    "    def __init__(self):\n",
    "        print('hello world')\n",
    "        self.alpha()\n",
    "    def alpha(self):\n",
    "        print('new world')\n",
    "        \n",
    "b = B()"
   ]
  },
  {
   "cell_type": "markdown",
   "metadata": {},
   "source": [
    "ii. multiple inheritance\n",
    "multiple inheritance is way where python can inherit from multiple class. "
   ]
  },
  {
   "cell_type": "code",
   "execution_count": 18,
   "metadata": {},
   "outputs": [
    {
     "name": "stdout",
     "output_type": "stream",
     "text": [
      "this is alpha\n",
      "this is beta\n",
      "this is gamma\n"
     ]
    }
   ],
   "source": [
    "class A:\n",
    "    def alpha(self):\n",
    "        print('this is alpha')\n",
    "        \n",
    "class B:\n",
    "    def beta(self):\n",
    "        print('this is beta')\n",
    "        \n",
    "class G(A,B):\n",
    "    def gamma(self):\n",
    "        self.alpha()\n",
    "        self.beta()\n",
    "        print('this is gamma')\n",
    "        \n",
    "g = G()\n",
    "g.gamma()"
   ]
  },
  {
   "cell_type": "markdown",
   "metadata": {},
   "source": [
    "iii. decorators \n",
    "decorator are used to wrap a function.This means some operation can be performed before and after a function execution.decorators is reusable."
   ]
  },
  {
   "cell_type": "code",
   "execution_count": 25,
   "metadata": {},
   "outputs": [
    {
     "name": "stdout",
     "output_type": "stream",
     "text": [
      "function starts\n",
      "in the function\n",
      "function ends\n"
     ]
    }
   ],
   "source": [
    "def new_decorator(func):\n",
    "    def decorator(*args, **kwargs):\n",
    "        print('function starts')\n",
    "        func(*args, **kwargs)\n",
    "        print('function ends')\n",
    "    return decorator\n",
    "\n",
    "@new_decorator\n",
    "def print_function():\n",
    "    print('in the function')\n",
    "    return \n",
    "print_function()"
   ]
  },
  {
   "cell_type": "code",
   "execution_count": null,
   "metadata": {},
   "outputs": [],
   "source": []
  }
 ],
 "metadata": {
  "kernelspec": {
   "display_name": "Python 3",
   "language": "python",
   "name": "python3"
  },
  "language_info": {
   "codemirror_mode": {
    "name": "ipython",
    "version": 3
   },
   "file_extension": ".py",
   "mimetype": "text/x-python",
   "name": "python",
   "nbconvert_exporter": "python",
   "pygments_lexer": "ipython3",
   "version": "3.7.9"
  },
  "varInspector": {
   "cols": {
    "lenName": 16,
    "lenType": 16,
    "lenVar": 40
   },
   "kernels_config": {
    "python": {
     "delete_cmd_postfix": "",
     "delete_cmd_prefix": "del ",
     "library": "var_list.py",
     "varRefreshCmd": "print(var_dic_list())"
    },
    "r": {
     "delete_cmd_postfix": ") ",
     "delete_cmd_prefix": "rm(",
     "library": "var_list.r",
     "varRefreshCmd": "cat(var_dic_list()) "
    }
   },
   "types_to_exclude": [
    "module",
    "function",
    "builtin_function_or_method",
    "instance",
    "_Feature"
   ],
   "window_display": false
  }
 },
 "nbformat": 4,
 "nbformat_minor": 4
}
